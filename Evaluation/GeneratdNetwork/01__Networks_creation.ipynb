{
 "cells": [
  {
   "cell_type": "code",
   "execution_count": 11,
   "metadata": {},
   "outputs": [],
   "source": [
    "from os.path import join\n",
    "from os import sep, getcwd, chdir\n",
    "import json\n",
    "from tqdm import tqdm\n",
    "from CommunitySizesCreators import RedditCommunitySizesFetcher, NormalCommunitySizesGenerator\n",
    "from AnomalyInfuser import create_experiment_networks"
   ]
  },
  {
   "cell_type": "code",
   "execution_count": 3,
   "metadata": {},
   "outputs": [],
   "source": [
    "# Imports from parent directory\n",
    "original_cur_dir = getcwd()\n",
    "chdir('..')\n",
    "from SingleExperimentSettingDirCreator import create_experiment_directories\n",
    "# Go back to current directory\n",
    "chdir(original_cur_dir)"
   ]
  },
  {
   "cell_type": "markdown",
   "metadata": {},
   "source": [
    "# General configuration"
   ]
  },
  {
   "cell_type": "code",
   "execution_count": 4,
   "metadata": {},
   "outputs": [],
   "source": [
    "REDDIT_MAIN_PATH = join('E:', sep, 'Datasets', 'reddit')\n",
    "EXPERIMENT_PATH = 'Experiment'\n",
    "RAW_DATA_PATH = join(EXPERIMENT_PATH, 'Raw_data')\n",
    "RAW_NETWORKS_PATH = join(RAW_DATA_PATH, 'RawCommSizes')\n",
    "\n",
    "from ExperimentSettings import EXPERIMENT_SETTINGS"
   ]
  },
  {
   "cell_type": "markdown",
   "metadata": {},
   "source": [
    "# Create experiment directories"
   ]
  },
  {
   "cell_type": "code",
   "execution_count": 5,
   "metadata": {
    "scrolled": true
   },
   "outputs": [
    {
     "data": {
      "text/plain": [
       "{'norm_comm_alg': <function networkx.generators.random_graphs.barabasi_albert_graph(n, m, seed=None)>,\n",
       " 'anom_comm_alg': <function networkx.generators.random_graphs.gnp_random_graph(n, p, seed=None, directed=False)>,\n",
       " 'k_min': 1,\n",
       " 'k_max': 1,\n",
       " 'norm_m': 1,\n",
       " 'norm_inter_p': 0.075,\n",
       " 'anom_m': [0.05, 0.1, 0.2, 0.4, 0.8],\n",
       " 'anom_inter_p': [0.05, 0.1, 0.15, 0.2, 0.25, 0.3, 0.35, 0.4]}"
      ]
     },
     "execution_count": 5,
     "metadata": {},
     "output_type": "execute_result"
    }
   ],
   "source": [
    "EXPERIMENT_SETTINGS"
   ]
  },
  {
   "cell_type": "code",
   "execution_count": 6,
   "metadata": {},
   "outputs": [
    {
     "name": "stdout",
     "output_type": "stream",
     "text": [
      "Watch out! directories already exist! Terminating program!\n"
     ]
    },
    {
     "ename": "NameError",
     "evalue": "name 'exit' is not defined",
     "output_type": "error",
     "traceback": [
      "\u001b[1;31m---------------------------------------------------------------------------\u001b[0m",
      "\u001b[1;31mNameError\u001b[0m                                 Traceback (most recent call last)",
      "\u001b[1;32m<ipython-input-6-5deddb56cdd3>\u001b[0m in \u001b[0;36m<module>\u001b[1;34m\u001b[0m\n\u001b[1;32m----> 1\u001b[1;33m \u001b[0mcreate_experiment_directories\u001b[0m\u001b[1;33m(\u001b[0m\u001b[0mbase_dir\u001b[0m\u001b[1;33m=\u001b[0m\u001b[0mEXPERIMENT_PATH\u001b[0m\u001b[1;33m,\u001b[0m \u001b[0mnetwork_generator_config\u001b[0m\u001b[1;33m=\u001b[0m\u001b[0mEXPERIMENT_SETTINGS\u001b[0m\u001b[1;33m)\u001b[0m\u001b[1;33m\u001b[0m\u001b[0m\n\u001b[0m",
      "\u001b[1;32m~\\notebook\\Thesis\\GenericAnomalousCommunitiesDetection\\Evaluation\\SingleExperimentSettingDirCreator.py\u001b[0m in \u001b[0;36mcreate_experiment_directories\u001b[1;34m(base_dir, network_generator_config)\u001b[0m\n\u001b[0;32m    131\u001b[0m                         \u001b[0mtemp_dict\u001b[0m\u001b[1;33m[\u001b[0m\u001b[1;34m'anom_inter_p'\u001b[0m\u001b[1;33m]\u001b[0m \u001b[1;33m=\u001b[0m \u001b[0mp\u001b[0m\u001b[1;33m\u001b[0m\u001b[0m\n\u001b[0;32m    132\u001b[0m                         \u001b[0mtemp_dict\u001b[0m\u001b[1;33m[\u001b[0m\u001b[1;34m'anom_m'\u001b[0m\u001b[1;33m]\u001b[0m \u001b[1;33m=\u001b[0m \u001b[0mm\u001b[0m\u001b[1;33m\u001b[0m\u001b[0m\n\u001b[1;32m--> 133\u001b[1;33m                         \u001b[0mSingleExperimentSettingDirCreator\u001b[0m\u001b[1;33m(\u001b[0m\u001b[0mbase_dir\u001b[0m\u001b[1;33m,\u001b[0m \u001b[0mtemp_dict\u001b[0m\u001b[1;33m)\u001b[0m\u001b[1;33m.\u001b[0m\u001b[0mcreate_directories\u001b[0m\u001b[1;33m(\u001b[0m\u001b[1;33m)\u001b[0m\u001b[1;33m\u001b[0m\u001b[0m\n\u001b[0m\u001b[0;32m    134\u001b[0m \u001b[1;33m\u001b[0m\u001b[0m\n\u001b[0;32m    135\u001b[0m \u001b[1;33m\u001b[0m\u001b[0m\n",
      "\u001b[1;32m~\\notebook\\Thesis\\GenericAnomalousCommunitiesDetection\\Evaluation\\SingleExperimentSettingDirCreator.py\u001b[0m in \u001b[0;36mcreate_directories\u001b[1;34m(self)\u001b[0m\n\u001b[0;32m     54\u001b[0m                 \u001b[1;32mif\u001b[0m \u001b[0misdir\u001b[0m\u001b[1;33m(\u001b[0m\u001b[0mself\u001b[0m\u001b[1;33m.\u001b[0m\u001b[0m_experiment_main_dir_name\u001b[0m\u001b[1;33m)\u001b[0m\u001b[1;33m:\u001b[0m\u001b[1;33m\u001b[0m\u001b[0m\n\u001b[0;32m     55\u001b[0m                         \u001b[0mprint\u001b[0m\u001b[1;33m(\u001b[0m\u001b[1;34m'Watch out! directories already exist! Terminating program!'\u001b[0m\u001b[1;33m)\u001b[0m\u001b[1;33m\u001b[0m\u001b[0m\n\u001b[1;32m---> 56\u001b[1;33m                         \u001b[0mexit\u001b[0m\u001b[1;33m(\u001b[0m\u001b[1;33m)\u001b[0m\u001b[1;33m\u001b[0m\u001b[0m\n\u001b[0m\u001b[0;32m     57\u001b[0m \u001b[1;33m\u001b[0m\u001b[0m\n\u001b[0;32m     58\u001b[0m                 \u001b[1;31m# Create experiment main dir\u001b[0m\u001b[1;33m\u001b[0m\u001b[1;33m\u001b[0m\u001b[0m\n",
      "\u001b[1;31mNameError\u001b[0m: name 'exit' is not defined"
     ]
    }
   ],
   "source": [
    "create_experiment_directories(base_dir=EXPERIMENT_PATH, network_generator_config=EXPERIMENT_SETTINGS)"
   ]
  },
  {
   "cell_type": "markdown",
   "metadata": {},
   "source": [
    "# Generate community sizes population from Reddit network"
   ]
  },
  {
   "cell_type": "markdown",
   "metadata": {},
   "source": [
    "## Configuration"
   ]
  },
  {
   "cell_type": "code",
   "execution_count": 7,
   "metadata": {},
   "outputs": [],
   "source": [
    "COMM_SIZES_FILE_PATH = join(RAW_DATA_PATH, 'reddit_comm_sizes.json')"
   ]
  },
  {
   "cell_type": "markdown",
   "metadata": {},
   "source": [
    "## Generate community sizes population from Reddit network"
   ]
  },
  {
   "cell_type": "code",
   "execution_count": 6,
   "metadata": {},
   "outputs": [],
   "source": [
    "comm_sizes_fetcher = RedditCommunitySizesFetcher(REDDIT_MAIN_PATH)"
   ]
  },
  {
   "cell_type": "code",
   "execution_count": 7,
   "metadata": {},
   "outputs": [
    {
     "data": {
      "application/vnd.jupyter.widget-view+json": {
       "model_id": "57002b17b2224f479ea569293dcac547",
       "version_major": 2,
       "version_minor": 0
      },
      "text/plain": [
       "  0%|          | 0/20128 [00:00<?, ?it/s]"
      ]
     },
     "metadata": {},
     "output_type": "display_data"
    },
    {
     "name": "stdout",
     "output_type": "stream",
     "text": [
      "Could not open The 1970s.edges.csv... Skipped\n",
      "Could not open The 1990s.edges.csv... Skipped\n",
      "Could not open The 2000s.edges.csv... Skipped\n",
      "Could not open The 2013.edges.csv... Skipped\n",
      "Could not open The 2022.edges.csv... Skipped\n",
      "Could not open The 2112.edges.csv... Skipped\n",
      "Could not open The 3000.edges.csv... Skipped\n",
      "Could not open The 42000.edges.csv... Skipped\n",
      "Could not open The bigbang.edges.csv... Skipped\n",
      "Could not open The cretaceous.edges.csv... Skipped\n",
      "Could not open The heatdeathoftheuniverse.edges.csv... Skipped\n",
      "Could not open The zero.edges.csv... Skipped\n"
     ]
    },
    {
     "data": {
      "text/plain": [
       "{'0x10c': 3024,\n",
       " '1000thworldproblems': 216,\n",
       " '1000words': 440,\n",
       " '100DaysofKeto': 1762,\n",
       " '100movies365days': 318,\n",
       " '100pushups': 1250,\n",
       " '100sets': 372,\n",
       " '100thieves': 267,\n",
       " '100yearsago': 2056,\n",
       " '1022': 1444,\n",
       " '10cloverfieldlane': 4540,\n",
       " '10mm': 312,\n",
       " '112263Hulu': 1742,\n",
       " '1200isjerky': 418,\n",
       " '1200isplenty': 15062,\n",
       " '1200isplentyketo': 1206,\n",
       " '12in12': 244,\n",
       " '12Monkeys': 1188,\n",
       " '12thMan': 416,\n",
       " '12winArenaLog': 455,\n",
       " '13thage': 240,\n",
       " '14ers': 287,\n",
       " '17thLegion': 32,\n",
       " '18_19': 798,\n",
       " '1911': 3792,\n",
       " '1911fans': 265,\n",
       " '195': 4154,\n",
       " '1985sweet1985': 333,\n",
       " '19KidsandCounting': 744,\n",
       " '1P_LSD': 739,\n",
       " '2006Scape': 263,\n",
       " '2007scape': 87529,\n",
       " '2012Elections': 1898,\n",
       " '2016Elections': 335,\n",
       " '2016Protest': 270,\n",
       " '2016_elections': 433,\n",
       " '2048': 1133,\n",
       " '20PSI': 68,\n",
       " '20SS': 122,\n",
       " '20thCenturyExperiment': 51,\n",
       " '20xxgame': 286,\n",
       " '2124': 368,\n",
       " '22lr': 462,\n",
       " '23andme': 954,\n",
       " '240sx': 2795,\n",
       " '24hoursupport': 12264,\n",
       " '250r': 1264,\n",
       " '29er': 1773,\n",
       " '2b2t': 2838,\n",
       " '2D_Love': 63,\n",
       " '2HourTrackSundays': 125,\n",
       " '2k13ActiveAssociation': 25,\n",
       " '2k13association': 42,\n",
       " '2k14OA': 127,\n",
       " '2KOA': 111,\n",
       " '2meirl4meirl': 4971,\n",
       " '2NE1': 365,\n",
       " '2OLD': 44,\n",
       " '2spooky4me': 900,\n",
       " '2XLite': 826,\n",
       " '2XLookbook': 1079,\n",
       " '2X_INTJ': 838,\n",
       " '3000gt': 246,\n",
       " '300BLK': 1150,\n",
       " '300zx': 634,\n",
       " '30daysit': 424,\n",
       " '30PlusSkinCare': 579,\n",
       " '30ROCK': 6121,\n",
       " '311': 769,\n",
       " '316cats': 163,\n",
       " '321': 1527,\n",
       " '350z': 1870,\n",
       " '360video': 486,\n",
       " '365PhotoProject': 198,\n",
       " '365photos': 35,\n",
       " '370z': 643,\n",
       " '3amjokes': 7896,\n",
       " '3ch': 423,\n",
       " '3d6': 1985,\n",
       " '3DMA': 1050,\n",
       " '3Dmodeling': 4122,\n",
       " '3DPorncraft': 367,\n",
       " '3dprinter': 454,\n",
       " '3Dprinting': 26124,\n",
       " '3Dprintmything': 476,\n",
       " '3DS': 79205,\n",
       " '3DScanning': 601,\n",
       " '3DSdeals': 5510,\n",
       " '3dsFCswap': 17425,\n",
       " '3dsgamenight': 338,\n",
       " '3DSGaming': 115,\n",
       " '3dshacks': 16585,\n",
       " '3dsmax': 2240,\n",
       " '3DSPH': 222,\n",
       " '3DSThemeSwap': 255,\n",
       " '3FrameMovies': 707,\n",
       " '3gun': 634,\n",
       " '3kliksphilip': 1114,\n",
       " '3PLDraftLeague': 13,\n",
       " '3rb': 5,\n",
       " '40k': 712,\n",
       " '40kLore': 4096,\n",
       " '40kOrkScience': 492,\n",
       " '40krpg': 2160,\n",
       " '40plusGoneWild': 229,\n",
       " '40something': 592,\n",
       " '420code': 364,\n",
       " '45thworldproblems': 510,\n",
       " '49ers': 19735,\n",
       " '4b4t': 308,\n",
       " '4chan': 215130,\n",
       " '4ChanMeta': 1690,\n",
       " '4hourbodyslowcarb': 1698,\n",
       " '4kTV': 310,\n",
       " '4PanelCringe': 7634,\n",
       " '4Runner': 3089,\n",
       " '4thgenpokemonleagueds': 67,\n",
       " '4x4': 10150,\n",
       " '4Xgaming': 3257,\n",
       " '501st': 470,\n",
       " '505Nerds': 227,\n",
       " '50B': 124,\n",
       " '52book': 2333,\n",
       " '52in52': 949,\n",
       " '52weeksofbaking': 551,\n",
       " '52weeksofcooking': 3542,\n",
       " '52WeeksOfDesign': 387,\n",
       " '52weeksofproduction': 110,\n",
       " '5555555': 492,\n",
       " '59s': 323,\n",
       " '5by5DLC': 500,\n",
       " '5cardhearthstone': 143,\n",
       " '5ignal5': 57,\n",
       " '5nafcirclejerk': 598,\n",
       " '5NAFWorld': 161,\n",
       " '600euro': 707,\n",
       " '60daysin': 596,\n",
       " '60fpsGamingGifs': 1170,\n",
       " '60fpsporn': 11388,\n",
       " '60sMusic': 188,\n",
       " '6thForm': 2144,\n",
       " '70smusic': 274,\n",
       " '72scale': 114,\n",
       " '747thWorldPirates': 141,\n",
       " '7CupsofTea': 368,\n",
       " '7daystodie': 8234,\n",
       " '7kglobal': 4735,\n",
       " '7String': 861,\n",
       " '7thSea': 241,\n",
       " '7thWorldCirclejerk': 111,\n",
       " '80s': 929,\n",
       " '80scartoons': 264,\n",
       " '80sdesign': 798,\n",
       " '80smusic': 793,\n",
       " '8BallMC': 76,\n",
       " '8chan': 1995,\n",
       " '8muses': 301,\n",
       " '90DayFiance': 473,\n",
       " '90days': 236,\n",
       " '90daysgoal': 4787,\n",
       " '90s': 1433,\n",
       " '90sAlternative': 681,\n",
       " '90scartoons': 902,\n",
       " '90sdesign': 917,\n",
       " '90sHipHop': 1360,\n",
       " '90smusic': 543,\n",
       " '90sTrees': 406,\n",
       " '911Calls': 191,\n",
       " '911dispatchers': 868,\n",
       " '911truth': 3411,\n",
       " '944': 238,\n",
       " '999': 222,\n",
       " '99gamers': 286,\n",
       " '99gamers2': 203,\n",
       " '9b9t': 288,\n",
       " '9gag': 2843,\n",
       " '9M9H9E9': 884,\n",
       " 'A858DE45F56D9BC9': 2757,\n",
       " 'aaaaaaabbbb': 5,\n",
       " 'aaaaaatheismmmmmmmmmm': 3548,\n",
       " 'aachen': 209,\n",
       " 'AAdiscussions': 232,\n",
       " 'Aalborg': 363,\n",
       " 'Aarhus': 867,\n",
       " 'AatroxMains': 231,\n",
       " 'aa_cups': 1342,\n",
       " 'abandoned': 1750,\n",
       " 'AbandonedPorn': 52929,\n",
       " 'abarth': 148,\n",
       " 'abbeycxxx': 163,\n",
       " 'AbbyWinters': 243,\n",
       " 'ABCDCircleJerk': 111,\n",
       " 'ABCDesis': 3895,\n",
       " 'ABCJ': 208,\n",
       " 'abcqwerty123': 1187,\n",
       " 'ABDL': 4831,\n",
       " 'ABDLPersonals': 551,\n",
       " 'Aberdeen': 1049,\n",
       " 'aberoth': 848,\n",
       " 'aberothtrading': 152,\n",
       " 'abetterworldnews': 201,\n",
       " 'ableton': 8577,\n",
       " 'abletonlive': 5915,\n",
       " 'abortion': 993,\n",
       " 'AboveandBeyond': 629,\n",
       " 'ABraThatFits': 19556,\n",
       " 'AbraxasMarket': 2199,\n",
       " 'Absinthe': 615,\n",
       " 'absolutelynotme_irl': 2163,\n",
       " 'abstergoindustries': 174,\n",
       " 'Abstergonetwork': 200,\n",
       " 'abudhabi': 314,\n",
       " 'abuse': 540,\n",
       " 'AbuseInterrupted': 474,\n",
       " 'AbusePorn2': 1796,\n",
       " 'Abu_Dhabi': 261,\n",
       " 'abv': 3233,\n",
       " 'AbyssRium': 290,\n",
       " 'academia': 773,\n",
       " 'AcademicBiblical': 2566,\n",
       " 'academiceconomics': 1333,\n",
       " 'AcademicPhilosophy': 2490,\n",
       " 'AcademicPsychology': 3528,\n",
       " 'academicpublishing': 386,\n",
       " 'Acadiana': 1861,\n",
       " 'acappella': 1409,\n",
       " 'ACC': 667,\n",
       " 'accelworld': 391,\n",
       " 'AccidentalComedy': 4930,\n",
       " 'accidentalnudity': 446,\n",
       " 'AccidentalRacism': 843,\n",
       " 'AccidentalRenaissance': 11058,\n",
       " 'accidentalswastika': 783,\n",
       " 'Accordion': 969,\n",
       " 'Accounting': 23233,\n",
       " 'accountt1234': 200,\n",
       " 'AccurateBattleSim': 405,\n",
       " 'AccuSource': 204,\n",
       " 'Accutane': 2722,\n",
       " 'ACDC': 564,\n",
       " 'ACDuplication': 1225,\n",
       " 'AceAttorney': 5357,\n",
       " 'AceAttorneyCirclejerk': 193,\n",
       " 'acecombat': 1742,\n",
       " 'AceOfAngels8': 566,\n",
       " 'AceOfSpades': 999,\n",
       " 'acesup': 342,\n",
       " 'ACfriendcodes': 265,\n",
       " 'achappyhome': 1031,\n",
       " 'achewood': 345,\n",
       " 'Achievement_Hunter': 308,\n",
       " 'Acid': 490,\n",
       " 'AcidHouse': 168,\n",
       " 'ACIM': 115,\n",
       " 'ACL': 715,\n",
       " 'aclfestival': 2431,\n",
       " 'ACMilan': 2066,\n",
       " 'acne': 6509,\n",
       " 'ACNLPremium': 421,\n",
       " 'ACON_Support': 273,\n",
       " 'acorns': 252,\n",
       " 'AcousticCovers': 385,\n",
       " 'AcousticGuitar': 524,\n",
       " 'AcousticOriginals': 1454,\n",
       " 'Acoustics': 260,\n",
       " 'ACQR': 2003,\n",
       " 'acrl': 614,\n",
       " 'AcronymGame': 129,\n",
       " 'AcroYoga': 193,\n",
       " 'ACT': 2625,\n",
       " 'ACTA': 734,\n",
       " 'ACTimeTravelers': 215,\n",
       " 'acting': 6818,\n",
       " 'ActionCommittee': 18,\n",
       " 'ActionFigures': 5985,\n",
       " 'Activator': 276,\n",
       " 'activewwe': 241,\n",
       " 'activism': 360,\n",
       " 'ActLikeYouBelong': 2698,\n",
       " 'ActOfAggression': 303,\n",
       " 'ACTrade': 17079,\n",
       " 'actualconspiracies': 1360,\n",
       " 'actuallesbians': 33523,\n",
       " 'ActualWomen': 157,\n",
       " 'actuary': 4103,\n",
       " 'acturnips': 15431,\n",
       " 'acupuncture': 202,\n",
       " 'Acura': 1570,\n",
       " 'Acura_RSX': 197,\n",
       " 'ada': 153,\n",
       " 'AdagioDazzle': 23,\n",
       " 'adam': 209,\n",
       " 'AdamCarolla': 5218,\n",
       " 'adanicxsurvival': 108,\n",
       " 'Adblock': 541,\n",
       " 'adc': 776,\n",
       " 'ADD': 500,\n",
       " 'adderall': 3272,\n",
       " 'addiction': 2206,\n",
       " 'Addons4Kodi': 6205,\n",
       " 'AddToMyTune': 269,\n",
       " 'Adelaide': 5926,\n",
       " 'adelaidefc': 255,\n",
       " 'adele': 349,\n",
       " 'adfreetime': 960,\n",
       " 'ADHD': 36526,\n",
       " 'adhdmeme': 677,\n",
       " 'adidas': 369,\n",
       " 'adidasatc': 421,\n",
       " 'AdiposeAmigos': 1262,\n",
       " 'Adirondacks': 1169,\n",
       " 'admincraft': 6036,\n",
       " 'AdminSimulator': 28,\n",
       " 'adnd': 481,\n",
       " 'AdobeIllustrator': 2307,\n",
       " 'ADOM': 186,\n",
       " 'adops': 1639,\n",
       " 'adoptareddit': 2174,\n",
       " 'AdoptASilver': 2807,\n",
       " 'Adoption': 3602,\n",
       " 'AdoptMyVillager': 12805,\n",
       " 'AdorableArt': 323,\n",
       " 'AdorableDragons': 444,\n",
       " 'adorableporn': 3420,\n",
       " 'adoseofbuckley': 802,\n",
       " 'AdPorn': 6651,\n",
       " 'adrenaline': 981,\n",
       " 'AdrenalinePorn': 8286,\n",
       " 'ads': 16082,\n",
       " 'Adsense': 341,\n",
       " 'ADTR': 965,\n",
       " 'AdultBreastfeeding': 528,\n",
       " 'AdultBuys': 105,\n",
       " 'AdultChildren': 281,\n",
       " 'adultery': 4838,\n",
       " 'adultgifs': 565,\n",
       " 'adultsurvivors': 385,\n",
       " 'adultswim': 5413,\n",
       " 'adultvrgames': 394,\n",
       " 'advancedentrepreneur': 813,\n",
       " 'AdvancedFitness': 6022,\n",
       " 'advancedGunpla': 195,\n",
       " 'AdvancedMicroDevices': 3180,\n",
       " 'AdvancedProduction': 1434,\n",
       " 'AdvancedRunning': 4346,\n",
       " 'Advance_Wars': 503,\n",
       " 'adventism': 267,\n",
       " 'adventofcode': 1138,\n",
       " 'AdventureCapitalist': 3034,\n",
       " 'adventuregames': 1239,\n",
       " 'AdventureQuest': 303,\n",
       " 'AdventureRacing': 1049,\n",
       " 'AdventurersLeague': 234,\n",
       " 'adventures': 707,\n",
       " 'AdventureTheory': 1419,\n",
       " 'adventuretime': 55836,\n",
       " 'AdventureTimeRP': 32,\n",
       " 'adventuretrees': 525,\n",
       " 'advertising': 8142,\n",
       " 'Advice': 73146,\n",
       " 'AdviceAnimals': 1246104,\n",
       " 'AdviceAtheists': 5666,\n",
       " 'AdviceHell': 714,\n",
       " 'adwords': 666,\n",
       " 'AE86': 295,\n",
       " 'Aegis_Imperial': 118,\n",
       " 'aeiou': 164,\n",
       " 'AerialPorn': 1516,\n",
       " 'Aerials': 819,\n",
       " 'AeroPress': 354,\n",
       " 'aerospace': 2941,\n",
       " 'AerospaceEngineering': 639,\n",
       " 'aesoprock': 348,\n",
       " 'aesthetics': 292,\n",
       " 'aetherforged': 227,\n",
       " 'AFC': 402,\n",
       " 'AFCON': 199,\n",
       " 'afcwimbledon': 146,\n",
       " 'Affiliatemarketing': 1328,\n",
       " 'AffinityForArtifacts': 376,\n",
       " 'Afghan': 791,\n",
       " 'afghanistan': 587,\n",
       " 'afinil': 4758,\n",
       " 'AFireInside': 352,\n",
       " 'AFL': 10819,\n",
       " 'AFLbetting': 115,\n",
       " 'AFLCircleJerk': 181,\n",
       " 'aflfantasy': 242,\n",
       " 'aflvote': 299,\n",
       " 'AFOL': 1907,\n",
       " 'Africa': 1749,\n",
       " 'afrikaans': 335,\n",
       " 'Afrodisiac': 487,\n",
       " 'AfterEffects': 8536,\n",
       " 'AfterLodge': 142,\n",
       " 'Aftermath1231': 128,\n",
       " 'Afterplounge': 82,\n",
       " 'aftertheendckii': 147,\n",
       " 'after_the_shot': 442,\n",
       " 'Afwcomics': 403,\n",
       " 'AgainstAllArchons': 182,\n",
       " 'AgainstAtheismPlus': 482,\n",
       " 'AgainstGamerGate': 3107,\n",
       " 'AgainstHateSubreddits': 4122,\n",
       " 'AgainstKarmaWhores': 222,\n",
       " 'againstmarijuana': 208,\n",
       " 'AgainstMe': 234,\n",
       " 'againstmensrights': 5182,\n",
       " 'AgainstTheChimpire': 196,\n",
       " 'AgameofthronesLCG': 1209,\n",
       " 'Agar': 394,\n",
       " 'Agario': 12103,\n",
       " 'AgedBeauty': 778,\n",
       " 'agender': 553,\n",
       " 'agentcarter': 3573,\n",
       " 'ageofishtaria': 1121,\n",
       " 'AgeofMythology': 2147,\n",
       " 'ageofsigmar': 2140,\n",
       " 'AgeofWushu': 298,\n",
       " 'AgePlaying': 755,\n",
       " 'AgeplayPenPals': 1046,\n",
       " 'aggies': 7085,\n",
       " 'agi': 203,\n",
       " 'agile': 989,\n",
       " 'Agility': 158,\n",
       " 'agitation': 814,\n",
       " 'AgMarketplace': 11409,\n",
       " 'agnostic': 2898,\n",
       " 'agnosticism': 1094,\n",
       " 'Agoraphobia': 568,\n",
       " 'Agorism': 730,\n",
       " 'AGOTBoardGame': 1027,\n",
       " 'Agriculture': 897,\n",
       " 'AgriculturePorn': 470,\n",
       " 'agt': 1692,\n",
       " 'ahegao': 786,\n",
       " 'ahl': 294,\n",
       " 'ahotalk': 58,\n",
       " 'AhriMains': 925,\n",
       " 'aiclass': 2936,\n",
       " 'AidanTurner': 103,\n",
       " 'AIH': 287,\n",
       " 'aikido': 1251,\n",
       " 'ainbow': 21205,\n",
       " 'ainbowdash': 542,\n",
       " 'aion': 1982,\n",
       " 'AionFreeToPlay': 437,\n",
       " 'AirBnB': 3512,\n",
       " 'AirBrawl': 1847,\n",
       " 'airbrush': 320,\n",
       " 'AirCraftPorn': 319,\n",
       " 'AirForce': 24238,\n",
       " 'airguns': 1606,\n",
       " 'airhornremix': 527,\n",
       " 'airlines': 320,\n",
       " 'airmc': 128,\n",
       " 'AirMech': 289,\n",
       " 'airnationalguard': 340,\n",
       " 'airplanes': 680,\n",
       " 'airportceo': 124,\n",
       " 'airsoft': 22462,\n",
       " 'airsoftcirclejerk': 552,\n",
       " 'airsoftmarket': 5430,\n",
       " 'airz23': 2876,\n",
       " 'AislingDuval': 1408,\n",
       " 'aixmarseille': 176,\n",
       " 'AjaxAmsterdam': 570,\n",
       " 'ak47': 5157,\n",
       " 'akalimains': 490,\n",
       " 'AkameGaKILL': 2221,\n",
       " 'akamikeb': 200,\n",
       " 'AKB48': 556,\n",
       " 'akira': 248,\n",
       " 'akita': 417,\n",
       " 'akron': 1600,\n",
       " 'Alabama': 2671,\n",
       " 'alameda': 498,\n",
       " 'AlanMoore': 181,\n",
       " 'AlAnon': 2145,\n",
       " 'AlanPartridge': 516,\n",
       " 'AlanWatts': 546,\n",
       " 'alaska': 5483,\n",
       " 'alaskanbushpeople': 142,\n",
       " 'AlaskanMalamute': 404,\n",
       " 'albacraft': 68,\n",
       " 'albania': 1016,\n",
       " 'Albany': 3779,\n",
       " 'alberta': 6210,\n",
       " 'albiononline': 3736,\n",
       " 'AlbumArtPorn': 7139,\n",
       " 'Albumoftheday': 265,\n",
       " 'Albuquerque': 4621,\n",
       " 'Alcatraz': 243,\n",
       " 'alchemy': 505,\n",
       " 'alchestbreach': 507,\n",
       " 'alcohol': 9654,\n",
       " 'alcoholicsanonymous': 900,\n",
       " 'alcoholism': 4632,\n",
       " 'aldi': 372,\n",
       " 'AldnoahZero': 828,\n",
       " 'aldub': 183,\n",
       " 'Aleague': 4273,\n",
       " 'Alex': 338,\n",
       " 'alexandradaddario': 838,\n",
       " 'alexandria': 247,\n",
       " 'Alexelcapoyt': 721,\n",
       " 'AlexisRen': 992,\n",
       " 'AlfaRomeo': 391,\n",
       " 'algeria': 345,\n",
       " 'AlgerianFootball': 84,\n",
       " 'Algonquin_College': 372,\n",
       " 'algorithms': 2257,\n",
       " 'algotrading': 1563,\n",
       " 'AliceAardvark': 173,\n",
       " 'alicegrove': 312,\n",
       " 'AliceInChains': 387,\n",
       " 'AliceWorld': 41,\n",
       " 'AlienBlue': 30616,\n",
       " 'AlienExchange': 213,\n",
       " 'alienisolation': 1587,\n",
       " 'AlienMC': 214,\n",
       " 'alienpumaspacetrain': 484,\n",
       " 'aliens': 5462,\n",
       " 'AliensAmongUs': 1339,\n",
       " 'alienth': 134,\n",
       " 'Alienware': 3980,\n",
       " 'AlienwareAlpha': 1339,\n",
       " 'alien_swarm': 389,\n",
       " 'Alien_Theory': 683,\n",
       " 'Aliexpress': 2287,\n",
       " 'AlisonBrie': 6023,\n",
       " 'AlisonRosen': 452,\n",
       " 'Alistair9000': 256,\n",
       " 'AlkalineTrio': 428,\n",
       " 'allaccessplaylists': 1236,\n",
       " 'allcapsmotivation': 304,\n",
       " 'allcore': 574,\n",
       " 'AlleleCraft': 54,\n",
       " 'Allergies': 1583,\n",
       " 'AllGoodRecords': 170,\n",
       " 'AllHail': 338,\n",
       " 'AllofReddit': 217,\n",
       " 'allrages': 884,\n",
       " 'allsportscards': 146,\n",
       " 'Allsvenskan': 539,\n",
       " 'alltheleft': 1378,\n",
       " 'allthemods': 285,\n",
       " 'allthingsmech': 136,\n",
       " 'allthingsmlg': 736,\n",
       " 'allthingsprotoss': 6840,\n",
       " 'AllThingsTerran': 7772,\n",
       " 'allthingszerg': 7478,\n",
       " 'alltimelow': 280,\n",
       " 'almosthomeless': 1196,\n",
       " 'AlmostHuman': 773,\n",
       " 'almostrealpolitics': 44,\n",
       " 'AlmostRelevant': 165,\n",
       " 'ALMS': 256,\n",
       " 'alohapos': 128,\n",
       " 'Alonetv': 547,\n",
       " 'alopecia_areata': 205,\n",
       " 'ALORP': 56,\n",
       " 'Alot': 386,\n",
       " 'alphaandbetausers': 1181,\n",
       " 'AlphaBay': 2029,\n",
       " 'AlphaBayMarket': 1186,\n",
       " 'AlpharadTV': 2136,\n",
       " 'alpharetta': 438,\n",
       " 'alphas': 276,\n",
       " 'alpinism': 2452,\n",
       " 'AlreadyRed': 506,\n",
       " 'ALS': 262,\n",
       " 'AltboostersNA': 75,\n",
       " 'altcoin': 1006,\n",
       " 'ALTcointip': 215,\n",
       " 'altcomix': 566,\n",
       " 'altcountry': 717,\n",
       " 'alterbridge': 243,\n",
       " 'alteredbuttholes': 373,\n",
       " 'AlternateHistory': 570,\n",
       " 'alternateteens': 86,\n",
       " 'alternativeart': 9196,\n",
       " 'AlternativeHealth': 826,\n",
       " 'AlternativeHistory': 297,\n",
       " 'Alternativerock': 1164,\n",
       " 'altgonewild': 6325,\n",
       " 'althistory': 483,\n",
       " 'althistorysim': 23,\n",
       " 'AltisLife': 649,\n",
       " 'AltJ': 881,\n",
       " 'altnewz': 1531,\n",
       " 'ALTP': 352,\n",
       " 'altrap': 1236,\n",
       " 'altright': 2392,\n",
       " 'AltspaceVR': 469,\n",
       " 'altWP': 101,\n",
       " 'Alzheimers': 442,\n",
       " 'AM2R': 859,\n",
       " 'AMA': 91936,\n",
       " 'AMADisasters': 1897,\n",
       " 'AMagesGame': 24,\n",
       " 'amarillo': 682,\n",
       " 'Amateur': 16193,\n",
       " 'AmateurArchives': 7625,\n",
       " 'AmateurBikePorn': 406,\n",
       " 'amateurcumsluts': 1606,\n",
       " 'amateurfights': 4674,\n",
       " 'AmateurPhotography': 1482,\n",
       " 'AmateurPorn': 404,\n",
       " 'amateurproduction': 487,\n",
       " 'amateurradio': 9738,\n",
       " 'AmateurRoomPorn': 4971,\n",
       " 'AmateurWifes': 439,\n",
       " 'amateur_bbw': 154,\n",
       " 'amateur_boxing': 3947,\n",
       " 'amathenedit': 222,\n",
       " 'Amazing2': 110,\n",
       " 'amazingrpsubreddit': 14,\n",
       " 'AmazingTechnology': 804,\n",
       " 'amazingtits': 140,\n",
       " 'amazon': 11850,\n",
       " 'amazone': 399,\n",
       " 'amazonecho': 5551,\n",
       " 'amazonprime': 741,\n",
       " 'AmazonSeller': 438,\n",
       " 'AmazonTopRated': 3384,\n",
       " 'AmazonUnder5': 479,\n",
       " 'AmazonWTF': 1661,\n",
       " 'ambien': 2280,\n",
       " 'ambient': 914,\n",
       " 'ambientmusic': 2675,\n",
       " 'ambigrams': 327,\n",
       " 'AmbiVision': 172,\n",
       " 'Amblyopia': 187,\n",
       " 'Amd': 27665,\n",
       " 'AMDHelp': 2352,\n",
       " 'AMD_Stock': 204,\n",
       " 'america': 431,\n",
       " 'AmericanAthletic': 151,\n",
       " 'AmericanBasketballFed': 145,\n",
       " 'AmericanBully': 208,\n",
       " 'americancrimestory': 1185,\n",
       " 'americandad': 4143,\n",
       " 'AmericanGovernment': 228,\n",
       " 'AmericanHistory': 287,\n",
       " 'AmericanHorrorStory': 23192,\n",
       " 'AmericanJewishPower': 93,\n",
       " 'AmericanLeagueEast': 487,\n",
       " 'americanpirateparty': 1142,\n",
       " 'AmericanPolitics': 1604,\n",
       " 'americanproblems': 460,\n",
       " 'AmericanU': 267,\n",
       " 'AmericanWizardryRP': 62,\n",
       " 'AmeriCorps': 944,\n",
       " 'Ameristralia': 6973,\n",
       " 'ames': 410,\n",
       " 'AMG': 330,\n",
       " 'amhacked': 193,\n",
       " 'AmIASexyQueer': 547,\n",
       " 'amibeingdetained': 9620,\n",
       " 'amifat': 990,\n",
       " 'AmIFreeToGo': 8106,\n",
       " 'amiga': 948,\n",
       " 'Amigurumi': 408,\n",
       " 'amihot': 1272,\n",
       " 'amiibo': 34349,\n",
       " 'AmiiboCanada': 3151,\n",
       " 'AmiiboMichigan': 266,\n",
       " 'amiiboSwap': 9228,\n",
       " 'amiiboswapca': 800,\n",
       " 'amiiboSwapPoints': 596,\n",
       " 'amileaday': 210,\n",
       " 'amipretty': 479,\n",
       " 'AmISexy': 31837,\n",
       " 'amisexy_over30': 373,\n",
       " 'amishadowbanned': 2816,\n",
       " 'amishsmp': 545,\n",
       " 'AmItheAsshole': 3640,\n",
       " 'amiugly': 114471,\n",
       " 'amiwrong': 825,\n",
       " 'ammo': 288,\n",
       " 'Amnesia': 576,\n",
       " 'amplitude': 205,\n",
       " 'amputee': 375,\n",
       " 'amrc': 944,\n",
       " 'AMRsucks': 640,\n",
       " 'Amsterdam': 7492,\n",
       " 'AmsterdamEnts': 922,\n",
       " 'Amtgard': 231,\n",
       " 'Amtrak': 537,\n",
       " 'amv': 1943,\n",
       " 'amysbakingcompany': 326,\n",
       " 'AnaheimDucks': 4088,\n",
       " 'anal': 10128,\n",
       " 'AnalGW': 2873,\n",
       " 'analog': 12270,\n",
       " 'analogygifs': 3241,\n",
       " 'analysemydota2': 530,\n",
       " 'analytics': 1688,\n",
       " 'AnalyzeLast100Games': 659,\n",
       " 'anal_addiction': 154,\n",
       " 'anal_gifs': 445,\n",
       " 'anarchafeminism': 240,\n",
       " 'Anarchism': 27638,\n",
       " 'AnarchismOnline': 35,\n",
       " 'AnarchistNews': 1410,\n",
       " 'anarchistpics': 315,\n",
       " 'anarchocapitalism': 366,\n",
       " 'anarchocommunism': 315,\n",
       " 'anarchomemes': 726,\n",
       " 'Anarcho_Capitalism': 20339,\n",
       " 'Anarcho_Reaction': 77,\n",
       " 'anarchy': 622,\n",
       " 'Anarchy101': 4553,\n",
       " 'AnarchyChess': 659,\n",
       " 'anarchyonline': 609,\n",
       " 'Anatomy': 385,\n",
       " 'anberlin': 311,\n",
       " 'AnCap101': 266,\n",
       " 'AnCapHeretics': 88,\n",
       " 'AncapMinecraft': 88,\n",
       " 'anchorage': 1640,\n",
       " 'AncientAliens': 771,\n",
       " 'AncientCivilizations': 556,\n",
       " 'AncientCoins': 732,\n",
       " 'ancientegypt': 653,\n",
       " 'ancientgreece': 578,\n",
       " 'AncientGreek': 617,\n",
       " 'ancienthistory': 267,\n",
       " 'ancientrome': 2604,\n",
       " 'ancientworldproblems': 1208,\n",
       " 'Androgynoushotties': 1043,\n",
       " 'androgyny': 885,\n",
       " 'Android': 257237,\n",
       " 'AndroidAnything': 410,\n",
       " 'androidapps': 41337,\n",
       " 'AndroidAuto': 791,\n",
       " 'androidcirclejerk': 6497,\n",
       " 'androiddev': 22227,\n",
       " 'androidgames': 389,\n",
       " 'AndroidGaming': 32329,\n",
       " 'AndroidMasterRace': 9952,\n",
       " 'AndroidPreviews': 1473,\n",
       " 'AndroidQuestions': 47396,\n",
       " 'androidroot': 553,\n",
       " 'androidtablets': 1294,\n",
       " 'androidthemes': 20161,\n",
       " 'AndroidTV': 2968,\n",
       " 'AndroidUsers': 1563,\n",
       " 'AndroidVR': 359,\n",
       " 'androidwatchfaces': 1515,\n",
       " 'AndroidWear': 14171,\n",
       " 'Android_JP': 116,\n",
       " 'AndromedaRP': 22,\n",
       " 'aneros': 378,\n",
       " 'anesthesiology': 204,\n",
       " 'ANGEL': 1410,\n",
       " 'AngelaWhite': 314,\n",
       " 'AngelBeats': 786,\n",
       " 'AngelsAndAirwaves': 824,\n",
       " 'angelsbaseball': 3137,\n",
       " 'Anger': 1980,\n",
       " 'AngieVarona': 549,\n",
       " 'AngieVaronaLegal': 1863,\n",
       " 'Anglicanism': 673,\n",
       " 'anglish': 210,\n",
       " 'angry': 1146,\n",
       " 'AngryBrds': 202,\n",
       " 'angryjoeshow': 336,\n",
       " 'Angular2': 1146,\n",
       " 'angularjs': 5209,\n",
       " 'AnimalCollective': 3512,\n",
       " 'AnimalCrossing': 35901,\n",
       " 'AnimalCrossing247': 82,\n",
       " 'animalid': 1925,\n",
       " 'AnimalPorn': 8007,\n",
       " 'AnimalRescue': 265,\n",
       " 'AnimalRights': 2543,\n",
       " 'animalromance': 105,\n",
       " 'Animals': 4199,\n",
       " 'AnimalsBeingBros': 33680,\n",
       " 'AnimalsBeingConfused': 817,\n",
       " 'AnimalsBeingDerps': 10409,\n",
       " 'AnimalsBeingGeniuses': 1011,\n",
       " 'AnimalsBeingJerks': 53780,\n",
       " 'AnimalsFailing': 346,\n",
       " 'AnimalsKillingPeople': 604,\n",
       " 'animalssmiling': 456,\n",
       " 'AnimalsWithoutNecks': 2094,\n",
       " 'AnimalTextGifs': 2466,\n",
       " 'animalwelfare': 258,\n",
       " 'AnimatedLadyBoners': 393,\n",
       " 'animation': 12646,\n",
       " 'AnimationThrowdown': 697,\n",
       " 'anime': 185929,\n",
       " 'animebazaar': 328,\n",
       " 'AnimeBooty': 292,\n",
       " 'animecirclejerk': 431,\n",
       " 'AnimeDeals': 307,\n",
       " 'Animedubs': 1439,\n",
       " 'AnimeFigures': 6436,\n",
       " 'animegifs': 5035,\n",
       " 'animegifsound': 707,\n",
       " 'animeicons': 384,\n",
       " 'animelegs': 181,\n",
       " 'animelegwear': 67,\n",
       " 'Animemes': 994,\n",
       " 'animemusic': 1342,\n",
       " 'animenews': 478,\n",
       " 'animenocontext': 3749,\n",
       " 'animenorth': 426,\n",
       " 'animeplot': 2249,\n",
       " 'animeponytails': 155,\n",
       " 'AnimeSketch': 3072,\n",
       " 'Animesuggest': 26451,\n",
       " 'AnimeThemes': 321,\n",
       " 'AnimeVectorWallpapers': 392,\n",
       " 'Animewallpaper': 7415,\n",
       " 'anime_irl': 14619,\n",
       " 'Animorphs': 788,\n",
       " 'AniviaMains': 558,\n",
       " 'Anjelica_Ebbi': 999,\n",
       " 'Anki': 1113,\n",
       " 'ankylosingspondylitis': 454,\n",
       " 'annakendrick': 3018,\n",
       " 'annamasterrace': 385,\n",
       " 'Annapolis': 713,\n",
       " 'AnnArbor': 4471,\n",
       " 'Anna_Faith': 411,\n",
       " 'AnnieClark': 517,\n",
       " 'AnnieMains': 222,\n",
       " 'anno': 698,\n",
       " 'anno2070': 368,\n",
       " 'anno2205': 516,\n",
       " 'announcements': 88915,\n",
       " 'Annoyedtobenude': 271,\n",
       " 'annualkpopawards': 124,\n",
       " 'AnomaliesUnleashed': 267,\n",
       " 'AnomalousStories': 27,\n",
       " 'anonymous': 7245,\n",
       " 'anonymous123421': 301,\n",
       " 'ANormalDayInAmerica': 516,\n",
       " 'ANormalDayInRussia': 26563,\n",
       " 'AnRedditTribe': 140,\n",
       " 'ansible': 804,\n",
       " 'answers': 42689,\n",
       " 'antarctica': 390,\n",
       " 'Antenna': 791,\n",
       " 'AntFarmKeyboard': 17,\n",
       " 'AnthonyBourdain': 172,\n",
       " 'anthro': 323,\n",
       " 'AnthroClop': 106,\n",
       " 'Anthropology': 7399,\n",
       " 'AntiAntiJokes': 3840,\n",
       " 'AntiAtheismPlus': 108,\n",
       " 'AntiAtheismWatch': 408,\n",
       " 'antibaw': 1174,\n",
       " 'antichamber': 256,\n",
       " 'Anticonsumption': 8930,\n",
       " 'antidepressants': 390,\n",
       " 'AntiHeroReborn': 42,\n",
       " 'AntiHeroRP': 89,\n",
       " 'AntiJokes': 14212,\n",
       " 'antimatterindustries': 70,\n",
       " 'antinatalism': 1403,\n",
       " 'AntiPOZi': 1574,\n",
       " 'Antipsychiatry': 174,\n",
       " 'Antiques': 5112,\n",
       " 'antisrs': 3212,\n",
       " 'Antitheism': 1758,\n",
       " 'antivax': 276,\n",
       " 'antivirus': 272,\n",
       " 'antiwar': 564,\n",
       " 'antiwork': 206,\n",
       " 'ANTM': 1234,\n",
       " 'antosays': 7,\n",
       " 'ants': 768,\n",
       " 'ANW': 521,\n",
       " 'Anxiety': 48589,\n",
       " 'AnybodyButHillary': 347,\n",
       " 'AnythingGoesNews': 7901,\n",
       " 'AnythingGoesPics': 3984,\n",
       " 'AnythingGoesUltimate': 695,\n",
       " 'AN_RP': 63,\n",
       " 'aoe2': 9038,\n",
       " 'aoe3': 996,\n",
       " 'AoFate': 356,\n",
       " 'AoTRP': 127,\n",
       " 'AOW3': 709,\n",
       " 'apache': 314,\n",
       " 'apathy': 1408,\n",
       " 'APB': 1140,\n",
       " 'Aphantasia': 164,\n",
       " 'aphextwin': 2039,\n",
       " 'apink': 972,\n",
       " 'APLang': 175,\n",
       " 'APLang2014': 62,\n",
       " 'apocalympics2016': 8979,\n",
       " 'Apocalypse': 595,\n",
       " 'ApocalypseRising': 4826,\n",
       " 'ApocalypseWorld': 241,\n",
       " 'apolloapp': 932,\n",
       " 'apologizeplease': 430,\n",
       " 'ApotheosisVillage': 74,\n",
       " 'apotheoun': 364,\n",
       " 'AppalachianTrail': 5330,\n",
       " 'AppEngine': 548,\n",
       " 'appers': 645,\n",
       " 'AppHookup': 11134,\n",
       " 'AppIdeas': 719,\n",
       " 'apple': 164386,\n",
       " 'apple2': 367,\n",
       " 'AppleBandMarket': 261,\n",
       " 'applecirclejerk': 488,\n",
       " 'AppleEnthusiasts': 171,\n",
       " 'applehelp': 41277,\n",
       " 'applehelp_betas': 338,\n",
       " 'Applejack': 239,\n",
       " 'AppleMusic': 2720,\n",
       " 'applescript': 272,\n",
       " 'AppleSoey': 219,\n",
       " 'applesucks': 715,\n",
       " 'appleswap': 2126,\n",
       " 'appletv': 6500,\n",
       " 'AppleWatch': 18907,\n",
       " 'AppleWhatShouldIBuy': 617,\n",
       " 'apple_jp': 83,\n",
       " 'appliancerepair': 902,\n",
       " 'Appliances': 559,\n",
       " 'ApplyingToCollege': 5724,\n",
       " 'AppNana': 4095,\n",
       " 'apps': 2179,\n",
       " 'appstate': 1405,\n",
       " 'April2017Bumpers': 283,\n",
       " 'april30th2015': 797,\n",
       " 'aprilfools': 438,\n",
       " 'aprilfools2011': 430,\n",
       " 'AprogressiveParty': 199,\n",
       " 'APStudents': 5179,\n",
       " 'APUSH': 823,\n",
       " 'AQDragons': 149,\n",
       " 'Aquabats': 219,\n",
       " 'AquaJail': 558,\n",
       " 'Aquaman': 342,\n",
       " 'Aquamarines': 104,\n",
       " 'AquamarinesBarracks': 92,\n",
       " 'AquamarinesDen': 129,\n",
       " 'AquamarineVI': 208,\n",
       " 'aquaponics': 4041,\n",
       " 'aquarium': 1474,\n",
       " 'AquariumFish': 293,\n",
       " 'Aquariums': 33605,\n",
       " 'AquaSwap': 2557,\n",
       " 'aquestionablequest': 173,\n",
       " 'AQW': 327,\n",
       " 'AR10': 1272,\n",
       " 'ar15': 22050,\n",
       " 'arabic': 1446,\n",
       " 'ArabIsraeliConflict': 100,\n",
       " 'arabs': 5520,\n",
       " 'ARAM': 635,\n",
       " 'arandanauts': 130,\n",
       " 'araragi': 3450,\n",
       " 'araragigirls': 305,\n",
       " 'ArAutos': 96,\n",
       " 'arbetarrorelsen': 185,\n",
       " 'arbtserver': 30,\n",
       " 'arcade': 847,\n",
       " 'arcadefire': 1995,\n",
       " 'ArcadiaQuest': 200,\n",
       " 'arcane': 157,\n",
       " 'ArcaneAdventures': 674,\n",
       " 'ARCARacing': 353,\n",
       " 'Archaeology': 5352,\n",
       " 'archeage': 30092,\n",
       " 'ArcheageBuilds': 761,\n",
       " 'archeageguilds': 668,\n",
       " 'Archeology': 950,\n",
       " 'ArcherFX': 38951,\n",
       " 'Archery': 11175,\n",
       " 'architecture': 16979,\n",
       " 'ArchitecturePorn': 7862,\n",
       " 'ArchivePorn': 332,\n",
       " 'Archivists': 320,\n",
       " 'archlinux': 14230,\n",
       " 'arcticmonkeys': 4154,\n",
       " 'arduino': 25082,\n",
       " 'area11band': 366,\n",
       " 'arenafootball': 418,\n",
       " 'ArenaFPS': 1087,\n",
       " 'ArenaHS': 1542,\n",
       " 'areolas': 473,\n",
       " 'AreusAntris': 67,\n",
       " 'ARG': 1933,\n",
       " 'Argaming': 800,\n",
       " 'argentina': 11379,\n",
       " 'Argentinacirclejerk': 843,\n",
       " 'ArgentinaCocina': 185,\n",
       " 'ArgentinaGoneWild': 156,\n",
       " 'ArgEntos': 223,\n",
       " ...}"
      ]
     },
     "execution_count": 7,
     "metadata": {},
     "output_type": "execute_result"
    }
   ],
   "source": [
    "comm_sizes_fetcher.create_comm_size_dict(use_edges_csv=True);"
   ]
  },
  {
   "cell_type": "code",
   "execution_count": 8,
   "metadata": {},
   "outputs": [],
   "source": [
    "comm_sizes_fetcher.save_comm_size_dict_json(COMM_SIZES_FILE_PATH)"
   ]
  },
  {
   "cell_type": "markdown",
   "metadata": {},
   "source": [
    "# Generate normal communities sizes"
   ]
  },
  {
   "cell_type": "code",
   "execution_count": 9,
   "metadata": {},
   "outputs": [],
   "source": [
    "NORMAL_COMMS_GENERATOR_CONFIG = {\n",
    "    'num_comms': 110,\n",
    "    'min_comm_size': 30,\n",
    "    'max_comm_size': 1500\n",
    "}\n",
    "\n",
    "min_seed = 1\n",
    "max_seed = 10"
   ]
  },
  {
   "cell_type": "markdown",
   "metadata": {},
   "source": [
    "## Data Creation"
   ]
  },
  {
   "cell_type": "code",
   "execution_count": 14,
   "metadata": {},
   "outputs": [
    {
     "name": "stdout",
     "output_type": "stream",
     "text": [
      "Sampling normal community sizes 1 / 10:\n",
      "Sampling normal community sizes 2 / 10:\n",
      "Sampling normal community sizes 3 / 10:\n",
      "Sampling normal community sizes 4 / 10:\n",
      "Sampling normal community sizes 5 / 10:\n",
      "Sampling normal community sizes 6 / 10:\n",
      "Sampling normal community sizes 7 / 10:\n",
      "Sampling normal community sizes 8 / 10:\n",
      "Sampling normal community sizes 9 / 10:\n",
      "Sampling normal community sizes 10 / 10:\n"
     ]
    }
   ],
   "source": [
    "normal_comm_sizes_generator = NormalCommunitySizesGenerator(comm_sizes_file_path=COMM_SIZES_FILE_PATH)\n",
    "\n",
    "for seed in range(min_seed, max_seed + 1):\n",
    "    print(f'Sampling normal community sizes {seed} / {max_seed}:')\n",
    "    comm_sizes_list = normal_comm_sizes_generator.generate_community_sizes_from_reddit(\n",
    "        **NORMAL_COMMS_GENERATOR_CONFIG, random_seed=seed)\n",
    "    \n",
    "    file_path = join(RAW_DATA_PATH, f'comm_sizes_{seed:02}.json')\n",
    "    with open(file_path, 'w') as file:\n",
    "        json.dump(comm_sizes_list, file)"
   ]
  },
  {
   "cell_type": "markdown",
   "metadata": {},
   "source": [
    "# Create anomaly-infused networks"
   ]
  },
  {
   "cell_type": "markdown",
   "metadata": {},
   "source": [
    "## Configuration"
   ]
  },
  {
   "cell_type": "code",
   "execution_count": 8,
   "metadata": {},
   "outputs": [],
   "source": [
    "TRAIN_TEST_SPLIT = 20  # number of communities in test set"
   ]
  },
  {
   "cell_type": "markdown",
   "metadata": {},
   "source": [
    "## Netowrks creation"
   ]
  },
  {
   "cell_type": "code",
   "execution_count": 13,
   "metadata": {
    "scrolled": false
   },
   "outputs": [
    {
     "data": {
      "application/vnd.jupyter.widget-view+json": {
       "model_id": "f0e8344ec08f4a04a41487e7fd5666e8",
       "version_major": 2,
       "version_minor": 0
      },
      "text/plain": [
       "0it [00:00, ?it/s]"
      ]
     },
     "metadata": {},
     "output_type": "display_data"
    },
    {
     "data": {
      "application/vnd.jupyter.widget-view+json": {
       "model_id": "ab6d5293c4c446e09bee51f661a00b61",
       "version_major": 2,
       "version_minor": 0
      },
      "text/plain": [
       "0it [00:00, ?it/s]"
      ]
     },
     "metadata": {},
     "output_type": "display_data"
    },
    {
     "data": {
      "application/vnd.jupyter.widget-view+json": {
       "model_id": "b8df1848ef9942d990f671307f6e7f57",
       "version_major": 2,
       "version_minor": 0
      },
      "text/plain": [
       "0it [00:00, ?it/s]"
      ]
     },
     "metadata": {},
     "output_type": "display_data"
    },
    {
     "data": {
      "application/vnd.jupyter.widget-view+json": {
       "model_id": "46abd64d9c194da6825b28afce1bdda7",
       "version_major": 2,
       "version_minor": 0
      },
      "text/plain": [
       "0it [00:00, ?it/s]"
      ]
     },
     "metadata": {},
     "output_type": "display_data"
    },
    {
     "data": {
      "application/vnd.jupyter.widget-view+json": {
       "model_id": "d5bc5fc41f594df09a07b0d55d426558",
       "version_major": 2,
       "version_minor": 0
      },
      "text/plain": [
       "0it [00:00, ?it/s]"
      ]
     },
     "metadata": {},
     "output_type": "display_data"
    },
    {
     "name": "stdout",
     "output_type": "stream",
     "text": [
      "Finished infusing anomalies to p=0.05, m=0.05\n"
     ]
    },
    {
     "data": {
      "application/vnd.jupyter.widget-view+json": {
       "model_id": "015445a4ec654be4989786fb8d9a3bb3",
       "version_major": 2,
       "version_minor": 0
      },
      "text/plain": [
       "0it [00:00, ?it/s]"
      ]
     },
     "metadata": {},
     "output_type": "display_data"
    },
    {
     "data": {
      "application/vnd.jupyter.widget-view+json": {
       "model_id": "5661a6ae6e4043f79e1c1dc01cd12bfc",
       "version_major": 2,
       "version_minor": 0
      },
      "text/plain": [
       "0it [00:00, ?it/s]"
      ]
     },
     "metadata": {},
     "output_type": "display_data"
    },
    {
     "data": {
      "application/vnd.jupyter.widget-view+json": {
       "model_id": "70a9ba57692a4f5bbf6feec276366799",
       "version_major": 2,
       "version_minor": 0
      },
      "text/plain": [
       "0it [00:00, ?it/s]"
      ]
     },
     "metadata": {},
     "output_type": "display_data"
    },
    {
     "data": {
      "application/vnd.jupyter.widget-view+json": {
       "model_id": "c2dfa2c556d745d8acccb2c712fc0130",
       "version_major": 2,
       "version_minor": 0
      },
      "text/plain": [
       "0it [00:00, ?it/s]"
      ]
     },
     "metadata": {},
     "output_type": "display_data"
    },
    {
     "data": {
      "application/vnd.jupyter.widget-view+json": {
       "model_id": "72374fcd426d4e968e727326d4fe06ce",
       "version_major": 2,
       "version_minor": 0
      },
      "text/plain": [
       "0it [00:00, ?it/s]"
      ]
     },
     "metadata": {},
     "output_type": "display_data"
    },
    {
     "name": "stdout",
     "output_type": "stream",
     "text": [
      "Finished infusing anomalies to p=0.05, m=0.1\n"
     ]
    },
    {
     "data": {
      "application/vnd.jupyter.widget-view+json": {
       "model_id": "8c4ec7947aab4cbbb72afe241c005edb",
       "version_major": 2,
       "version_minor": 0
      },
      "text/plain": [
       "0it [00:00, ?it/s]"
      ]
     },
     "metadata": {},
     "output_type": "display_data"
    },
    {
     "data": {
      "application/vnd.jupyter.widget-view+json": {
       "model_id": "935b30ff75de4a25bb9dd2508bcf293c",
       "version_major": 2,
       "version_minor": 0
      },
      "text/plain": [
       "0it [00:00, ?it/s]"
      ]
     },
     "metadata": {},
     "output_type": "display_data"
    },
    {
     "data": {
      "application/vnd.jupyter.widget-view+json": {
       "model_id": "71093c68f4384739b923ea2959d0e96a",
       "version_major": 2,
       "version_minor": 0
      },
      "text/plain": [
       "0it [00:00, ?it/s]"
      ]
     },
     "metadata": {},
     "output_type": "display_data"
    },
    {
     "data": {
      "application/vnd.jupyter.widget-view+json": {
       "model_id": "e5eb3549b60b45fab0c4e8b27c2db440",
       "version_major": 2,
       "version_minor": 0
      },
      "text/plain": [
       "0it [00:00, ?it/s]"
      ]
     },
     "metadata": {},
     "output_type": "display_data"
    },
    {
     "data": {
      "application/vnd.jupyter.widget-view+json": {
       "model_id": "f7bd556d1f9f4cba8acb9e254028d753",
       "version_major": 2,
       "version_minor": 0
      },
      "text/plain": [
       "0it [00:00, ?it/s]"
      ]
     },
     "metadata": {},
     "output_type": "display_data"
    },
    {
     "name": "stdout",
     "output_type": "stream",
     "text": [
      "Finished infusing anomalies to p=0.05, m=0.2\n"
     ]
    },
    {
     "data": {
      "application/vnd.jupyter.widget-view+json": {
       "model_id": "2f4e3eb627f6498d96cd98cadfbceaf7",
       "version_major": 2,
       "version_minor": 0
      },
      "text/plain": [
       "0it [00:00, ?it/s]"
      ]
     },
     "metadata": {},
     "output_type": "display_data"
    },
    {
     "data": {
      "application/vnd.jupyter.widget-view+json": {
       "model_id": "5c23d3edbf11450cb3649c174e0052bd",
       "version_major": 2,
       "version_minor": 0
      },
      "text/plain": [
       "0it [00:00, ?it/s]"
      ]
     },
     "metadata": {},
     "output_type": "display_data"
    },
    {
     "data": {
      "application/vnd.jupyter.widget-view+json": {
       "model_id": "71f923aa46ac4fd4b05df742ce1ef937",
       "version_major": 2,
       "version_minor": 0
      },
      "text/plain": [
       "0it [00:00, ?it/s]"
      ]
     },
     "metadata": {},
     "output_type": "display_data"
    },
    {
     "data": {
      "application/vnd.jupyter.widget-view+json": {
       "model_id": "f5ab19d6fcba48fd8df48616e68e40d5",
       "version_major": 2,
       "version_minor": 0
      },
      "text/plain": [
       "0it [00:00, ?it/s]"
      ]
     },
     "metadata": {},
     "output_type": "display_data"
    },
    {
     "data": {
      "application/vnd.jupyter.widget-view+json": {
       "model_id": "c60db060bcd44b1fba3edb25c3840ba0",
       "version_major": 2,
       "version_minor": 0
      },
      "text/plain": [
       "0it [00:00, ?it/s]"
      ]
     },
     "metadata": {},
     "output_type": "display_data"
    },
    {
     "name": "stdout",
     "output_type": "stream",
     "text": [
      "Finished infusing anomalies to p=0.05, m=0.4\n"
     ]
    },
    {
     "data": {
      "application/vnd.jupyter.widget-view+json": {
       "model_id": "ecd7cbf695ff40aa9a3f4e9497916c1a",
       "version_major": 2,
       "version_minor": 0
      },
      "text/plain": [
       "0it [00:00, ?it/s]"
      ]
     },
     "metadata": {},
     "output_type": "display_data"
    },
    {
     "data": {
      "application/vnd.jupyter.widget-view+json": {
       "model_id": "407b731028b348fcba511a2cd08bf75b",
       "version_major": 2,
       "version_minor": 0
      },
      "text/plain": [
       "0it [00:00, ?it/s]"
      ]
     },
     "metadata": {},
     "output_type": "display_data"
    },
    {
     "data": {
      "application/vnd.jupyter.widget-view+json": {
       "model_id": "9df5c78e87654679a68d8693679dd5a1",
       "version_major": 2,
       "version_minor": 0
      },
      "text/plain": [
       "0it [00:00, ?it/s]"
      ]
     },
     "metadata": {},
     "output_type": "display_data"
    },
    {
     "data": {
      "application/vnd.jupyter.widget-view+json": {
       "model_id": "4f5a36279f3742908c98f3b48fa2c626",
       "version_major": 2,
       "version_minor": 0
      },
      "text/plain": [
       "0it [00:00, ?it/s]"
      ]
     },
     "metadata": {},
     "output_type": "display_data"
    },
    {
     "data": {
      "application/vnd.jupyter.widget-view+json": {
       "model_id": "6295be13f8b64de99f9ad1fd0d82676a",
       "version_major": 2,
       "version_minor": 0
      },
      "text/plain": [
       "0it [00:00, ?it/s]"
      ]
     },
     "metadata": {},
     "output_type": "display_data"
    },
    {
     "name": "stdout",
     "output_type": "stream",
     "text": [
      "Finished infusing anomalies to p=0.05, m=0.8\n"
     ]
    },
    {
     "data": {
      "application/vnd.jupyter.widget-view+json": {
       "model_id": "d118fd87c37d4b80ba584c0794418528",
       "version_major": 2,
       "version_minor": 0
      },
      "text/plain": [
       "0it [00:00, ?it/s]"
      ]
     },
     "metadata": {},
     "output_type": "display_data"
    },
    {
     "data": {
      "application/vnd.jupyter.widget-view+json": {
       "model_id": "5fab0a9975944119a570471bdb7404df",
       "version_major": 2,
       "version_minor": 0
      },
      "text/plain": [
       "0it [00:00, ?it/s]"
      ]
     },
     "metadata": {},
     "output_type": "display_data"
    },
    {
     "data": {
      "application/vnd.jupyter.widget-view+json": {
       "model_id": "53bf639be5ac46019ac343bcf2278a6f",
       "version_major": 2,
       "version_minor": 0
      },
      "text/plain": [
       "0it [00:00, ?it/s]"
      ]
     },
     "metadata": {},
     "output_type": "display_data"
    },
    {
     "data": {
      "application/vnd.jupyter.widget-view+json": {
       "model_id": "c9b44509031e454695ea46a20c2b3ab3",
       "version_major": 2,
       "version_minor": 0
      },
      "text/plain": [
       "0it [00:00, ?it/s]"
      ]
     },
     "metadata": {},
     "output_type": "display_data"
    },
    {
     "data": {
      "application/vnd.jupyter.widget-view+json": {
       "model_id": "e8a18b1c00834ed9bd97ca6224a1f878",
       "version_major": 2,
       "version_minor": 0
      },
      "text/plain": [
       "0it [00:00, ?it/s]"
      ]
     },
     "metadata": {},
     "output_type": "display_data"
    },
    {
     "name": "stdout",
     "output_type": "stream",
     "text": [
      "Finished infusing anomalies to p=0.1, m=0.05\n"
     ]
    },
    {
     "data": {
      "application/vnd.jupyter.widget-view+json": {
       "model_id": "99abfc099bbc46dcae5e6493924b7d3e",
       "version_major": 2,
       "version_minor": 0
      },
      "text/plain": [
       "0it [00:00, ?it/s]"
      ]
     },
     "metadata": {},
     "output_type": "display_data"
    },
    {
     "data": {
      "application/vnd.jupyter.widget-view+json": {
       "model_id": "29b03adbb0b0405fa122686a48c6f87b",
       "version_major": 2,
       "version_minor": 0
      },
      "text/plain": [
       "0it [00:00, ?it/s]"
      ]
     },
     "metadata": {},
     "output_type": "display_data"
    },
    {
     "data": {
      "application/vnd.jupyter.widget-view+json": {
       "model_id": "4e376ce324c342d1b75f242567cfbac7",
       "version_major": 2,
       "version_minor": 0
      },
      "text/plain": [
       "0it [00:00, ?it/s]"
      ]
     },
     "metadata": {},
     "output_type": "display_data"
    },
    {
     "data": {
      "application/vnd.jupyter.widget-view+json": {
       "model_id": "449e434ca1424054acb0007cd74b142c",
       "version_major": 2,
       "version_minor": 0
      },
      "text/plain": [
       "0it [00:00, ?it/s]"
      ]
     },
     "metadata": {},
     "output_type": "display_data"
    },
    {
     "data": {
      "application/vnd.jupyter.widget-view+json": {
       "model_id": "0dc89391a7b542e7947c118dffdc062f",
       "version_major": 2,
       "version_minor": 0
      },
      "text/plain": [
       "0it [00:00, ?it/s]"
      ]
     },
     "metadata": {},
     "output_type": "display_data"
    },
    {
     "name": "stdout",
     "output_type": "stream",
     "text": [
      "Finished infusing anomalies to p=0.1, m=0.1\n"
     ]
    },
    {
     "data": {
      "application/vnd.jupyter.widget-view+json": {
       "model_id": "005c338bcdec4ef698386515812689d1",
       "version_major": 2,
       "version_minor": 0
      },
      "text/plain": [
       "0it [00:00, ?it/s]"
      ]
     },
     "metadata": {},
     "output_type": "display_data"
    },
    {
     "data": {
      "application/vnd.jupyter.widget-view+json": {
       "model_id": "626c03e3d40d4051b2f4d0eb8a715999",
       "version_major": 2,
       "version_minor": 0
      },
      "text/plain": [
       "0it [00:00, ?it/s]"
      ]
     },
     "metadata": {},
     "output_type": "display_data"
    },
    {
     "data": {
      "application/vnd.jupyter.widget-view+json": {
       "model_id": "6a21b4d7127e439e9dad16459ba819de",
       "version_major": 2,
       "version_minor": 0
      },
      "text/plain": [
       "0it [00:00, ?it/s]"
      ]
     },
     "metadata": {},
     "output_type": "display_data"
    },
    {
     "data": {
      "application/vnd.jupyter.widget-view+json": {
       "model_id": "8e319337a13c42bfab3a8f213f296afb",
       "version_major": 2,
       "version_minor": 0
      },
      "text/plain": [
       "0it [00:00, ?it/s]"
      ]
     },
     "metadata": {},
     "output_type": "display_data"
    },
    {
     "data": {
      "application/vnd.jupyter.widget-view+json": {
       "model_id": "d1313b502212428eb915fc91b219f681",
       "version_major": 2,
       "version_minor": 0
      },
      "text/plain": [
       "0it [00:00, ?it/s]"
      ]
     },
     "metadata": {},
     "output_type": "display_data"
    },
    {
     "name": "stdout",
     "output_type": "stream",
     "text": [
      "Finished infusing anomalies to p=0.1, m=0.2\n"
     ]
    },
    {
     "data": {
      "application/vnd.jupyter.widget-view+json": {
       "model_id": "9b01f6cd7e474fc2b9c58d9535b0535c",
       "version_major": 2,
       "version_minor": 0
      },
      "text/plain": [
       "0it [00:00, ?it/s]"
      ]
     },
     "metadata": {},
     "output_type": "display_data"
    },
    {
     "data": {
      "application/vnd.jupyter.widget-view+json": {
       "model_id": "73917796a656464f9fda804185c4aec5",
       "version_major": 2,
       "version_minor": 0
      },
      "text/plain": [
       "0it [00:00, ?it/s]"
      ]
     },
     "metadata": {},
     "output_type": "display_data"
    },
    {
     "data": {
      "application/vnd.jupyter.widget-view+json": {
       "model_id": "2d8f063a2bfc465cbdc9b64b7691faf9",
       "version_major": 2,
       "version_minor": 0
      },
      "text/plain": [
       "0it [00:00, ?it/s]"
      ]
     },
     "metadata": {},
     "output_type": "display_data"
    },
    {
     "data": {
      "application/vnd.jupyter.widget-view+json": {
       "model_id": "a031388b14864402a67f966a599e9926",
       "version_major": 2,
       "version_minor": 0
      },
      "text/plain": [
       "0it [00:00, ?it/s]"
      ]
     },
     "metadata": {},
     "output_type": "display_data"
    },
    {
     "data": {
      "application/vnd.jupyter.widget-view+json": {
       "model_id": "c82cae65e7a84a6fb62defd83f0a4ad7",
       "version_major": 2,
       "version_minor": 0
      },
      "text/plain": [
       "0it [00:00, ?it/s]"
      ]
     },
     "metadata": {},
     "output_type": "display_data"
    },
    {
     "name": "stdout",
     "output_type": "stream",
     "text": [
      "Finished infusing anomalies to p=0.1, m=0.4\n"
     ]
    },
    {
     "data": {
      "application/vnd.jupyter.widget-view+json": {
       "model_id": "eb53344c7e0d452e8f459e5713624d78",
       "version_major": 2,
       "version_minor": 0
      },
      "text/plain": [
       "0it [00:00, ?it/s]"
      ]
     },
     "metadata": {},
     "output_type": "display_data"
    },
    {
     "data": {
      "application/vnd.jupyter.widget-view+json": {
       "model_id": "976ff5591f1949349539c474c9abbe66",
       "version_major": 2,
       "version_minor": 0
      },
      "text/plain": [
       "0it [00:00, ?it/s]"
      ]
     },
     "metadata": {},
     "output_type": "display_data"
    },
    {
     "data": {
      "application/vnd.jupyter.widget-view+json": {
       "model_id": "8f6743d387b845e59eb9828fc77c9567",
       "version_major": 2,
       "version_minor": 0
      },
      "text/plain": [
       "0it [00:00, ?it/s]"
      ]
     },
     "metadata": {},
     "output_type": "display_data"
    },
    {
     "data": {
      "application/vnd.jupyter.widget-view+json": {
       "model_id": "1a0960f292e54c0388e9473c2c98cc04",
       "version_major": 2,
       "version_minor": 0
      },
      "text/plain": [
       "0it [00:00, ?it/s]"
      ]
     },
     "metadata": {},
     "output_type": "display_data"
    },
    {
     "data": {
      "application/vnd.jupyter.widget-view+json": {
       "model_id": "ccfbf7d388d64089ae31d36bd03e6312",
       "version_major": 2,
       "version_minor": 0
      },
      "text/plain": [
       "0it [00:00, ?it/s]"
      ]
     },
     "metadata": {},
     "output_type": "display_data"
    },
    {
     "name": "stdout",
     "output_type": "stream",
     "text": [
      "Finished infusing anomalies to p=0.1, m=0.8\n"
     ]
    },
    {
     "data": {
      "application/vnd.jupyter.widget-view+json": {
       "model_id": "907b087e504b4f7b80037d1c99911312",
       "version_major": 2,
       "version_minor": 0
      },
      "text/plain": [
       "0it [00:00, ?it/s]"
      ]
     },
     "metadata": {},
     "output_type": "display_data"
    },
    {
     "data": {
      "application/vnd.jupyter.widget-view+json": {
       "model_id": "04a76b5d540e426a953ba214954fd28c",
       "version_major": 2,
       "version_minor": 0
      },
      "text/plain": [
       "0it [00:00, ?it/s]"
      ]
     },
     "metadata": {},
     "output_type": "display_data"
    },
    {
     "data": {
      "application/vnd.jupyter.widget-view+json": {
       "model_id": "6594121a75d94e34a68175e3ec52158b",
       "version_major": 2,
       "version_minor": 0
      },
      "text/plain": [
       "0it [00:00, ?it/s]"
      ]
     },
     "metadata": {},
     "output_type": "display_data"
    },
    {
     "data": {
      "application/vnd.jupyter.widget-view+json": {
       "model_id": "a6d63c45fb8a4ca1b14bd32b1b9cb022",
       "version_major": 2,
       "version_minor": 0
      },
      "text/plain": [
       "0it [00:00, ?it/s]"
      ]
     },
     "metadata": {},
     "output_type": "display_data"
    },
    {
     "data": {
      "application/vnd.jupyter.widget-view+json": {
       "model_id": "66c96ffcc9f342cfbade94522d4ca740",
       "version_major": 2,
       "version_minor": 0
      },
      "text/plain": [
       "0it [00:00, ?it/s]"
      ]
     },
     "metadata": {},
     "output_type": "display_data"
    },
    {
     "name": "stdout",
     "output_type": "stream",
     "text": [
      "Finished infusing anomalies to p=0.15, m=0.05\n"
     ]
    },
    {
     "data": {
      "application/vnd.jupyter.widget-view+json": {
       "model_id": "57805a0f76b944579fe1c58a174697ef",
       "version_major": 2,
       "version_minor": 0
      },
      "text/plain": [
       "0it [00:00, ?it/s]"
      ]
     },
     "metadata": {},
     "output_type": "display_data"
    },
    {
     "data": {
      "application/vnd.jupyter.widget-view+json": {
       "model_id": "fde5fd9575724b2e95564129739e1e3e",
       "version_major": 2,
       "version_minor": 0
      },
      "text/plain": [
       "0it [00:00, ?it/s]"
      ]
     },
     "metadata": {},
     "output_type": "display_data"
    },
    {
     "data": {
      "application/vnd.jupyter.widget-view+json": {
       "model_id": "0e45e12741934e3ba4296e9c609b7382",
       "version_major": 2,
       "version_minor": 0
      },
      "text/plain": [
       "0it [00:00, ?it/s]"
      ]
     },
     "metadata": {},
     "output_type": "display_data"
    },
    {
     "data": {
      "application/vnd.jupyter.widget-view+json": {
       "model_id": "d4de95685e624cc5a82c10604df36ea2",
       "version_major": 2,
       "version_minor": 0
      },
      "text/plain": [
       "0it [00:00, ?it/s]"
      ]
     },
     "metadata": {},
     "output_type": "display_data"
    },
    {
     "data": {
      "application/vnd.jupyter.widget-view+json": {
       "model_id": "5c480a8163ba40bfb099f27d007565e0",
       "version_major": 2,
       "version_minor": 0
      },
      "text/plain": [
       "0it [00:00, ?it/s]"
      ]
     },
     "metadata": {},
     "output_type": "display_data"
    },
    {
     "name": "stdout",
     "output_type": "stream",
     "text": [
      "Finished infusing anomalies to p=0.15, m=0.1\n"
     ]
    },
    {
     "data": {
      "application/vnd.jupyter.widget-view+json": {
       "model_id": "263f18f3d58249ffab872cd7795176d4",
       "version_major": 2,
       "version_minor": 0
      },
      "text/plain": [
       "0it [00:00, ?it/s]"
      ]
     },
     "metadata": {},
     "output_type": "display_data"
    },
    {
     "data": {
      "application/vnd.jupyter.widget-view+json": {
       "model_id": "f2365f679bab499a9a06264b2aec7a81",
       "version_major": 2,
       "version_minor": 0
      },
      "text/plain": [
       "0it [00:00, ?it/s]"
      ]
     },
     "metadata": {},
     "output_type": "display_data"
    },
    {
     "data": {
      "application/vnd.jupyter.widget-view+json": {
       "model_id": "64b35ebe85a54a96a0a490d50389646b",
       "version_major": 2,
       "version_minor": 0
      },
      "text/plain": [
       "0it [00:00, ?it/s]"
      ]
     },
     "metadata": {},
     "output_type": "display_data"
    },
    {
     "data": {
      "application/vnd.jupyter.widget-view+json": {
       "model_id": "5ba2636f376e4c748b992d8f2e01e8a8",
       "version_major": 2,
       "version_minor": 0
      },
      "text/plain": [
       "0it [00:00, ?it/s]"
      ]
     },
     "metadata": {},
     "output_type": "display_data"
    },
    {
     "data": {
      "application/vnd.jupyter.widget-view+json": {
       "model_id": "b9315152c90d4684832ec45b998f57a1",
       "version_major": 2,
       "version_minor": 0
      },
      "text/plain": [
       "0it [00:00, ?it/s]"
      ]
     },
     "metadata": {},
     "output_type": "display_data"
    },
    {
     "name": "stdout",
     "output_type": "stream",
     "text": [
      "Finished infusing anomalies to p=0.15, m=0.2\n"
     ]
    },
    {
     "data": {
      "application/vnd.jupyter.widget-view+json": {
       "model_id": "bb79fe71cbe54955ac1dff3e03a35a63",
       "version_major": 2,
       "version_minor": 0
      },
      "text/plain": [
       "0it [00:00, ?it/s]"
      ]
     },
     "metadata": {},
     "output_type": "display_data"
    },
    {
     "data": {
      "application/vnd.jupyter.widget-view+json": {
       "model_id": "6d0475f8176b44c494ca4a7321adab23",
       "version_major": 2,
       "version_minor": 0
      },
      "text/plain": [
       "0it [00:00, ?it/s]"
      ]
     },
     "metadata": {},
     "output_type": "display_data"
    },
    {
     "data": {
      "application/vnd.jupyter.widget-view+json": {
       "model_id": "714b8b7d0f14493893e8ed24970e62ae",
       "version_major": 2,
       "version_minor": 0
      },
      "text/plain": [
       "0it [00:00, ?it/s]"
      ]
     },
     "metadata": {},
     "output_type": "display_data"
    },
    {
     "data": {
      "application/vnd.jupyter.widget-view+json": {
       "model_id": "41a2e7898c17433eb6fc67c411e2a766",
       "version_major": 2,
       "version_minor": 0
      },
      "text/plain": [
       "0it [00:00, ?it/s]"
      ]
     },
     "metadata": {},
     "output_type": "display_data"
    },
    {
     "data": {
      "application/vnd.jupyter.widget-view+json": {
       "model_id": "311cc007726c4b4f972fb094918f7602",
       "version_major": 2,
       "version_minor": 0
      },
      "text/plain": [
       "0it [00:00, ?it/s]"
      ]
     },
     "metadata": {},
     "output_type": "display_data"
    },
    {
     "name": "stdout",
     "output_type": "stream",
     "text": [
      "Finished infusing anomalies to p=0.15, m=0.4\n"
     ]
    },
    {
     "data": {
      "application/vnd.jupyter.widget-view+json": {
       "model_id": "120f18eae8d94d42b19356413d6b5aa5",
       "version_major": 2,
       "version_minor": 0
      },
      "text/plain": [
       "0it [00:00, ?it/s]"
      ]
     },
     "metadata": {},
     "output_type": "display_data"
    },
    {
     "data": {
      "application/vnd.jupyter.widget-view+json": {
       "model_id": "22027027bbf64031b3ec24e1a88e72c6",
       "version_major": 2,
       "version_minor": 0
      },
      "text/plain": [
       "0it [00:00, ?it/s]"
      ]
     },
     "metadata": {},
     "output_type": "display_data"
    },
    {
     "data": {
      "application/vnd.jupyter.widget-view+json": {
       "model_id": "945a35134b8447efbb81c28b94230a81",
       "version_major": 2,
       "version_minor": 0
      },
      "text/plain": [
       "0it [00:00, ?it/s]"
      ]
     },
     "metadata": {},
     "output_type": "display_data"
    },
    {
     "data": {
      "application/vnd.jupyter.widget-view+json": {
       "model_id": "ee50fa2b6b2b4cefaf0ec73b0502ecd8",
       "version_major": 2,
       "version_minor": 0
      },
      "text/plain": [
       "0it [00:00, ?it/s]"
      ]
     },
     "metadata": {},
     "output_type": "display_data"
    },
    {
     "data": {
      "application/vnd.jupyter.widget-view+json": {
       "model_id": "4ba395ad8e2a4fb59c040e46c8e564ec",
       "version_major": 2,
       "version_minor": 0
      },
      "text/plain": [
       "0it [00:00, ?it/s]"
      ]
     },
     "metadata": {},
     "output_type": "display_data"
    },
    {
     "name": "stdout",
     "output_type": "stream",
     "text": [
      "Finished infusing anomalies to p=0.15, m=0.8\n"
     ]
    },
    {
     "data": {
      "application/vnd.jupyter.widget-view+json": {
       "model_id": "f4ccc967c4f04a12b16fc08bbda6dc91",
       "version_major": 2,
       "version_minor": 0
      },
      "text/plain": [
       "0it [00:00, ?it/s]"
      ]
     },
     "metadata": {},
     "output_type": "display_data"
    },
    {
     "data": {
      "application/vnd.jupyter.widget-view+json": {
       "model_id": "2521abbb99674d4cbb322455c3fc0f55",
       "version_major": 2,
       "version_minor": 0
      },
      "text/plain": [
       "0it [00:00, ?it/s]"
      ]
     },
     "metadata": {},
     "output_type": "display_data"
    },
    {
     "data": {
      "application/vnd.jupyter.widget-view+json": {
       "model_id": "a39f6e28c06442e4a6b05d83048f3c3a",
       "version_major": 2,
       "version_minor": 0
      },
      "text/plain": [
       "0it [00:00, ?it/s]"
      ]
     },
     "metadata": {},
     "output_type": "display_data"
    },
    {
     "data": {
      "application/vnd.jupyter.widget-view+json": {
       "model_id": "68254863124b41b58a1b07661a6d4f42",
       "version_major": 2,
       "version_minor": 0
      },
      "text/plain": [
       "0it [00:00, ?it/s]"
      ]
     },
     "metadata": {},
     "output_type": "display_data"
    },
    {
     "data": {
      "application/vnd.jupyter.widget-view+json": {
       "model_id": "9a9a9004e3bc4462b78a200b98bc9d62",
       "version_major": 2,
       "version_minor": 0
      },
      "text/plain": [
       "0it [00:00, ?it/s]"
      ]
     },
     "metadata": {},
     "output_type": "display_data"
    },
    {
     "name": "stdout",
     "output_type": "stream",
     "text": [
      "Finished infusing anomalies to p=0.2, m=0.05\n"
     ]
    },
    {
     "data": {
      "application/vnd.jupyter.widget-view+json": {
       "model_id": "fc4325ff005d40e0b18fb09e2b35a7f8",
       "version_major": 2,
       "version_minor": 0
      },
      "text/plain": [
       "0it [00:00, ?it/s]"
      ]
     },
     "metadata": {},
     "output_type": "display_data"
    },
    {
     "data": {
      "application/vnd.jupyter.widget-view+json": {
       "model_id": "5aa6eb5604934eac976d63c50c14b852",
       "version_major": 2,
       "version_minor": 0
      },
      "text/plain": [
       "0it [00:00, ?it/s]"
      ]
     },
     "metadata": {},
     "output_type": "display_data"
    },
    {
     "data": {
      "application/vnd.jupyter.widget-view+json": {
       "model_id": "afd364948ace4215a4d88d937a985da0",
       "version_major": 2,
       "version_minor": 0
      },
      "text/plain": [
       "0it [00:00, ?it/s]"
      ]
     },
     "metadata": {},
     "output_type": "display_data"
    },
    {
     "data": {
      "application/vnd.jupyter.widget-view+json": {
       "model_id": "e6c3361dc9c248da9f7ab46f8d5ccd7b",
       "version_major": 2,
       "version_minor": 0
      },
      "text/plain": [
       "0it [00:00, ?it/s]"
      ]
     },
     "metadata": {},
     "output_type": "display_data"
    },
    {
     "data": {
      "application/vnd.jupyter.widget-view+json": {
       "model_id": "67d31a4c3517418a8ae2c77dbca1c4af",
       "version_major": 2,
       "version_minor": 0
      },
      "text/plain": [
       "0it [00:00, ?it/s]"
      ]
     },
     "metadata": {},
     "output_type": "display_data"
    },
    {
     "name": "stdout",
     "output_type": "stream",
     "text": [
      "Finished infusing anomalies to p=0.2, m=0.1\n"
     ]
    },
    {
     "data": {
      "application/vnd.jupyter.widget-view+json": {
       "model_id": "a8b93236a26a4567ac53873abf5c21fb",
       "version_major": 2,
       "version_minor": 0
      },
      "text/plain": [
       "0it [00:00, ?it/s]"
      ]
     },
     "metadata": {},
     "output_type": "display_data"
    },
    {
     "data": {
      "application/vnd.jupyter.widget-view+json": {
       "model_id": "7970568d84c84145bd6057f6355b8164",
       "version_major": 2,
       "version_minor": 0
      },
      "text/plain": [
       "0it [00:00, ?it/s]"
      ]
     },
     "metadata": {},
     "output_type": "display_data"
    },
    {
     "data": {
      "application/vnd.jupyter.widget-view+json": {
       "model_id": "99edc3d0bd754647b810dc9beae93d9b",
       "version_major": 2,
       "version_minor": 0
      },
      "text/plain": [
       "0it [00:00, ?it/s]"
      ]
     },
     "metadata": {},
     "output_type": "display_data"
    },
    {
     "data": {
      "application/vnd.jupyter.widget-view+json": {
       "model_id": "f79989cb6c42426fb8b261ef682ee790",
       "version_major": 2,
       "version_minor": 0
      },
      "text/plain": [
       "0it [00:00, ?it/s]"
      ]
     },
     "metadata": {},
     "output_type": "display_data"
    },
    {
     "data": {
      "application/vnd.jupyter.widget-view+json": {
       "model_id": "eb4560942c894b8798c8313d42221f80",
       "version_major": 2,
       "version_minor": 0
      },
      "text/plain": [
       "0it [00:00, ?it/s]"
      ]
     },
     "metadata": {},
     "output_type": "display_data"
    },
    {
     "name": "stdout",
     "output_type": "stream",
     "text": [
      "Finished infusing anomalies to p=0.2, m=0.2\n"
     ]
    },
    {
     "data": {
      "application/vnd.jupyter.widget-view+json": {
       "model_id": "d6a3dab0571e46eeb99cb9fa193c69d0",
       "version_major": 2,
       "version_minor": 0
      },
      "text/plain": [
       "0it [00:00, ?it/s]"
      ]
     },
     "metadata": {},
     "output_type": "display_data"
    },
    {
     "data": {
      "application/vnd.jupyter.widget-view+json": {
       "model_id": "eb5fb48d8b244d08bb057ecb236b918a",
       "version_major": 2,
       "version_minor": 0
      },
      "text/plain": [
       "0it [00:00, ?it/s]"
      ]
     },
     "metadata": {},
     "output_type": "display_data"
    },
    {
     "data": {
      "application/vnd.jupyter.widget-view+json": {
       "model_id": "ca0413b0746e464caa8a1e5eb7ef3d51",
       "version_major": 2,
       "version_minor": 0
      },
      "text/plain": [
       "0it [00:00, ?it/s]"
      ]
     },
     "metadata": {},
     "output_type": "display_data"
    },
    {
     "data": {
      "application/vnd.jupyter.widget-view+json": {
       "model_id": "5ba0aca8f72e448e9a1fa9b90f2c21ce",
       "version_major": 2,
       "version_minor": 0
      },
      "text/plain": [
       "0it [00:00, ?it/s]"
      ]
     },
     "metadata": {},
     "output_type": "display_data"
    },
    {
     "data": {
      "application/vnd.jupyter.widget-view+json": {
       "model_id": "eaeb86c1bbdd4b69b53c89d2e957e308",
       "version_major": 2,
       "version_minor": 0
      },
      "text/plain": [
       "0it [00:00, ?it/s]"
      ]
     },
     "metadata": {},
     "output_type": "display_data"
    },
    {
     "name": "stdout",
     "output_type": "stream",
     "text": [
      "Finished infusing anomalies to p=0.2, m=0.4\n"
     ]
    },
    {
     "data": {
      "application/vnd.jupyter.widget-view+json": {
       "model_id": "0e92d177efa347c6a3b08c69c5ed88d8",
       "version_major": 2,
       "version_minor": 0
      },
      "text/plain": [
       "0it [00:00, ?it/s]"
      ]
     },
     "metadata": {},
     "output_type": "display_data"
    },
    {
     "data": {
      "application/vnd.jupyter.widget-view+json": {
       "model_id": "f8853e35aa3c478b88dfb227c76e9b81",
       "version_major": 2,
       "version_minor": 0
      },
      "text/plain": [
       "0it [00:00, ?it/s]"
      ]
     },
     "metadata": {},
     "output_type": "display_data"
    },
    {
     "data": {
      "application/vnd.jupyter.widget-view+json": {
       "model_id": "9fa984f02af54dc5b7e16b01cd5520a7",
       "version_major": 2,
       "version_minor": 0
      },
      "text/plain": [
       "0it [00:00, ?it/s]"
      ]
     },
     "metadata": {},
     "output_type": "display_data"
    },
    {
     "data": {
      "application/vnd.jupyter.widget-view+json": {
       "model_id": "0be7a7af5dfc463da6f4c6204f19b722",
       "version_major": 2,
       "version_minor": 0
      },
      "text/plain": [
       "0it [00:00, ?it/s]"
      ]
     },
     "metadata": {},
     "output_type": "display_data"
    },
    {
     "data": {
      "application/vnd.jupyter.widget-view+json": {
       "model_id": "82f0423e1e4640c087596bac5d5d13d0",
       "version_major": 2,
       "version_minor": 0
      },
      "text/plain": [
       "0it [00:00, ?it/s]"
      ]
     },
     "metadata": {},
     "output_type": "display_data"
    },
    {
     "name": "stdout",
     "output_type": "stream",
     "text": [
      "Finished infusing anomalies to p=0.2, m=0.8\n"
     ]
    },
    {
     "data": {
      "application/vnd.jupyter.widget-view+json": {
       "model_id": "513d813b18cf46768308a8b9fadbb7fe",
       "version_major": 2,
       "version_minor": 0
      },
      "text/plain": [
       "0it [00:00, ?it/s]"
      ]
     },
     "metadata": {},
     "output_type": "display_data"
    },
    {
     "data": {
      "application/vnd.jupyter.widget-view+json": {
       "model_id": "3f9e624ef4ec464c9083f3571c155244",
       "version_major": 2,
       "version_minor": 0
      },
      "text/plain": [
       "0it [00:00, ?it/s]"
      ]
     },
     "metadata": {},
     "output_type": "display_data"
    },
    {
     "data": {
      "application/vnd.jupyter.widget-view+json": {
       "model_id": "ff9f796fe3f845ee9952f6256b9ab4f2",
       "version_major": 2,
       "version_minor": 0
      },
      "text/plain": [
       "0it [00:00, ?it/s]"
      ]
     },
     "metadata": {},
     "output_type": "display_data"
    },
    {
     "data": {
      "application/vnd.jupyter.widget-view+json": {
       "model_id": "1b1b49286c7d4023a09a7ea0abacf6cc",
       "version_major": 2,
       "version_minor": 0
      },
      "text/plain": [
       "0it [00:00, ?it/s]"
      ]
     },
     "metadata": {},
     "output_type": "display_data"
    },
    {
     "data": {
      "application/vnd.jupyter.widget-view+json": {
       "model_id": "a75066649c204f429731c980312f4a63",
       "version_major": 2,
       "version_minor": 0
      },
      "text/plain": [
       "0it [00:00, ?it/s]"
      ]
     },
     "metadata": {},
     "output_type": "display_data"
    },
    {
     "name": "stdout",
     "output_type": "stream",
     "text": [
      "Finished infusing anomalies to p=0.25, m=0.05\n"
     ]
    },
    {
     "data": {
      "application/vnd.jupyter.widget-view+json": {
       "model_id": "5b2f4ae2c6414eb29428f80f4c11d955",
       "version_major": 2,
       "version_minor": 0
      },
      "text/plain": [
       "0it [00:00, ?it/s]"
      ]
     },
     "metadata": {},
     "output_type": "display_data"
    },
    {
     "data": {
      "application/vnd.jupyter.widget-view+json": {
       "model_id": "00fe8272d105441c871c4a7e85544086",
       "version_major": 2,
       "version_minor": 0
      },
      "text/plain": [
       "0it [00:00, ?it/s]"
      ]
     },
     "metadata": {},
     "output_type": "display_data"
    },
    {
     "data": {
      "application/vnd.jupyter.widget-view+json": {
       "model_id": "07685b53109b494ea3e4beed83bb624d",
       "version_major": 2,
       "version_minor": 0
      },
      "text/plain": [
       "0it [00:00, ?it/s]"
      ]
     },
     "metadata": {},
     "output_type": "display_data"
    },
    {
     "data": {
      "application/vnd.jupyter.widget-view+json": {
       "model_id": "e728d3fb8d2c4e598f9ae98094c89778",
       "version_major": 2,
       "version_minor": 0
      },
      "text/plain": [
       "0it [00:00, ?it/s]"
      ]
     },
     "metadata": {},
     "output_type": "display_data"
    },
    {
     "data": {
      "application/vnd.jupyter.widget-view+json": {
       "model_id": "7a91d5270829458ea253e24fb9060b3b",
       "version_major": 2,
       "version_minor": 0
      },
      "text/plain": [
       "0it [00:00, ?it/s]"
      ]
     },
     "metadata": {},
     "output_type": "display_data"
    },
    {
     "name": "stdout",
     "output_type": "stream",
     "text": [
      "Finished infusing anomalies to p=0.25, m=0.1\n"
     ]
    },
    {
     "data": {
      "application/vnd.jupyter.widget-view+json": {
       "model_id": "bf76e535649048bd9c7051c16b255804",
       "version_major": 2,
       "version_minor": 0
      },
      "text/plain": [
       "0it [00:00, ?it/s]"
      ]
     },
     "metadata": {},
     "output_type": "display_data"
    },
    {
     "data": {
      "application/vnd.jupyter.widget-view+json": {
       "model_id": "4e7ca3877a64403eaa1ae214ab00c933",
       "version_major": 2,
       "version_minor": 0
      },
      "text/plain": [
       "0it [00:00, ?it/s]"
      ]
     },
     "metadata": {},
     "output_type": "display_data"
    },
    {
     "data": {
      "application/vnd.jupyter.widget-view+json": {
       "model_id": "93db6a0c1d0f41579a1b5af40024a6c6",
       "version_major": 2,
       "version_minor": 0
      },
      "text/plain": [
       "0it [00:00, ?it/s]"
      ]
     },
     "metadata": {},
     "output_type": "display_data"
    },
    {
     "data": {
      "application/vnd.jupyter.widget-view+json": {
       "model_id": "bfcab59a4a1043b0bf1c28cb238ca141",
       "version_major": 2,
       "version_minor": 0
      },
      "text/plain": [
       "0it [00:00, ?it/s]"
      ]
     },
     "metadata": {},
     "output_type": "display_data"
    },
    {
     "data": {
      "application/vnd.jupyter.widget-view+json": {
       "model_id": "416039d8f597413993e116c386249d2c",
       "version_major": 2,
       "version_minor": 0
      },
      "text/plain": [
       "0it [00:00, ?it/s]"
      ]
     },
     "metadata": {},
     "output_type": "display_data"
    },
    {
     "name": "stdout",
     "output_type": "stream",
     "text": [
      "Finished infusing anomalies to p=0.25, m=0.2\n"
     ]
    },
    {
     "data": {
      "application/vnd.jupyter.widget-view+json": {
       "model_id": "5e7227544a13493d955996ade1730b16",
       "version_major": 2,
       "version_minor": 0
      },
      "text/plain": [
       "0it [00:00, ?it/s]"
      ]
     },
     "metadata": {},
     "output_type": "display_data"
    },
    {
     "data": {
      "application/vnd.jupyter.widget-view+json": {
       "model_id": "734fd7e7a7ea419d9cb234e9b51ccdbe",
       "version_major": 2,
       "version_minor": 0
      },
      "text/plain": [
       "0it [00:00, ?it/s]"
      ]
     },
     "metadata": {},
     "output_type": "display_data"
    },
    {
     "data": {
      "application/vnd.jupyter.widget-view+json": {
       "model_id": "9f2966229a5e474da20f44bdd5e68808",
       "version_major": 2,
       "version_minor": 0
      },
      "text/plain": [
       "0it [00:00, ?it/s]"
      ]
     },
     "metadata": {},
     "output_type": "display_data"
    },
    {
     "data": {
      "application/vnd.jupyter.widget-view+json": {
       "model_id": "b34ff82962734fcc9e57edf54dafff4c",
       "version_major": 2,
       "version_minor": 0
      },
      "text/plain": [
       "0it [00:00, ?it/s]"
      ]
     },
     "metadata": {},
     "output_type": "display_data"
    },
    {
     "data": {
      "application/vnd.jupyter.widget-view+json": {
       "model_id": "63e9c7c5c1b74e4380d8faa482ad50ac",
       "version_major": 2,
       "version_minor": 0
      },
      "text/plain": [
       "0it [00:00, ?it/s]"
      ]
     },
     "metadata": {},
     "output_type": "display_data"
    },
    {
     "name": "stdout",
     "output_type": "stream",
     "text": [
      "Finished infusing anomalies to p=0.25, m=0.4\n"
     ]
    },
    {
     "data": {
      "application/vnd.jupyter.widget-view+json": {
       "model_id": "d443819f67ac498aa966cf45c435b60f",
       "version_major": 2,
       "version_minor": 0
      },
      "text/plain": [
       "0it [00:00, ?it/s]"
      ]
     },
     "metadata": {},
     "output_type": "display_data"
    },
    {
     "data": {
      "application/vnd.jupyter.widget-view+json": {
       "model_id": "86479acf0d3d425fa95d85e275acbbe5",
       "version_major": 2,
       "version_minor": 0
      },
      "text/plain": [
       "0it [00:00, ?it/s]"
      ]
     },
     "metadata": {},
     "output_type": "display_data"
    },
    {
     "data": {
      "application/vnd.jupyter.widget-view+json": {
       "model_id": "891d17db54074c709bd4fe4d42a94e86",
       "version_major": 2,
       "version_minor": 0
      },
      "text/plain": [
       "0it [00:00, ?it/s]"
      ]
     },
     "metadata": {},
     "output_type": "display_data"
    },
    {
     "data": {
      "application/vnd.jupyter.widget-view+json": {
       "model_id": "eb18284da15144b5bd6242f0f5b57b88",
       "version_major": 2,
       "version_minor": 0
      },
      "text/plain": [
       "0it [00:00, ?it/s]"
      ]
     },
     "metadata": {},
     "output_type": "display_data"
    },
    {
     "data": {
      "application/vnd.jupyter.widget-view+json": {
       "model_id": "22663974dc3749b9905b1410584240c6",
       "version_major": 2,
       "version_minor": 0
      },
      "text/plain": [
       "0it [00:00, ?it/s]"
      ]
     },
     "metadata": {},
     "output_type": "display_data"
    },
    {
     "name": "stdout",
     "output_type": "stream",
     "text": [
      "Finished infusing anomalies to p=0.25, m=0.8\n"
     ]
    },
    {
     "data": {
      "application/vnd.jupyter.widget-view+json": {
       "model_id": "bfec1fea6c1e43278d97b202ccf81e18",
       "version_major": 2,
       "version_minor": 0
      },
      "text/plain": [
       "0it [00:00, ?it/s]"
      ]
     },
     "metadata": {},
     "output_type": "display_data"
    },
    {
     "data": {
      "application/vnd.jupyter.widget-view+json": {
       "model_id": "dad207adb59e4cf2a764ac6f120e8b8b",
       "version_major": 2,
       "version_minor": 0
      },
      "text/plain": [
       "0it [00:00, ?it/s]"
      ]
     },
     "metadata": {},
     "output_type": "display_data"
    },
    {
     "data": {
      "application/vnd.jupyter.widget-view+json": {
       "model_id": "1cb02e2e6e6149dfa02988e2721c528b",
       "version_major": 2,
       "version_minor": 0
      },
      "text/plain": [
       "0it [00:00, ?it/s]"
      ]
     },
     "metadata": {},
     "output_type": "display_data"
    },
    {
     "data": {
      "application/vnd.jupyter.widget-view+json": {
       "model_id": "586a66fc4e5542ffae78c4e177cbb2c3",
       "version_major": 2,
       "version_minor": 0
      },
      "text/plain": [
       "0it [00:00, ?it/s]"
      ]
     },
     "metadata": {},
     "output_type": "display_data"
    },
    {
     "data": {
      "application/vnd.jupyter.widget-view+json": {
       "model_id": "0dd66036540e438ab196fe6065c99235",
       "version_major": 2,
       "version_minor": 0
      },
      "text/plain": [
       "0it [00:00, ?it/s]"
      ]
     },
     "metadata": {},
     "output_type": "display_data"
    },
    {
     "name": "stdout",
     "output_type": "stream",
     "text": [
      "Finished infusing anomalies to p=0.3, m=0.05\n"
     ]
    },
    {
     "data": {
      "application/vnd.jupyter.widget-view+json": {
       "model_id": "31130b8bce904302a49bd4555db96768",
       "version_major": 2,
       "version_minor": 0
      },
      "text/plain": [
       "0it [00:00, ?it/s]"
      ]
     },
     "metadata": {},
     "output_type": "display_data"
    },
    {
     "data": {
      "application/vnd.jupyter.widget-view+json": {
       "model_id": "505e5d5741e24a8bb279c6215d1d8dc2",
       "version_major": 2,
       "version_minor": 0
      },
      "text/plain": [
       "0it [00:00, ?it/s]"
      ]
     },
     "metadata": {},
     "output_type": "display_data"
    },
    {
     "data": {
      "application/vnd.jupyter.widget-view+json": {
       "model_id": "1231e9a605e64c1889e215c0ac13f237",
       "version_major": 2,
       "version_minor": 0
      },
      "text/plain": [
       "0it [00:00, ?it/s]"
      ]
     },
     "metadata": {},
     "output_type": "display_data"
    },
    {
     "data": {
      "application/vnd.jupyter.widget-view+json": {
       "model_id": "de82c859470c45da855c342b5233b930",
       "version_major": 2,
       "version_minor": 0
      },
      "text/plain": [
       "0it [00:00, ?it/s]"
      ]
     },
     "metadata": {},
     "output_type": "display_data"
    },
    {
     "data": {
      "application/vnd.jupyter.widget-view+json": {
       "model_id": "c7fbc59f2bf446b4b0e33835050328e3",
       "version_major": 2,
       "version_minor": 0
      },
      "text/plain": [
       "0it [00:00, ?it/s]"
      ]
     },
     "metadata": {},
     "output_type": "display_data"
    },
    {
     "name": "stdout",
     "output_type": "stream",
     "text": [
      "Finished infusing anomalies to p=0.3, m=0.1\n"
     ]
    },
    {
     "data": {
      "application/vnd.jupyter.widget-view+json": {
       "model_id": "dc24d3c16d0b4d5d83a51670f724da46",
       "version_major": 2,
       "version_minor": 0
      },
      "text/plain": [
       "0it [00:00, ?it/s]"
      ]
     },
     "metadata": {},
     "output_type": "display_data"
    },
    {
     "data": {
      "application/vnd.jupyter.widget-view+json": {
       "model_id": "aae58483dbe642e09651883d9069acaa",
       "version_major": 2,
       "version_minor": 0
      },
      "text/plain": [
       "0it [00:00, ?it/s]"
      ]
     },
     "metadata": {},
     "output_type": "display_data"
    },
    {
     "data": {
      "application/vnd.jupyter.widget-view+json": {
       "model_id": "21fa06637c9b4e68b81cfbc88aa3d6e2",
       "version_major": 2,
       "version_minor": 0
      },
      "text/plain": [
       "0it [00:00, ?it/s]"
      ]
     },
     "metadata": {},
     "output_type": "display_data"
    },
    {
     "data": {
      "application/vnd.jupyter.widget-view+json": {
       "model_id": "6e0feccff43e489e8999e5fc20f182c3",
       "version_major": 2,
       "version_minor": 0
      },
      "text/plain": [
       "0it [00:00, ?it/s]"
      ]
     },
     "metadata": {},
     "output_type": "display_data"
    },
    {
     "data": {
      "application/vnd.jupyter.widget-view+json": {
       "model_id": "ed2f80b5ecac42cd948a8bbda9f520a5",
       "version_major": 2,
       "version_minor": 0
      },
      "text/plain": [
       "0it [00:00, ?it/s]"
      ]
     },
     "metadata": {},
     "output_type": "display_data"
    },
    {
     "name": "stdout",
     "output_type": "stream",
     "text": [
      "Finished infusing anomalies to p=0.3, m=0.2\n"
     ]
    },
    {
     "data": {
      "application/vnd.jupyter.widget-view+json": {
       "model_id": "938ad9bceee3468a8c6247e90cc9f0a6",
       "version_major": 2,
       "version_minor": 0
      },
      "text/plain": [
       "0it [00:00, ?it/s]"
      ]
     },
     "metadata": {},
     "output_type": "display_data"
    },
    {
     "data": {
      "application/vnd.jupyter.widget-view+json": {
       "model_id": "bec6db9aecd746438bfec8d9fb4fc999",
       "version_major": 2,
       "version_minor": 0
      },
      "text/plain": [
       "0it [00:00, ?it/s]"
      ]
     },
     "metadata": {},
     "output_type": "display_data"
    },
    {
     "data": {
      "application/vnd.jupyter.widget-view+json": {
       "model_id": "0af4335206af41268bac5d6943d17450",
       "version_major": 2,
       "version_minor": 0
      },
      "text/plain": [
       "0it [00:00, ?it/s]"
      ]
     },
     "metadata": {},
     "output_type": "display_data"
    },
    {
     "data": {
      "application/vnd.jupyter.widget-view+json": {
       "model_id": "50fbe86c01e04de9ae693da585032b76",
       "version_major": 2,
       "version_minor": 0
      },
      "text/plain": [
       "0it [00:00, ?it/s]"
      ]
     },
     "metadata": {},
     "output_type": "display_data"
    },
    {
     "data": {
      "application/vnd.jupyter.widget-view+json": {
       "model_id": "017a812f3f204aa8af6c0fcd11a82dd4",
       "version_major": 2,
       "version_minor": 0
      },
      "text/plain": [
       "0it [00:00, ?it/s]"
      ]
     },
     "metadata": {},
     "output_type": "display_data"
    },
    {
     "name": "stdout",
     "output_type": "stream",
     "text": [
      "Finished infusing anomalies to p=0.3, m=0.4\n"
     ]
    },
    {
     "data": {
      "application/vnd.jupyter.widget-view+json": {
       "model_id": "06217020457943b1b4b5a1e432c3963b",
       "version_major": 2,
       "version_minor": 0
      },
      "text/plain": [
       "0it [00:00, ?it/s]"
      ]
     },
     "metadata": {},
     "output_type": "display_data"
    },
    {
     "data": {
      "application/vnd.jupyter.widget-view+json": {
       "model_id": "79bd0bf4f83441af95e2e0f311da23eb",
       "version_major": 2,
       "version_minor": 0
      },
      "text/plain": [
       "0it [00:00, ?it/s]"
      ]
     },
     "metadata": {},
     "output_type": "display_data"
    },
    {
     "data": {
      "application/vnd.jupyter.widget-view+json": {
       "model_id": "c6dcd47fc46e4c92a2b6503c3ed6c376",
       "version_major": 2,
       "version_minor": 0
      },
      "text/plain": [
       "0it [00:00, ?it/s]"
      ]
     },
     "metadata": {},
     "output_type": "display_data"
    },
    {
     "data": {
      "application/vnd.jupyter.widget-view+json": {
       "model_id": "dd6936d3fa094aaea6a9d389556eb258",
       "version_major": 2,
       "version_minor": 0
      },
      "text/plain": [
       "0it [00:00, ?it/s]"
      ]
     },
     "metadata": {},
     "output_type": "display_data"
    },
    {
     "data": {
      "application/vnd.jupyter.widget-view+json": {
       "model_id": "48e157e0cd3343f8b86f4f83d6518d29",
       "version_major": 2,
       "version_minor": 0
      },
      "text/plain": [
       "0it [00:00, ?it/s]"
      ]
     },
     "metadata": {},
     "output_type": "display_data"
    },
    {
     "name": "stdout",
     "output_type": "stream",
     "text": [
      "Finished infusing anomalies to p=0.3, m=0.8\n"
     ]
    },
    {
     "data": {
      "application/vnd.jupyter.widget-view+json": {
       "model_id": "ae2b86fdc60f4039950ceed9bddfa038",
       "version_major": 2,
       "version_minor": 0
      },
      "text/plain": [
       "0it [00:00, ?it/s]"
      ]
     },
     "metadata": {},
     "output_type": "display_data"
    },
    {
     "data": {
      "application/vnd.jupyter.widget-view+json": {
       "model_id": "db646f002a3f4946b8b5ad035d894cdf",
       "version_major": 2,
       "version_minor": 0
      },
      "text/plain": [
       "0it [00:00, ?it/s]"
      ]
     },
     "metadata": {},
     "output_type": "display_data"
    },
    {
     "data": {
      "application/vnd.jupyter.widget-view+json": {
       "model_id": "b6340e29f535433b97a5356ff2caacce",
       "version_major": 2,
       "version_minor": 0
      },
      "text/plain": [
       "0it [00:00, ?it/s]"
      ]
     },
     "metadata": {},
     "output_type": "display_data"
    },
    {
     "data": {
      "application/vnd.jupyter.widget-view+json": {
       "model_id": "5001c82c448a4b13aa1d06fca92ae7bb",
       "version_major": 2,
       "version_minor": 0
      },
      "text/plain": [
       "0it [00:00, ?it/s]"
      ]
     },
     "metadata": {},
     "output_type": "display_data"
    },
    {
     "data": {
      "application/vnd.jupyter.widget-view+json": {
       "model_id": "a3dcc3770c1841008aaf261c7268553a",
       "version_major": 2,
       "version_minor": 0
      },
      "text/plain": [
       "0it [00:00, ?it/s]"
      ]
     },
     "metadata": {},
     "output_type": "display_data"
    },
    {
     "name": "stdout",
     "output_type": "stream",
     "text": [
      "Finished infusing anomalies to p=0.35, m=0.05\n"
     ]
    },
    {
     "data": {
      "application/vnd.jupyter.widget-view+json": {
       "model_id": "e026b13ff59c4f18b25bf5c49e86ce24",
       "version_major": 2,
       "version_minor": 0
      },
      "text/plain": [
       "0it [00:00, ?it/s]"
      ]
     },
     "metadata": {},
     "output_type": "display_data"
    },
    {
     "data": {
      "application/vnd.jupyter.widget-view+json": {
       "model_id": "c79642f608684ab3a51df56b1524680a",
       "version_major": 2,
       "version_minor": 0
      },
      "text/plain": [
       "0it [00:00, ?it/s]"
      ]
     },
     "metadata": {},
     "output_type": "display_data"
    },
    {
     "data": {
      "application/vnd.jupyter.widget-view+json": {
       "model_id": "92d697b7a2454a10be803c4e40d1526b",
       "version_major": 2,
       "version_minor": 0
      },
      "text/plain": [
       "0it [00:00, ?it/s]"
      ]
     },
     "metadata": {},
     "output_type": "display_data"
    },
    {
     "data": {
      "application/vnd.jupyter.widget-view+json": {
       "model_id": "75d07459da4f45e7b830017882784e6a",
       "version_major": 2,
       "version_minor": 0
      },
      "text/plain": [
       "0it [00:00, ?it/s]"
      ]
     },
     "metadata": {},
     "output_type": "display_data"
    },
    {
     "data": {
      "application/vnd.jupyter.widget-view+json": {
       "model_id": "5b58c8fcc942499ea3c8e09928144901",
       "version_major": 2,
       "version_minor": 0
      },
      "text/plain": [
       "0it [00:00, ?it/s]"
      ]
     },
     "metadata": {},
     "output_type": "display_data"
    },
    {
     "name": "stdout",
     "output_type": "stream",
     "text": [
      "Finished infusing anomalies to p=0.35, m=0.1\n"
     ]
    },
    {
     "data": {
      "application/vnd.jupyter.widget-view+json": {
       "model_id": "a546847bee334ef3988da75111abefa6",
       "version_major": 2,
       "version_minor": 0
      },
      "text/plain": [
       "0it [00:00, ?it/s]"
      ]
     },
     "metadata": {},
     "output_type": "display_data"
    },
    {
     "data": {
      "application/vnd.jupyter.widget-view+json": {
       "model_id": "03213a5e7733491a95210515bd156fb0",
       "version_major": 2,
       "version_minor": 0
      },
      "text/plain": [
       "0it [00:00, ?it/s]"
      ]
     },
     "metadata": {},
     "output_type": "display_data"
    },
    {
     "data": {
      "application/vnd.jupyter.widget-view+json": {
       "model_id": "eb2f2e80866b45f2b906b10ce4feb2c3",
       "version_major": 2,
       "version_minor": 0
      },
      "text/plain": [
       "0it [00:00, ?it/s]"
      ]
     },
     "metadata": {},
     "output_type": "display_data"
    },
    {
     "data": {
      "application/vnd.jupyter.widget-view+json": {
       "model_id": "7e6ed87b333443a8929cab71141060f9",
       "version_major": 2,
       "version_minor": 0
      },
      "text/plain": [
       "0it [00:00, ?it/s]"
      ]
     },
     "metadata": {},
     "output_type": "display_data"
    },
    {
     "data": {
      "application/vnd.jupyter.widget-view+json": {
       "model_id": "6ccbea43676f4a819ee49660e8283a5a",
       "version_major": 2,
       "version_minor": 0
      },
      "text/plain": [
       "0it [00:00, ?it/s]"
      ]
     },
     "metadata": {},
     "output_type": "display_data"
    },
    {
     "name": "stdout",
     "output_type": "stream",
     "text": [
      "Finished infusing anomalies to p=0.35, m=0.2\n"
     ]
    },
    {
     "data": {
      "application/vnd.jupyter.widget-view+json": {
       "model_id": "4e49445163e44dc497884e91b0294f75",
       "version_major": 2,
       "version_minor": 0
      },
      "text/plain": [
       "0it [00:00, ?it/s]"
      ]
     },
     "metadata": {},
     "output_type": "display_data"
    },
    {
     "data": {
      "application/vnd.jupyter.widget-view+json": {
       "model_id": "9a823629ab7f48f39d3c5769da936cc4",
       "version_major": 2,
       "version_minor": 0
      },
      "text/plain": [
       "0it [00:00, ?it/s]"
      ]
     },
     "metadata": {},
     "output_type": "display_data"
    },
    {
     "data": {
      "application/vnd.jupyter.widget-view+json": {
       "model_id": "5f6954bb510a45ed8c1c18a1303a91fa",
       "version_major": 2,
       "version_minor": 0
      },
      "text/plain": [
       "0it [00:00, ?it/s]"
      ]
     },
     "metadata": {},
     "output_type": "display_data"
    },
    {
     "data": {
      "application/vnd.jupyter.widget-view+json": {
       "model_id": "8dfaa65441bf4ba18fc4f0ee82707b6b",
       "version_major": 2,
       "version_minor": 0
      },
      "text/plain": [
       "0it [00:00, ?it/s]"
      ]
     },
     "metadata": {},
     "output_type": "display_data"
    },
    {
     "data": {
      "application/vnd.jupyter.widget-view+json": {
       "model_id": "7e40c73872a94ed18cd83e8b88b8de81",
       "version_major": 2,
       "version_minor": 0
      },
      "text/plain": [
       "0it [00:00, ?it/s]"
      ]
     },
     "metadata": {},
     "output_type": "display_data"
    },
    {
     "name": "stdout",
     "output_type": "stream",
     "text": [
      "Finished infusing anomalies to p=0.35, m=0.4\n"
     ]
    },
    {
     "data": {
      "application/vnd.jupyter.widget-view+json": {
       "model_id": "ef01400f47d841db9031eb8875da69eb",
       "version_major": 2,
       "version_minor": 0
      },
      "text/plain": [
       "0it [00:00, ?it/s]"
      ]
     },
     "metadata": {},
     "output_type": "display_data"
    },
    {
     "data": {
      "application/vnd.jupyter.widget-view+json": {
       "model_id": "256b0b15979a4fd0923a32965b6526d8",
       "version_major": 2,
       "version_minor": 0
      },
      "text/plain": [
       "0it [00:00, ?it/s]"
      ]
     },
     "metadata": {},
     "output_type": "display_data"
    },
    {
     "data": {
      "application/vnd.jupyter.widget-view+json": {
       "model_id": "06906cd17f9548c887eb2b2cd1166240",
       "version_major": 2,
       "version_minor": 0
      },
      "text/plain": [
       "0it [00:00, ?it/s]"
      ]
     },
     "metadata": {},
     "output_type": "display_data"
    },
    {
     "data": {
      "application/vnd.jupyter.widget-view+json": {
       "model_id": "0b3f12a132534687b1706c7e93ef70b3",
       "version_major": 2,
       "version_minor": 0
      },
      "text/plain": [
       "0it [00:00, ?it/s]"
      ]
     },
     "metadata": {},
     "output_type": "display_data"
    },
    {
     "data": {
      "application/vnd.jupyter.widget-view+json": {
       "model_id": "09e8f6789e5c408ca8ce12cd2325dfb0",
       "version_major": 2,
       "version_minor": 0
      },
      "text/plain": [
       "0it [00:00, ?it/s]"
      ]
     },
     "metadata": {},
     "output_type": "display_data"
    },
    {
     "name": "stdout",
     "output_type": "stream",
     "text": [
      "Finished infusing anomalies to p=0.35, m=0.8\n"
     ]
    },
    {
     "data": {
      "application/vnd.jupyter.widget-view+json": {
       "model_id": "1292d1457c86446e9483c3508a7ca182",
       "version_major": 2,
       "version_minor": 0
      },
      "text/plain": [
       "0it [00:00, ?it/s]"
      ]
     },
     "metadata": {},
     "output_type": "display_data"
    },
    {
     "data": {
      "application/vnd.jupyter.widget-view+json": {
       "model_id": "1adc525f51fa4a54a9a48736973f1fd1",
       "version_major": 2,
       "version_minor": 0
      },
      "text/plain": [
       "0it [00:00, ?it/s]"
      ]
     },
     "metadata": {},
     "output_type": "display_data"
    },
    {
     "data": {
      "application/vnd.jupyter.widget-view+json": {
       "model_id": "dd7aa784d5664171815fe7f9cb39f84e",
       "version_major": 2,
       "version_minor": 0
      },
      "text/plain": [
       "0it [00:00, ?it/s]"
      ]
     },
     "metadata": {},
     "output_type": "display_data"
    },
    {
     "data": {
      "application/vnd.jupyter.widget-view+json": {
       "model_id": "d1a3db857c2a46fc83a1f298c53f9fe2",
       "version_major": 2,
       "version_minor": 0
      },
      "text/plain": [
       "0it [00:00, ?it/s]"
      ]
     },
     "metadata": {},
     "output_type": "display_data"
    },
    {
     "data": {
      "application/vnd.jupyter.widget-view+json": {
       "model_id": "b742f903763d49d8aa34f346aab2b0a1",
       "version_major": 2,
       "version_minor": 0
      },
      "text/plain": [
       "0it [00:00, ?it/s]"
      ]
     },
     "metadata": {},
     "output_type": "display_data"
    },
    {
     "name": "stdout",
     "output_type": "stream",
     "text": [
      "Finished infusing anomalies to p=0.4, m=0.05\n"
     ]
    },
    {
     "data": {
      "application/vnd.jupyter.widget-view+json": {
       "model_id": "b8d508cf9b6546508348620f9695abd1",
       "version_major": 2,
       "version_minor": 0
      },
      "text/plain": [
       "0it [00:00, ?it/s]"
      ]
     },
     "metadata": {},
     "output_type": "display_data"
    },
    {
     "data": {
      "application/vnd.jupyter.widget-view+json": {
       "model_id": "882fd73bc9e245dd809dbbcfa9372b09",
       "version_major": 2,
       "version_minor": 0
      },
      "text/plain": [
       "0it [00:00, ?it/s]"
      ]
     },
     "metadata": {},
     "output_type": "display_data"
    },
    {
     "data": {
      "application/vnd.jupyter.widget-view+json": {
       "model_id": "58bdf60aac2141c0a88bc305fdccf447",
       "version_major": 2,
       "version_minor": 0
      },
      "text/plain": [
       "0it [00:00, ?it/s]"
      ]
     },
     "metadata": {},
     "output_type": "display_data"
    },
    {
     "data": {
      "application/vnd.jupyter.widget-view+json": {
       "model_id": "bff35653e0d94e1ba3cca845299af5da",
       "version_major": 2,
       "version_minor": 0
      },
      "text/plain": [
       "0it [00:00, ?it/s]"
      ]
     },
     "metadata": {},
     "output_type": "display_data"
    },
    {
     "data": {
      "application/vnd.jupyter.widget-view+json": {
       "model_id": "5ef6c2d7e3c14deb95016ac42f60dfd9",
       "version_major": 2,
       "version_minor": 0
      },
      "text/plain": [
       "0it [00:00, ?it/s]"
      ]
     },
     "metadata": {},
     "output_type": "display_data"
    },
    {
     "name": "stdout",
     "output_type": "stream",
     "text": [
      "Finished infusing anomalies to p=0.4, m=0.1\n"
     ]
    },
    {
     "data": {
      "application/vnd.jupyter.widget-view+json": {
       "model_id": "1bc1aa431d6943ec8c9227cabe1f3287",
       "version_major": 2,
       "version_minor": 0
      },
      "text/plain": [
       "0it [00:00, ?it/s]"
      ]
     },
     "metadata": {},
     "output_type": "display_data"
    },
    {
     "data": {
      "application/vnd.jupyter.widget-view+json": {
       "model_id": "a31c978e193b4351bc985d04a3a5dd5d",
       "version_major": 2,
       "version_minor": 0
      },
      "text/plain": [
       "0it [00:00, ?it/s]"
      ]
     },
     "metadata": {},
     "output_type": "display_data"
    },
    {
     "data": {
      "application/vnd.jupyter.widget-view+json": {
       "model_id": "ff8eb66cbe6848b39cfee3f2543627ea",
       "version_major": 2,
       "version_minor": 0
      },
      "text/plain": [
       "0it [00:00, ?it/s]"
      ]
     },
     "metadata": {},
     "output_type": "display_data"
    },
    {
     "data": {
      "application/vnd.jupyter.widget-view+json": {
       "model_id": "13ecdc8f4e5e40fd8d204e74f91d7aa2",
       "version_major": 2,
       "version_minor": 0
      },
      "text/plain": [
       "0it [00:00, ?it/s]"
      ]
     },
     "metadata": {},
     "output_type": "display_data"
    },
    {
     "data": {
      "application/vnd.jupyter.widget-view+json": {
       "model_id": "2f11210a20164042b5f136c297255f0d",
       "version_major": 2,
       "version_minor": 0
      },
      "text/plain": [
       "0it [00:00, ?it/s]"
      ]
     },
     "metadata": {},
     "output_type": "display_data"
    },
    {
     "name": "stdout",
     "output_type": "stream",
     "text": [
      "Finished infusing anomalies to p=0.4, m=0.2\n"
     ]
    },
    {
     "data": {
      "application/vnd.jupyter.widget-view+json": {
       "model_id": "3bfbc9b5639645e38e6fe811022c3bb3",
       "version_major": 2,
       "version_minor": 0
      },
      "text/plain": [
       "0it [00:00, ?it/s]"
      ]
     },
     "metadata": {},
     "output_type": "display_data"
    },
    {
     "data": {
      "application/vnd.jupyter.widget-view+json": {
       "model_id": "a6befd7005744547819e6c6de706dd19",
       "version_major": 2,
       "version_minor": 0
      },
      "text/plain": [
       "0it [00:00, ?it/s]"
      ]
     },
     "metadata": {},
     "output_type": "display_data"
    },
    {
     "data": {
      "application/vnd.jupyter.widget-view+json": {
       "model_id": "489a55f682df4704a85f71eb87c799d0",
       "version_major": 2,
       "version_minor": 0
      },
      "text/plain": [
       "0it [00:00, ?it/s]"
      ]
     },
     "metadata": {},
     "output_type": "display_data"
    },
    {
     "data": {
      "application/vnd.jupyter.widget-view+json": {
       "model_id": "b5233a0d1781405ba2a7add87e59c5d9",
       "version_major": 2,
       "version_minor": 0
      },
      "text/plain": [
       "0it [00:00, ?it/s]"
      ]
     },
     "metadata": {},
     "output_type": "display_data"
    },
    {
     "data": {
      "application/vnd.jupyter.widget-view+json": {
       "model_id": "48d34da025284cb381053cd99c72e6e3",
       "version_major": 2,
       "version_minor": 0
      },
      "text/plain": [
       "0it [00:00, ?it/s]"
      ]
     },
     "metadata": {},
     "output_type": "display_data"
    },
    {
     "name": "stdout",
     "output_type": "stream",
     "text": [
      "Finished infusing anomalies to p=0.4, m=0.4\n"
     ]
    },
    {
     "data": {
      "application/vnd.jupyter.widget-view+json": {
       "model_id": "a90a867049b346aba9f23c0173005406",
       "version_major": 2,
       "version_minor": 0
      },
      "text/plain": [
       "0it [00:00, ?it/s]"
      ]
     },
     "metadata": {},
     "output_type": "display_data"
    },
    {
     "data": {
      "application/vnd.jupyter.widget-view+json": {
       "model_id": "bdc23f397c7345ada9ac58d42ef1c719",
       "version_major": 2,
       "version_minor": 0
      },
      "text/plain": [
       "0it [00:00, ?it/s]"
      ]
     },
     "metadata": {},
     "output_type": "display_data"
    },
    {
     "data": {
      "application/vnd.jupyter.widget-view+json": {
       "model_id": "3651aaf4745e450bad091133ba665d58",
       "version_major": 2,
       "version_minor": 0
      },
      "text/plain": [
       "0it [00:00, ?it/s]"
      ]
     },
     "metadata": {},
     "output_type": "display_data"
    },
    {
     "data": {
      "application/vnd.jupyter.widget-view+json": {
       "model_id": "6082e58c5a874416ad6e660ca1bf81a5",
       "version_major": 2,
       "version_minor": 0
      },
      "text/plain": [
       "0it [00:00, ?it/s]"
      ]
     },
     "metadata": {},
     "output_type": "display_data"
    },
    {
     "data": {
      "application/vnd.jupyter.widget-view+json": {
       "model_id": "4e1ccd2c672747aa8eb87f853bc13306",
       "version_major": 2,
       "version_minor": 0
      },
      "text/plain": [
       "0it [00:00, ?it/s]"
      ]
     },
     "metadata": {},
     "output_type": "display_data"
    },
    {
     "name": "stdout",
     "output_type": "stream",
     "text": [
      "Finished infusing anomalies to p=0.4, m=0.8\n"
     ]
    }
   ],
   "source": [
    "create_experiment_networks(\n",
    "    base_dir = EXPERIMENT_PATH,\n",
    "    raw_comm_sizes_dir_path = RAW_NETWORKS_PATH,\n",
    "    train_test_split_num=TRAIN_TEST_SPLIT,\n",
    "    experiment_settings=EXPERIMENT_SETTINGS,\n",
    "    num_anom_comms=10,\n",
    "    verbose=False)"
   ]
  },
  {
   "cell_type": "code",
   "execution_count": null,
   "metadata": {},
   "outputs": [],
   "source": []
  }
 ],
 "metadata": {
  "kernelspec": {
   "display_name": "Python 3",
   "language": "python",
   "name": "python3"
  }
 },
 "nbformat": 4,
 "nbformat_minor": 2
}
