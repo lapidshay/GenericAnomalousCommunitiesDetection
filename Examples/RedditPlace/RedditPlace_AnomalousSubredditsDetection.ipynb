{
 "cells": [
  {
   "cell_type": "code",
   "execution_count": 1,
   "metadata": {},
   "outputs": [],
   "source": [
    "import os\n",
    "import json\n",
    "from config import DATA_PATHS, CONFIG\n",
    "import matplotlib.pyplot as plt\n",
    "%matplotlib inline\n",
    "import warnings\n",
    "warnings.filterwarnings('ignore')"
   ]
  },
  {
   "cell_type": "code",
   "execution_count": 2,
   "metadata": {},
   "outputs": [],
   "source": [
    "original_cur_dir = os.getcwd()\n",
    "os.chdir('..'); os.chdir('..')\n",
    "from AnomalousCommunityDetection.AnomalousCommunityDetector import AnomalousCommunityDetector\n",
    "os.chdir(original_cur_dir)"
   ]
  },
  {
   "cell_type": "code",
   "execution_count": 3,
   "metadata": {},
   "outputs": [],
   "source": [
    "with open(DATA_PATHS['TRAIN_SET_COMMS'], 'r',  encoding='UTF8') as file:\n",
    "    train_partitions_map = json.load(file)\n",
    "    \n",
    "with open(DATA_PATHS['TEST_SET_COMMS'], 'r',  encoding='UTF8') as file:\n",
    "    test_partitions_map = json.load(file)"
   ]
  },
  {
   "cell_type": "code",
   "execution_count": 4,
   "metadata": {},
   "outputs": [],
   "source": [
    "detector = AnomalousCommunityDetector(\n",
    "    train_partitions_map=train_partitions_map,\n",
    "    test_partitions_map=test_partitions_map,\n",
    "    community_partite_label=CONFIG['community_partite_label'],\n",
    "    vertex_partite_label=CONFIG['vertex_partite_label'],\n",
    "    classifer_obj=CONFIG['classifer_obj'])"
   ]
  },
  {
   "cell_type": "code",
   "execution_count": 5,
   "metadata": {},
   "outputs": [
    {
     "name": "stdout",
     "output_type": "stream",
     "text": [
      "Train BiPartite network properties:\n",
      "\tNumber of 'User'-partite vertices: 42160\n",
      "\tNumber of 'Subreddit'-partite vertices: 100\n",
      "\tTotal number of vertices: 42260\n",
      "\tTotal number of edges: 43802\n",
      "Test BiPartite network properties:\n",
      "\tNumber of 'User'-partite vertices: 146654\n",
      "\tNumber of 'Subreddit'-partite vertices: 349\n",
      "\tTotal number of vertices: 147003\n",
      "\tTotal number of edges: 167128\n",
      "\n",
      "Extracting positive edges features...\n",
      "\n"
     ]
    },
    {
     "data": {
      "application/vnd.jupyter.widget-view+json": {
       "model_id": "76c39d44ef3d40729a0eea356e2f71b3",
       "version_major": 2,
       "version_minor": 0
      },
      "text/plain": [
       "  0%|          | 0/43802 [00:00<?, ?it/s]"
      ]
     },
     "metadata": {},
     "output_type": "display_data"
    },
    {
     "name": "stdout",
     "output_type": "stream",
     "text": [
      "\n",
      "Extracting negative edges features...\n",
      "\n"
     ]
    },
    {
     "data": {
      "application/vnd.jupyter.widget-view+json": {
       "model_id": "b36deabf3c9f4360b49db09037064640",
       "version_major": 2,
       "version_minor": 0
      },
      "text/plain": [
       "  0%|          | 0/43802 [00:00<?, ?it/s]"
      ]
     },
     "metadata": {},
     "output_type": "display_data"
    },
    {
     "name": "stdout",
     "output_type": "stream",
     "text": [
      "\n",
      "Extracting positive edges features...\n",
      "\n"
     ]
    },
    {
     "data": {
      "application/vnd.jupyter.widget-view+json": {
       "model_id": "dd5f8e263f2f4d9799b6c131e5a0583d",
       "version_major": 2,
       "version_minor": 0
      },
      "text/plain": [
       "  0%|          | 0/166759 [00:00<?, ?it/s]"
      ]
     },
     "metadata": {},
     "output_type": "display_data"
    },
    {
     "name": "stdout",
     "output_type": "stream",
     "text": [
      "\n",
      "Extracting negative edges features...\n",
      "\n"
     ]
    },
    {
     "data": {
      "application/vnd.jupyter.widget-view+json": {
       "model_id": "5cd1eacc9b4143edae3faf88d50327b1",
       "version_major": 2,
       "version_minor": 0
      },
      "text/plain": [
       "0it [00:00, ?it/s]"
      ]
     },
     "metadata": {},
     "output_type": "display_data"
    },
    {
     "name": "stdout",
     "output_type": "stream",
     "text": [
      "Validation scores:\n",
      "\tPrecision : 0.996\n",
      "\tAccuracy  : 0.973\n",
      "\tF1        : 0.972\n",
      "\tROC AUC   : 0.973\n",
      "\n",
      "                  Predicted\n",
      "                   0     1   \n",
      "                ------------- \n",
      "            0  | 8768 | 27   |\n",
      "     True      |-------------|\n",
      "            1  | 435  | 8291 |\n",
      "                ------------- \n",
      "            \n",
      "Test set edge existence predictions:\n",
      "\tpredicted_exist: 14248\n",
      "\tpredicted_not_exist: 24273\n",
      "\tpredicted_ratio: 0.854\n"
     ]
    }
   ],
   "source": [
    "results = detector.detect_anomalous_communities(\n",
    "    max_edges_to_sample=CONFIG['max_edges_to_sample'],\n",
    "    label_thresh=CONFIG['label_thresh'],\n",
    "    val_size=CONFIG['val_size'],\n",
    "    save_topological_features=CONFIG['save_topological_features'],\n",
    "    save_dir_path=CONFIG['save_dir_path'],\n",
    "    verbose=CONFIG['verbose'])"
   ]
  },
  {
   "cell_type": "markdown",
   "metadata": {},
   "source": [
    "# Results"
   ]
  },
  {
   "cell_type": "code",
   "execution_count": 6,
   "metadata": {},
   "outputs": [
    {
     "data": {
      "text/html": [
       "<div>\n",
       "<style scoped>\n",
       "    .dataframe tbody tr th:only-of-type {\n",
       "        vertical-align: middle;\n",
       "    }\n",
       "\n",
       "    .dataframe tbody tr th {\n",
       "        vertical-align: top;\n",
       "    }\n",
       "\n",
       "    .dataframe thead th {\n",
       "        text-align: right;\n",
       "    }\n",
       "</style>\n",
       "<table border=\"1\" class=\"dataframe\">\n",
       "  <thead>\n",
       "    <tr style=\"text-align: right;\">\n",
       "      <th></th>\n",
       "      <th>normality_prob_mean__ranking</th>\n",
       "      <th>normality_prob_std__ranking</th>\n",
       "      <th>predicted_label_mean__ranking</th>\n",
       "      <th>predicted_label_std__ranking</th>\n",
       "    </tr>\n",
       "  </thead>\n",
       "  <tbody>\n",
       "    <tr>\n",
       "      <th>0</th>\n",
       "      <td>starryknights</td>\n",
       "      <td>lost</td>\n",
       "      <td>FloydVsVoid</td>\n",
       "      <td>COMPLETEANARCHY</td>\n",
       "    </tr>\n",
       "    <tr>\n",
       "      <th>1</th>\n",
       "      <td>placesnek</td>\n",
       "      <td>StrangerThings</td>\n",
       "      <td>GreyBlob</td>\n",
       "      <td>cavestory</td>\n",
       "    </tr>\n",
       "    <tr>\n",
       "      <th>2</th>\n",
       "      <td>cavestory</td>\n",
       "      <td>necrodancer</td>\n",
       "      <td>theitalyplace</td>\n",
       "      <td>BlueCorner</td>\n",
       "    </tr>\n",
       "  </tbody>\n",
       "</table>\n",
       "</div>"
      ],
      "text/plain": [
       "  normality_prob_mean__ranking normality_prob_std__ranking  \\\n",
       "0                starryknights                        lost   \n",
       "1                    placesnek              StrangerThings   \n",
       "2                    cavestory                 necrodancer   \n",
       "\n",
       "  predicted_label_mean__ranking predicted_label_std__ranking  \n",
       "0                   FloydVsVoid              COMPLETEANARCHY  \n",
       "1                      GreyBlob                    cavestory  \n",
       "2                 theitalyplace                   BlueCorner  "
      ]
     },
     "execution_count": 6,
     "metadata": {},
     "output_type": "execute_result"
    }
   ],
   "source": [
    "results[[col for col in results.columns if 'ranking' in col and 'weighted_sum' not in col and 'median' not in col]][-3:].reset_index(drop=True)"
   ]
  }
 ],
 "metadata": {
  "kernelspec": {
   "display_name": "Python 3",
   "language": "python",
   "name": "python3"
  },
  "language_info": {
   "codemirror_mode": {
    "name": "ipython",
    "version": 3
   },
   "file_extension": ".py",
   "mimetype": "text/x-python",
   "name": "python",
   "nbconvert_exporter": "python",
   "pygments_lexer": "ipython3",
   "version": "3.6.3"
  }
 },
 "nbformat": 4,
 "nbformat_minor": 2
}
