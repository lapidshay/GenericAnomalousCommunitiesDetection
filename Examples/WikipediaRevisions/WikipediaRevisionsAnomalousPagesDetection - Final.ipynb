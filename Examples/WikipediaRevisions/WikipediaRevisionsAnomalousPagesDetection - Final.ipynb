{
 "cells": [
  {
   "cell_type": "code",
   "execution_count": 1,
   "metadata": {},
   "outputs": [],
   "source": [
    "import os\n",
    "import json\n",
    "from config import DATA_PATHS, CONFIG, OUTPUT_PATH\n",
    "import matplotlib.pyplot as plt\n",
    "import warnings\n",
    "import numpy as np\n",
    "warnings.filterwarnings('ignore')\n",
    "%matplotlib inline  "
   ]
  },
  {
   "cell_type": "code",
   "execution_count": 2,
   "metadata": {},
   "outputs": [],
   "source": [
    "# import AnomalousCommunityDetector from parent directory\n",
    "original_cur_dir = os.getcwd()\n",
    "os.chdir('..'); os.chdir('..')\n",
    "from AnomalousCommunityDetection.AnomalousCommunityDetector import AnomalousCommunityDetector\n",
    "os.chdir(original_cur_dir)"
   ]
  },
  {
   "cell_type": "code",
   "execution_count": 3,
   "metadata": {},
   "outputs": [],
   "source": [
    "with open(DATA_PATHS['example_2']['TRAIN_SET_COMMS'], 'r', encoding='UTF8') as file:\n",
    "    train_partitions_map = json.load(file)\n",
    "    \n",
    "with open(DATA_PATHS['example_2']['TEST_SET_COMMS'], 'r', encoding='UTF8') as file:\n",
    "    test_partitions_map = json.load(file)"
   ]
  },
  {
   "cell_type": "code",
   "execution_count": 4,
   "metadata": {},
   "outputs": [
    {
     "name": "stdout",
     "output_type": "stream",
     "text": [
      "100\n",
      "1000\n"
     ]
    }
   ],
   "source": [
    "print(len(train_partitions_map))\n",
    "print(len(test_partitions_map))"
   ]
  },
  {
   "cell_type": "code",
   "execution_count": 20,
   "metadata": {},
   "outputs": [],
   "source": [
    "detector = AnomalousCommunityDetector(\n",
    "    train_partitions_map=train_partitions_map,\n",
    "    test_partitions_map=test_partitions_map,\n",
    "    community_partite_label=CONFIG['community_partite_label'],\n",
    "    vertex_partite_label=CONFIG['vertex_partite_label'],\n",
    "    classifer_obj=CONFIG['classifer_obj'])"
   ]
  },
  {
   "cell_type": "code",
   "execution_count": 21,
   "metadata": {},
   "outputs": [
    {
     "name": "stdout",
     "output_type": "stream",
     "text": [
      "Train BiPartite network properties:\n",
      "\tNumber of 'Page'-partite vertices: 100\n",
      "\tNumber of 'User'-partite vertices: 6386\n",
      "\tTotal number of vertices: 6486\n",
      "\tTotal number of edges: 11405\n",
      "Test BiPartite network properties:\n",
      "\tNumber of 'Page'-partite vertices: 1000\n",
      "\tNumber of 'User'-partite vertices: 47139\n",
      "\tTotal number of vertices: 48139\n",
      "\tTotal number of edges: 120706\n",
      "\n",
      "Extracting positive edges features...\n",
      "\n"
     ]
    },
    {
     "data": {
      "text/plain": [
       "  0%|          | 0/11405 [00:00<?, ?it/s]"
      ]
     },
     "metadata": {},
     "output_type": "display_data"
    },
    {
     "name": "stdout",
     "output_type": "stream",
     "text": [
      "\n",
      "Extracting negative edges features...\n",
      "\n"
     ]
    },
    {
     "data": {
      "text/plain": [
       "  0%|          | 0/11405 [00:00<?, ?it/s]"
      ]
     },
     "metadata": {},
     "output_type": "display_data"
    },
    {
     "name": "stdout",
     "output_type": "stream",
     "text": [
      "\n",
      "Extracting positive edges features...\n",
      "\n"
     ]
    },
    {
     "data": {
      "text/plain": [
       "  0%|          | 0/120706 [00:00<?, ?it/s]"
      ]
     },
     "metadata": {},
     "output_type": "display_data"
    },
    {
     "name": "stdout",
     "output_type": "stream",
     "text": [
      "\n",
      "Extracting negative edges features...\n",
      "\n"
     ]
    },
    {
     "data": {
      "text/plain": [
       "0it [00:00, ?it/s]"
      ]
     },
     "metadata": {},
     "output_type": "display_data"
    },
    {
     "name": "stdout",
     "output_type": "stream",
     "text": [
      "Validation scores:\n",
      "\tPrecision : 0.949\n",
      "\tAccuracy  : 0.928\n",
      "\tF1        : 0.927\n",
      "\tROC AUC   : 0.928\n",
      "\n",
      "                  Predicted\n",
      "                   0     1   \n",
      "                ------------- \n",
      "            0  | 2152 | 110  |\n",
      "     True      |-------------|\n",
      "            1  | 216  | 2084 |\n",
      "                ------------- \n",
      "            \n",
      "Test set edge existence predictions:\n",
      "\tpredicted_exist: 10729\n",
      "\tpredicted_not_exist: 13410\n",
      "\tpredicted_ratio: 0.888\n"
     ]
    }
   ],
   "source": [
    "results = detector.detect_anomalous_communities(\n",
    "    max_edges_to_sample=CONFIG['max_edges_to_sample'],\n",
    "    label_thresh=CONFIG['label_thresh'],\n",
    "    val_size=CONFIG['val_size'],\n",
    "    save_topological_features=CONFIG['save_topological_features'],\n",
    "    save_dir_path=CONFIG['save_dir_path'],\n",
    "    verbose=CONFIG['verbose'])"
   ]
  },
  {
   "cell_type": "markdown",
   "metadata": {},
   "source": [
    "Results"
   ]
  },
  {
   "cell_type": "code",
   "execution_count": 32,
   "metadata": {},
   "outputs": [
    {
     "data": {
      "text/html": [
       "<div>\n",
       "<style scoped>\n",
       "    .dataframe tbody tr th:only-of-type {\n",
       "        vertical-align: middle;\n",
       "    }\n",
       "\n",
       "    .dataframe tbody tr th {\n",
       "        vertical-align: top;\n",
       "    }\n",
       "\n",
       "    .dataframe thead th {\n",
       "        text-align: right;\n",
       "    }\n",
       "</style>\n",
       "<table border=\"1\" class=\"dataframe\">\n",
       "  <thead>\n",
       "    <tr style=\"text-align: right;\">\n",
       "      <th></th>\n",
       "      <th>normality_prob_mean__ranking</th>\n",
       "      <th>normality_prob_mean__score</th>\n",
       "      <th>normality_prob_std__ranking</th>\n",
       "      <th>normality_prob_std__score</th>\n",
       "      <th>normality_prob_median__ranking</th>\n",
       "      <th>normality_prob_median__score</th>\n",
       "      <th>predicted_label_mean__ranking</th>\n",
       "      <th>predicted_label_mean__score</th>\n",
       "      <th>predicted_label_std__ranking</th>\n",
       "      <th>predicted_label_std__score</th>\n",
       "      <th>weighted_sum__ranking</th>\n",
       "      <th>weighted_sum__score</th>\n",
       "    </tr>\n",
       "  </thead>\n",
       "  <tbody>\n",
       "    <tr>\n",
       "      <th>0</th>\n",
       "      <td>אביגדור_ליברמן</td>\n",
       "      <td>0.984787</td>\n",
       "      <td>אביגדור_ליברמן</td>\n",
       "      <td>0.958000</td>\n",
       "      <td>דילן_או'בריאן</td>\n",
       "      <td>0.999956</td>\n",
       "      <td>שלמה_ארצי</td>\n",
       "      <td>1.0</td>\n",
       "      <td>שלמה_ארצי</td>\n",
       "      <td>1.0</td>\n",
       "      <td>אופוס_המגזין_למוזיקה_קלאסית</td>\n",
       "      <td>0.032848354962593085</td>\n",
       "    </tr>\n",
       "    <tr>\n",
       "      <th>1</th>\n",
       "      <td>יצחק_רבין</td>\n",
       "      <td>0.982938</td>\n",
       "      <td>יצחק_רבין</td>\n",
       "      <td>0.950595</td>\n",
       "      <td>ריברדייל_(סדרת_טלוויזיה)</td>\n",
       "      <td>0.999926</td>\n",
       "      <td>רועי_אופנהיים</td>\n",
       "      <td>1.0</td>\n",
       "      <td>רועי_אופנהיים</td>\n",
       "      <td>1.0</td>\n",
       "      <td>יאפ_ואן_זביידן</td>\n",
       "      <td>0.000461772084236145</td>\n",
       "    </tr>\n",
       "    <tr>\n",
       "      <th>2</th>\n",
       "      <td>מלחמת_העולם_השנייה</td>\n",
       "      <td>0.981785</td>\n",
       "      <td>מלחמת_העולם_השנייה</td>\n",
       "      <td>0.949778</td>\n",
       "      <td>ואן_דיירקשן</td>\n",
       "      <td>0.999906</td>\n",
       "      <td>נתניה</td>\n",
       "      <td>1.0</td>\n",
       "      <td>נתניה</td>\n",
       "      <td>1.0</td>\n",
       "      <td>יובל_צורן</td>\n",
       "      <td>-0.004818543791770935</td>\n",
       "    </tr>\n",
       "    <tr>\n",
       "      <th>3</th>\n",
       "      <td>בננה</td>\n",
       "      <td>0.976892</td>\n",
       "      <td>בננה</td>\n",
       "      <td>0.942619</td>\n",
       "      <td>סטאר_נגד_כוחות_הרשע</td>\n",
       "      <td>0.999775</td>\n",
       "      <td>הפועל_ירושלים_(כדורסל)</td>\n",
       "      <td>1.0</td>\n",
       "      <td>הפועל_ירושלים_(כדורסל)</td>\n",
       "      <td>1.0</td>\n",
       "      <td>הסינפונייטה_של_לונדון</td>\n",
       "      <td>-0.007617764174938202</td>\n",
       "    </tr>\n",
       "    <tr>\n",
       "      <th>4</th>\n",
       "      <td>רוסיה</td>\n",
       "      <td>0.973437</td>\n",
       "      <td>רותם_סלע</td>\n",
       "      <td>0.938552</td>\n",
       "      <td>טאקי</td>\n",
       "      <td>0.999721</td>\n",
       "      <td>הסינפונייטה_של_לונדון</td>\n",
       "      <td>1.0</td>\n",
       "      <td>הסינפונייטה_של_לונדון</td>\n",
       "      <td>1.0</td>\n",
       "      <td>רועי_אופנהיים</td>\n",
       "      <td>-0.008629407733678818</td>\n",
       "    </tr>\n",
       "  </tbody>\n",
       "</table>\n",
       "</div>"
      ],
      "text/plain": [
       "  normality_prob_mean__ranking  normality_prob_mean__score  \\\n",
       "0               אביגדור_ליברמן                    0.984787   \n",
       "1                    יצחק_רבין                    0.982938   \n",
       "2           מלחמת_העולם_השנייה                    0.981785   \n",
       "3                         בננה                    0.976892   \n",
       "4                        רוסיה                    0.973437   \n",
       "\n",
       "  normality_prob_std__ranking  normality_prob_std__score  \\\n",
       "0              אביגדור_ליברמן                   0.958000   \n",
       "1                   יצחק_רבין                   0.950595   \n",
       "2          מלחמת_העולם_השנייה                   0.949778   \n",
       "3                        בננה                   0.942619   \n",
       "4                    רותם_סלע                   0.938552   \n",
       "\n",
       "  normality_prob_median__ranking  normality_prob_median__score  \\\n",
       "0                  דילן_או'בריאן                      0.999956   \n",
       "1       ריברדייל_(סדרת_טלוויזיה)                      0.999926   \n",
       "2                    ואן_דיירקשן                      0.999906   \n",
       "3            סטאר_נגד_כוחות_הרשע                      0.999775   \n",
       "4                           טאקי                      0.999721   \n",
       "\n",
       "  predicted_label_mean__ranking  predicted_label_mean__score  \\\n",
       "0                     שלמה_ארצי                          1.0   \n",
       "1                 רועי_אופנהיים                          1.0   \n",
       "2                         נתניה                          1.0   \n",
       "3        הפועל_ירושלים_(כדורסל)                          1.0   \n",
       "4         הסינפונייטה_של_לונדון                          1.0   \n",
       "\n",
       "  predicted_label_std__ranking  predicted_label_std__score  \\\n",
       "0                    שלמה_ארצי                         1.0   \n",
       "1                רועי_אופנהיים                         1.0   \n",
       "2                        נתניה                         1.0   \n",
       "3       הפועל_ירושלים_(כדורסל)                         1.0   \n",
       "4        הסינפונייטה_של_לונדון                         1.0   \n",
       "\n",
       "         weighted_sum__ranking    weighted_sum__score  \n",
       "0  אופוס_המגזין_למוזיקה_קלאסית   0.032848354962593085  \n",
       "1               יאפ_ואן_זביידן   0.000461772084236145  \n",
       "2                    יובל_צורן  -0.004818543791770935  \n",
       "3        הסינפונייטה_של_לונדון  -0.007617764174938202  \n",
       "4                רועי_אופנהיים  -0.008629407733678818  "
      ]
     },
     "execution_count": 32,
     "metadata": {},
     "output_type": "execute_result"
    }
   ],
   "source": [
    "results[:5]"
   ]
  },
  {
   "cell_type": "code",
   "execution_count": 26,
   "metadata": {},
   "outputs": [
    {
     "data": {
      "text/html": [
       "<div>\n",
       "<style scoped>\n",
       "    .dataframe tbody tr th:only-of-type {\n",
       "        vertical-align: middle;\n",
       "    }\n",
       "\n",
       "    .dataframe tbody tr th {\n",
       "        vertical-align: top;\n",
       "    }\n",
       "\n",
       "    .dataframe thead th {\n",
       "        text-align: right;\n",
       "    }\n",
       "</style>\n",
       "<table border=\"1\" class=\"dataframe\">\n",
       "  <thead>\n",
       "    <tr style=\"text-align: right;\">\n",
       "      <th></th>\n",
       "      <th>normality_prob_mean__ranking</th>\n",
       "      <th>normality_prob_mean__score</th>\n",
       "      <th>normality_prob_std__ranking</th>\n",
       "      <th>normality_prob_std__score</th>\n",
       "      <th>normality_prob_median__ranking</th>\n",
       "      <th>normality_prob_median__score</th>\n",
       "      <th>predicted_label_mean__ranking</th>\n",
       "      <th>predicted_label_mean__score</th>\n",
       "      <th>predicted_label_std__ranking</th>\n",
       "      <th>predicted_label_std__score</th>\n",
       "      <th>weighted_sum__ranking</th>\n",
       "      <th>weighted_sum__score</th>\n",
       "    </tr>\n",
       "  </thead>\n",
       "  <tbody>\n",
       "    <tr>\n",
       "      <th>995</th>\n",
       "      <td>נועה_קירל</td>\n",
       "      <td>0.730942</td>\n",
       "      <td>נועה_קירל</td>\n",
       "      <td>0.627186</td>\n",
       "      <td>סיון_אלבו_בן_חור</td>\n",
       "      <td>0.824723</td>\n",
       "      <td>אסי_כהן</td>\n",
       "      <td>0.724771</td>\n",
       "      <td>אסי_כהן</td>\n",
       "      <td>0.553370</td>\n",
       "      <td>חטיבת_החילוץ</td>\n",
       "      <td>-0.1882286022347649</td>\n",
       "    </tr>\n",
       "    <tr>\n",
       "      <th>996</th>\n",
       "      <td>אבא_מטפלת</td>\n",
       "      <td>0.723160</td>\n",
       "      <td>אילת_(סדרת_טלוויזיה)</td>\n",
       "      <td>0.624887</td>\n",
       "      <td>התזמורת_הסימפונית_תל_אביב</td>\n",
       "      <td>0.815284</td>\n",
       "      <td>אבא_מטפלת</td>\n",
       "      <td>0.723404</td>\n",
       "      <td>אבא_מטפלת</td>\n",
       "      <td>0.552685</td>\n",
       "      <td>ביל_גייטס</td>\n",
       "      <td>-0.1889023791384477</td>\n",
       "    </tr>\n",
       "    <tr>\n",
       "      <th>997</th>\n",
       "      <td>לוגי</td>\n",
       "      <td>0.720632</td>\n",
       "      <td>שלשול</td>\n",
       "      <td>0.623891</td>\n",
       "      <td>בארוקדה_-_קולקטיב_הבארוק_הישראלי</td>\n",
       "      <td>0.805076</td>\n",
       "      <td>חסידות_קרעטשניף</td>\n",
       "      <td>0.693548</td>\n",
       "      <td>חסידות_קרעטשניף</td>\n",
       "      <td>0.538980</td>\n",
       "      <td>דנה_פרידר</td>\n",
       "      <td>-0.18931405248155692</td>\n",
       "    </tr>\n",
       "    <tr>\n",
       "      <th>998</th>\n",
       "      <td>הפילהרמונית_של_ברלין</td>\n",
       "      <td>0.717814</td>\n",
       "      <td>השפעת_מגפת_הקורונה_על_מערכת_החינוך</td>\n",
       "      <td>0.612084</td>\n",
       "      <td>אנסמבל_מוזיקה_נובה</td>\n",
       "      <td>0.801315</td>\n",
       "      <td>רוני_אוסליבן</td>\n",
       "      <td>0.656863</td>\n",
       "      <td>רוני_אוסליבן</td>\n",
       "      <td>0.525243</td>\n",
       "      <td>Call_of_Duty</td>\n",
       "      <td>-0.19087844391390502</td>\n",
       "    </tr>\n",
       "    <tr>\n",
       "      <th>999</th>\n",
       "      <td>אופוס_המגזין_למוזיקה_קלאסית</td>\n",
       "      <td>0.604144</td>\n",
       "      <td>אבא_מטפלת</td>\n",
       "      <td>0.596147</td>\n",
       "      <td>אופוס_המגזין_למוזיקה_קלאסית</td>\n",
       "      <td>0.482430</td>\n",
       "      <td>אופוס_המגזין_למוזיקה_קלאסית</td>\n",
       "      <td>0.480000</td>\n",
       "      <td>אופוס_המגזין_למוזיקה_קלאסית</td>\n",
       "      <td>0.500400</td>\n",
       "      <td>לוויינים_ישראליים</td>\n",
       "      <td>-0.19250046724132158</td>\n",
       "    </tr>\n",
       "  </tbody>\n",
       "</table>\n",
       "</div>"
      ],
      "text/plain": [
       "    normality_prob_mean__ranking  normality_prob_mean__score  \\\n",
       "995                    נועה_קירל                    0.730942   \n",
       "996                    אבא_מטפלת                    0.723160   \n",
       "997                         לוגי                    0.720632   \n",
       "998         הפילהרמונית_של_ברלין                    0.717814   \n",
       "999  אופוס_המגזין_למוזיקה_קלאסית                    0.604144   \n",
       "\n",
       "            normality_prob_std__ranking  normality_prob_std__score  \\\n",
       "995                           נועה_קירל                   0.627186   \n",
       "996                אילת_(סדרת_טלוויזיה)                   0.624887   \n",
       "997                               שלשול                   0.623891   \n",
       "998  השפעת_מגפת_הקורונה_על_מערכת_החינוך                   0.612084   \n",
       "999                           אבא_מטפלת                   0.596147   \n",
       "\n",
       "       normality_prob_median__ranking  normality_prob_median__score  \\\n",
       "995                  סיון_אלבו_בן_חור                      0.824723   \n",
       "996         התזמורת_הסימפונית_תל_אביב                      0.815284   \n",
       "997  בארוקדה_-_קולקטיב_הבארוק_הישראלי                      0.805076   \n",
       "998                אנסמבל_מוזיקה_נובה                      0.801315   \n",
       "999       אופוס_המגזין_למוזיקה_קלאסית                      0.482430   \n",
       "\n",
       "    predicted_label_mean__ranking  predicted_label_mean__score  \\\n",
       "995                       אסי_כהן                     0.724771   \n",
       "996                     אבא_מטפלת                     0.723404   \n",
       "997               חסידות_קרעטשניף                     0.693548   \n",
       "998                  רוני_אוסליבן                     0.656863   \n",
       "999   אופוס_המגזין_למוזיקה_קלאסית                     0.480000   \n",
       "\n",
       "    predicted_label_std__ranking  predicted_label_std__score  \\\n",
       "995                      אסי_כהן                    0.553370   \n",
       "996                    אבא_מטפלת                    0.552685   \n",
       "997              חסידות_קרעטשניף                    0.538980   \n",
       "998                 רוני_אוסליבן                    0.525243   \n",
       "999  אופוס_המגזין_למוזיקה_קלאסית                    0.500400   \n",
       "\n",
       "    weighted_sum__ranking   weighted_sum__score  \n",
       "995          חטיבת_החילוץ   -0.1882286022347649  \n",
       "996             ביל_גייטס   -0.1889023791384477  \n",
       "997             דנה_פרידר  -0.18931405248155692  \n",
       "998          Call_of_Duty  -0.19087844391390502  \n",
       "999     לוויינים_ישראליים  -0.19250046724132158  "
      ]
     },
     "execution_count": 26,
     "metadata": {},
     "output_type": "execute_result"
    }
   ],
   "source": [
    "results[-5:]"
   ]
  },
  {
   "cell_type": "code",
   "execution_count": 35,
   "metadata": {},
   "outputs": [],
   "source": [
    "unique_results = set(\n",
    "    np.unique(results[[col for col in results.columns if 'ranking' in col]][-3:].values)\n",
    ") | set(\n",
    "    np.unique(results[[col for col in results.columns if 'ranking' in col]][:3].values)\n",
    ")"
   ]
  },
  {
   "cell_type": "code",
   "execution_count": 36,
   "metadata": {},
   "outputs": [
    {
     "data": {
      "text/plain": [
       "{'Call_of_Duty',\n",
       " 'אבא_מטפלת',\n",
       " 'אביגדור_ליברמן',\n",
       " 'אופוס_המגזין_למוזיקה_קלאסית',\n",
       " 'אנסמבל_מוזיקה_נובה',\n",
       " 'בארוקדה_-_קולקטיב_הבארוק_הישראלי',\n",
       " \"דילן_או'בריאן\",\n",
       " 'דנה_פרידר',\n",
       " 'הפילהרמונית_של_ברלין',\n",
       " 'השפעת_מגפת_הקורונה_על_מערכת_החינוך',\n",
       " 'ואן_דיירקשן',\n",
       " 'חסידות_קרעטשניף',\n",
       " 'יאפ_ואן_זביידן',\n",
       " 'יובל_צורן',\n",
       " 'יצחק_רבין',\n",
       " 'לוגי',\n",
       " 'לוויינים_ישראליים',\n",
       " 'מלחמת_העולם_השנייה',\n",
       " 'נתניה',\n",
       " 'רוני_אוסליבן',\n",
       " 'רועי_אופנהיים',\n",
       " 'ריברדייל_(סדרת_טלוויזיה)',\n",
       " 'שלמה_ארצי',\n",
       " 'שלשול'}"
      ]
     },
     "execution_count": 36,
     "metadata": {},
     "output_type": "execute_result"
    }
   ],
   "source": [
    "unique_results"
   ]
  },
  {
   "cell_type": "code",
   "execution_count": 38,
   "metadata": {},
   "outputs": [
    {
     "name": "stdout",
     "output_type": "stream",
     "text": [
      "normality_prob_mean__ranking 1\n",
      "normality_prob_std__ranking 1\n",
      "normality_prob_median__ranking 66\n",
      "predicted_label_mean__ranking 29\n",
      "predicted_label_std__ranking 29\n",
      "weighted_sum__ranking 10\n"
     ]
    }
   ],
   "source": [
    "for col in [col for col in results.columns if 'ranking' in col]:\n",
    "    print(col, results[results[col]=='יצחק_רבין'].index[0])"
   ]
  },
  {
   "cell_type": "code",
   "execution_count": 37,
   "metadata": {},
   "outputs": [
    {
     "name": "stdout",
     "output_type": "stream",
     "text": [
      "normality_prob_mean__ranking 992\n",
      "normality_prob_std__ranking 998\n",
      "normality_prob_median__ranking 805\n",
      "predicted_label_mean__ranking 992\n",
      "predicted_label_std__ranking 992\n",
      "weighted_sum__ranking 258\n"
     ]
    }
   ],
   "source": [
    "for col in [col for col in results.columns if 'ranking' in col]:\n",
    "    print(col, results[results[col]=='השפעת_מגפת_הקורונה_על_מערכת_החינוך'].index[0])"
   ]
  },
  {
   "cell_type": "code",
   "execution_count": null,
   "metadata": {},
   "outputs": [],
   "source": []
  }
 ],
 "metadata": {
  "kernelspec": {
   "display_name": "Python 3",
   "language": "python",
   "name": "python3"
  },
  "language_info": {
   "codemirror_mode": {
    "name": "ipython",
    "version": 3
   },
   "file_extension": ".py",
   "mimetype": "text/x-python",
   "name": "python",
   "nbconvert_exporter": "python",
   "pygments_lexer": "ipython3",
   "version": "3.6.3"
  }
 },
 "nbformat": 4,
 "nbformat_minor": 2
}
