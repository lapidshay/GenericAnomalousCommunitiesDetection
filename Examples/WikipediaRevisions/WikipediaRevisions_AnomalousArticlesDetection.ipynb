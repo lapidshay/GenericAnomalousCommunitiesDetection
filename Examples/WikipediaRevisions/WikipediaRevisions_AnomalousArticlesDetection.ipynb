{
 "cells": [
  {
   "cell_type": "code",
   "execution_count": 1,
   "metadata": {},
   "outputs": [],
   "source": [
    "import os\n",
    "import json\n",
    "from config import DATA_PATHS, CONFIG\n",
    "import matplotlib.pyplot as plt\n",
    "import warnings\n",
    "import numpy as np\n",
    "warnings.filterwarnings('ignore')\n",
    "%matplotlib inline  "
   ]
  },
  {
   "cell_type": "code",
   "execution_count": 2,
   "metadata": {},
   "outputs": [],
   "source": [
    "# import AnomalousCommunityDetector from parent directory\n",
    "original_cur_dir = os.getcwd()\n",
    "os.chdir('..'); os.chdir('..')\n",
    "from AnomalousCommunityDetection.AnomalousCommunityDetector import AnomalousCommunityDetector\n",
    "os.chdir(original_cur_dir)"
   ]
  },
  {
   "cell_type": "code",
   "execution_count": 3,
   "metadata": {},
   "outputs": [],
   "source": [
    "with open(DATA_PATHS['TRAIN_SET_COMMS'], 'r', encoding='UTF8') as file:\n",
    "    train_partitions_map = json.load(file)\n",
    "    \n",
    "with open(DATA_PATHS['TEST_SET_COMMS'], 'r', encoding='UTF8') as file:\n",
    "    test_partitions_map = json.load(file)"
   ]
  },
  {
   "cell_type": "code",
   "execution_count": 4,
   "metadata": {},
   "outputs": [
    {
     "name": "stdout",
     "output_type": "stream",
     "text": [
      "100\n",
      "1000\n"
     ]
    }
   ],
   "source": [
    "print(len(train_partitions_map))\n",
    "print(len(test_partitions_map))"
   ]
  },
  {
   "cell_type": "code",
   "execution_count": 5,
   "metadata": {},
   "outputs": [],
   "source": [
    "detector = AnomalousCommunityDetector(\n",
    "    train_partitions_map=train_partitions_map,\n",
    "    test_partitions_map=test_partitions_map,\n",
    "    community_partite_label=CONFIG['community_partite_label'],\n",
    "    vertex_partite_label=CONFIG['vertex_partite_label'],\n",
    "    classifer_obj=CONFIG['classifer_obj'])"
   ]
  },
  {
   "cell_type": "code",
   "execution_count": 6,
   "metadata": {},
   "outputs": [
    {
     "name": "stdout",
     "output_type": "stream",
     "text": [
      "Train BiPartite network properties:\n",
      "\tNumber of 'Page'-partite vertices: 100\n",
      "\tNumber of 'User'-partite vertices: 6386\n",
      "\tTotal number of vertices: 6486\n",
      "\tTotal number of edges: 11405\n",
      "Test BiPartite network properties:\n",
      "\tNumber of 'Page'-partite vertices: 1000\n",
      "\tNumber of 'User'-partite vertices: 47139\n",
      "\tTotal number of vertices: 48139\n",
      "\tTotal number of edges: 120706\n",
      "\n",
      "Extracting positive edges features...\n",
      "\n"
     ]
    },
    {
     "data": {
      "application/vnd.jupyter.widget-view+json": {
       "model_id": "c7ae6b9d8df8496fad046359d39aed87",
       "version_major": 2,
       "version_minor": 0
      },
      "text/plain": [
       "  0%|          | 0/11405 [00:00<?, ?it/s]"
      ]
     },
     "metadata": {},
     "output_type": "display_data"
    },
    {
     "name": "stdout",
     "output_type": "stream",
     "text": [
      "\n",
      "Extracting negative edges features...\n",
      "\n"
     ]
    },
    {
     "data": {
      "application/vnd.jupyter.widget-view+json": {
       "model_id": "2b22fdefabd24d81b61961c6c0224bf4",
       "version_major": 2,
       "version_minor": 0
      },
      "text/plain": [
       "  0%|          | 0/11405 [00:00<?, ?it/s]"
      ]
     },
     "metadata": {},
     "output_type": "display_data"
    },
    {
     "name": "stdout",
     "output_type": "stream",
     "text": [
      "\n",
      "Extracting positive edges features...\n",
      "\n"
     ]
    },
    {
     "data": {
      "application/vnd.jupyter.widget-view+json": {
       "model_id": "654a8158bde442649096a80ea6d51ade",
       "version_major": 2,
       "version_minor": 0
      },
      "text/plain": [
       "  0%|          | 0/120706 [00:00<?, ?it/s]"
      ]
     },
     "metadata": {},
     "output_type": "display_data"
    },
    {
     "name": "stdout",
     "output_type": "stream",
     "text": [
      "\n",
      "Extracting negative edges features...\n",
      "\n"
     ]
    },
    {
     "data": {
      "application/vnd.jupyter.widget-view+json": {
       "model_id": "4a967f52e68c48f49d87fee36736b651",
       "version_major": 2,
       "version_minor": 0
      },
      "text/plain": [
       "0it [00:00, ?it/s]"
      ]
     },
     "metadata": {},
     "output_type": "display_data"
    },
    {
     "name": "stdout",
     "output_type": "stream",
     "text": [
      "Validation scores:\n",
      "\tPrecision : 0.950\n",
      "\tAccuracy  : 0.925\n",
      "\tF1        : 0.923\n",
      "\tROC AUC   : 0.925\n",
      "\n",
      "                  Predicted\n",
      "                   0     1   \n",
      "                ------------- \n",
      "            0  | 2177 | 107  |\n",
      "     True      |-------------|\n",
      "            1  | 232  | 2046 |\n",
      "                ------------- \n",
      "            \n",
      "Test set edge existence predictions:\n",
      "\tpredicted_exist: 10694\n",
      "\tpredicted_not_exist: 13757\n",
      "\tpredicted_ratio: 0.886\n"
     ]
    }
   ],
   "source": [
    "results = detector.detect_anomalous_communities(\n",
    "    max_edges_to_sample=CONFIG['max_edges_to_sample'],\n",
    "    label_thresh=CONFIG['label_thresh'],\n",
    "    val_size=CONFIG['val_size'],\n",
    "    save_topological_features=CONFIG['save_topological_features'],\n",
    "    save_dir_path=CONFIG['save_dir_path'],\n",
    "    verbose=CONFIG['verbose'])"
   ]
  },
  {
   "cell_type": "markdown",
   "metadata": {},
   "source": [
    "# Results"
   ]
  },
  {
   "cell_type": "code",
   "execution_count": 7,
   "metadata": {},
   "outputs": [
    {
     "data": {
      "text/html": [
       "<div>\n",
       "<style scoped>\n",
       "    .dataframe tbody tr th:only-of-type {\n",
       "        vertical-align: middle;\n",
       "    }\n",
       "\n",
       "    .dataframe tbody tr th {\n",
       "        vertical-align: top;\n",
       "    }\n",
       "\n",
       "    .dataframe thead th {\n",
       "        text-align: right;\n",
       "    }\n",
       "</style>\n",
       "<table border=\"1\" class=\"dataframe\">\n",
       "  <thead>\n",
       "    <tr style=\"text-align: right;\">\n",
       "      <th></th>\n",
       "      <th>normality_prob_mean__ranking</th>\n",
       "      <th>normality_prob_std__ranking</th>\n",
       "      <th>predicted_label_mean__ranking</th>\n",
       "      <th>predicted_label_std__ranking</th>\n",
       "    </tr>\n",
       "  </thead>\n",
       "  <tbody>\n",
       "    <tr>\n",
       "      <th>0</th>\n",
       "      <td>לוגי</td>\n",
       "      <td>השפעת_מגפת_הקורונה_על_מערכת_החינוך</td>\n",
       "      <td>מועדון_החנונים</td>\n",
       "      <td>מועדון_החנונים</td>\n",
       "    </tr>\n",
       "    <tr>\n",
       "      <th>1</th>\n",
       "      <td>אופוס_המגזין_למוזיקה_קלאסית</td>\n",
       "      <td>חסידות_קרעטשניף</td>\n",
       "      <td>חסידות_קרעטשניף</td>\n",
       "      <td>חסידות_קרעטשניף</td>\n",
       "    </tr>\n",
       "    <tr>\n",
       "      <th>2</th>\n",
       "      <td>חסידות_קרעטשניף</td>\n",
       "      <td>אבא_מטפלת</td>\n",
       "      <td>רוני_אוסליבן</td>\n",
       "      <td>רוני_אוסליבן</td>\n",
       "    </tr>\n",
       "  </tbody>\n",
       "</table>\n",
       "</div>"
      ],
      "text/plain": [
       "  normality_prob_mean__ranking         normality_prob_std__ranking  \\\n",
       "0                         לוגי  השפעת_מגפת_הקורונה_על_מערכת_החינוך   \n",
       "1  אופוס_המגזין_למוזיקה_קלאסית                     חסידות_קרעטשניף   \n",
       "2              חסידות_קרעטשניף                           אבא_מטפלת   \n",
       "\n",
       "  predicted_label_mean__ranking predicted_label_std__ranking  \n",
       "0                מועדון_החנונים               מועדון_החנונים  \n",
       "1               חסידות_קרעטשניף              חסידות_קרעטשניף  \n",
       "2                  רוני_אוסליבן                 רוני_אוסליבן  "
      ]
     },
     "execution_count": 7,
     "metadata": {},
     "output_type": "execute_result"
    }
   ],
   "source": [
    "results[[col for col in results.columns if 'ranking' in col and 'weighted_sum' not in col and 'median' not in col]][-3:].reset_index(drop=True)"
   ]
  }
 ],
 "metadata": {
  "kernelspec": {
   "display_name": "Python 3",
   "language": "python",
   "name": "python3"
  },
  "language_info": {
   "codemirror_mode": {
    "name": "ipython",
    "version": 3
   },
   "file_extension": ".py",
   "mimetype": "text/x-python",
   "name": "python",
   "nbconvert_exporter": "python",
   "pygments_lexer": "ipython3",
   "version": "3.6.3"
  }
 },
 "nbformat": 4,
 "nbformat_minor": 2
}
