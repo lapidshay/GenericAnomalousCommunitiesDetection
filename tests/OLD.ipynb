{
 "cells": [
  {
   "cell_type": "code",
   "execution_count": 1,
   "metadata": {},
   "outputs": [],
   "source": [
    "import pandas as pd\n",
    "import numpy as np\n",
    "from collections import Counter\n",
    "import matplotlib.pyplot as plt\n",
    "import seaborn as sns\n",
    "import networkx as nx\n",
    "import os\n",
    "%matplotlib inline "
   ]
  },
  {
   "cell_type": "code",
   "execution_count": 2,
   "metadata": {},
   "outputs": [],
   "source": [
    "from AnomalousCommunityDetection.GraphSampler import GraphSampler\n",
    "from AnomalousCommunityDetection.BiPartiteConverter import BiPartiteConverter\n",
    "from AnomalousCommunityDetection.Utils import BiPartiteUtils\n",
    "from AnomalousCommunityDetection.FeatureExtractor import FeatureExtractor\n",
    "from AnomalyInfusedCommunityStructuredRandomNetworkGenerator.AnomalyInfusedCommunityStructuredRandomNetworkGenerator import AnomalyInfusedCommunityStructuredRandomNetworkGenerator"
   ]
  },
  {
   "cell_type": "code",
   "execution_count": 5,
   "metadata": {},
   "outputs": [
    {
     "ename": "TypeError",
     "evalue": "__init__() missing 1 required positional argument: 'partitions_map_path'",
     "output_type": "error",
     "traceback": [
      "\u001b[1;31m---------------------------------------------------------------------------\u001b[0m",
      "\u001b[1;31mTypeError\u001b[0m                                 Traceback (most recent call last)",
      "\u001b[1;32m<ipython-input-5-5924bfd5cd1a>\u001b[0m in \u001b[0;36m<module>\u001b[1;34m\u001b[0m\n\u001b[1;32m----> 1\u001b[1;33m \u001b[0mBiPartiteConverter\u001b[0m\u001b[1;33m(\u001b[0m\u001b[1;33m)\u001b[0m\u001b[1;33m\u001b[0m\u001b[0m\n\u001b[0m",
      "\u001b[1;31mTypeError\u001b[0m: __init__() missing 1 required positional argument: 'partitions_map_path'"
     ]
    }
   ],
   "source": [
    "BiPartiteConverter()"
   ]
  },
  {
   "cell_type": "code",
   "execution_count": null,
   "metadata": {},
   "outputs": [],
   "source": [
    "from UseCases.Wikipedia.PreProcessing.WikipediaRevisionsGraphSimulator import WikipediaRevisionsGraphSimulator\n",
    "from SimulatedGraphExperiment.GraphCommunityColorer import GraphCommunityColorer"
   ]
  },
  {
   "cell_type": "code",
   "execution_count": null,
   "metadata": {},
   "outputs": [],
   "source": [
    "# path to save data-reduced df\n",
    "NORM_EDGES_PATH = 'UseCases\\\\Wikipedia\\\\Data\\\\norm_edges.csv'\n",
    "ANOM_EDGES_PATH = 'UseCases\\\\Wikipedia\\\\Data\\\\anom_edges.csv'"
   ]
  },
  {
   "cell_type": "code",
   "execution_count": null,
   "metadata": {},
   "outputs": [],
   "source": [
    "# later maybe to be added - paths to real graph (not bipartite)\n",
    "NORM_GRAPH_PATH = 'UseCases\\\\Wikipedia\\\\DataVisualization\\\\norm_graph.gml'\n",
    "ANOM_GRAPH_PATH = 'UseCases\\\\Wikipedia\\\\DataVisualization\\\\anom_graph.gml'\n",
    "\n",
    "NORM_BI_PARTITE_GRAPH_PATH = 'UseCases\\\\Wikipedia\\\\DataVisualization\\\\norm_bi_partite_graph.gml'\n",
    "ANOM_BI_PARTITE_GRAPH_PATH = 'UseCases\\\\Wikipedia\\\\DataVisualization\\\\anom_bi_partite_graph.gml'\n",
    "\n",
    "PROJECTED_BI_PARTITE_GRAPH_1_PATH = 'UseCases\\\\Wikipedia\\\\DataVisualization\\\\projected_bi_partite_graph_1.gml'\n",
    "PROJECTED_BI_PARTITE_GRAPH_2_PATH = 'UseCases\\\\Wikipedia\\\\DataVisualization\\\\projected_bi_partite_graph_2.gml'"
   ]
  },
  {
   "cell_type": "code",
   "execution_count": null,
   "metadata": {},
   "outputs": [],
   "source": [
    "# path to save topological features DataFrames of train and test set\n",
    "EDGES_TOPOLOGICAL_FEATURES_ALL_EDGES_PATH = 'UseCases\\\\Wikipedia\\\\Data\\\\edges_topological_features_all_edges.csv'\n",
    "EDGES_TOPOLOGICAL_FEATURES_TRAIN_SET_PATH = 'UseCases\\\\Wikipedia\\\\Data\\\\edges_topological_features_train_set.csv'\n",
    "EDGES_TOPOLOGICAL_FEATURES_TEST_SET_PATH = 'UseCases\\\\Wikipedia\\\\Data\\\\edges_topological_features_test_set.csv'"
   ]
  },
  {
   "cell_type": "code",
   "execution_count": null,
   "metadata": {},
   "outputs": [],
   "source": [
    "# path to save test set meta-features DataFrame\n",
    "NODES_META_FEATURES_TEST_SET_PATH = 'UseCases\\\\Wikipedia\\\\Data\\\\nodes_meta_features_test_set.csv'"
   ]
  },
  {
   "cell_type": "markdown",
   "metadata": {},
   "source": [
    "#### create simulated graph\n"
   ]
  },
  {
   "cell_type": "code",
   "execution_count": null,
   "metadata": {},
   "outputs": [],
   "source": [
    "WIKIPEDIA_PAGE_USER_DICT_PATH = 'E:\\\\Datasets\\\\WikipediaHE\\\\ProcessedData\\\\PageUserDict_2018-01-01_2019-01-01.json'\n",
    "\n",
    "TRAIN_SET_COMMS_PATH = 'Wikipedia_Link_SQL\\\\Data\\\\TrainTestSetsPagesRevisions\\\\train_set_cats.json'\n",
    "TEST_SET_COMMS_PATH = 'Wikipedia_Link_SQL\\\\Data\\\\TrainTestSetsPagesRevisions\\\\test_set_cats.json'"
   ]
  },
  {
   "cell_type": "code",
   "execution_count": null,
   "metadata": {},
   "outputs": [],
   "source": [
    "import json\n",
    "with open(TRAIN_SET_COMMS_PATH, 'r') as file:\n",
    "    train_subreddits = list(json.load(file).keys())\n",
    "    \n",
    "with open(TEST_SET_COMMS_PATH, 'r') as file:\n",
    "    test_subreddits = list(json.load(file).keys())"
   ]
  },
  {
   "cell_type": "code",
   "execution_count": null,
   "metadata": {},
   "outputs": [],
   "source": [
    "print(len(train_subreddits))\n",
    "print(len(test_subreddits))"
   ]
  },
  {
   "cell_type": "code",
   "execution_count": null,
   "metadata": {},
   "outputs": [],
   "source": [
    "partite_1_label='Community'\n",
    "partite_2_label='User'"
   ]
  },
  {
   "cell_type": "code",
   "execution_count": null,
   "metadata": {},
   "outputs": [],
   "source": [
    "reddit_train_sim = WikipediaRevisionsGraphSimulator(categories_pages_links_path=WIKIPEDIA_PAGE_USER_DICT_PATH)\n",
    "\n",
    "reddit_test_sim = WikipediaRevisionsGraphSimulator(categories_pages_links_path=WIKIPEDIA_PAGE_USER_DICT_PATH)"
   ]
  },
  {
   "cell_type": "code",
   "execution_count": null,
   "metadata": {},
   "outputs": [],
   "source": [
    "#gcolorer = GraphCommunityColorer(REDDIT_NORM_GRAPH, gs.updated_partitions.values(), gs.updated_partitions.values())\n",
    "#gcolorer.color_node_updated_community_attributes()"
   ]
  },
  {
   "cell_type": "code",
   "execution_count": null,
   "metadata": {},
   "outputs": [],
   "source": [
    "# create bi-partite graph\n",
    "train_bipartite_graph = reddit_train_sim.generate_bi_partite_graph(\n",
    "    category_list=train_subreddits,\n",
    "    partite_1_label=partite_1_label,\n",
    "    partite_2_label=partite_2_label\n",
    ")"
   ]
  },
  {
   "cell_type": "code",
   "execution_count": null,
   "metadata": {},
   "outputs": [],
   "source": [
    "# create bi-partite graph\n",
    "test_bipartite_graph = reddit_test_sim.generate_bi_partite_graph(\n",
    "    category_list=test_subreddits,\n",
    "    partite_1_label=partite_1_label,\n",
    "    partite_2_label=partite_2_label\n",
    ")"
   ]
  },
  {
   "cell_type": "code",
   "execution_count": null,
   "metadata": {},
   "outputs": [],
   "source": [
    "train_edges_df = reddit_train_sim.bipartite_graph_to_edges_df(\n",
    "    bipartite_graph=train_bipartite_graph, partite_1_label=partite_1_label, partite_2_label=partite_2_label,\n",
    "    save_path = NORM_EDGES_PATH, save_csv=True)"
   ]
  },
  {
   "cell_type": "code",
   "execution_count": null,
   "metadata": {},
   "outputs": [],
   "source": [
    "test_edges_df = reddit_test_sim.bipartite_graph_to_edges_df(\n",
    "    bipartite_graph=test_bipartite_graph, partite_1_label=partite_1_label, partite_2_label=partite_2_label,\n",
    "    save_path = ANOM_EDGES_PATH, save_csv=True)"
   ]
  },
  {
   "cell_type": "code",
   "execution_count": null,
   "metadata": {},
   "outputs": [],
   "source": [
    "# skip create and reduce functions and load file\n",
    "norm_edges_df = pd.read_csv(NORM_EDGES_PATH, index_col=0)\n",
    "anom_edges_df = pd.read_csv(ANOM_EDGES_PATH, index_col=0)"
   ]
  },
  {
   "cell_type": "code",
   "execution_count": null,
   "metadata": {},
   "outputs": [],
   "source": [
    "print(f'Number of rows in norm_edges_df: {len(norm_edges_df)}')\n",
    "print(f'Number of rows in anom_edges_df: {len(anom_edges_df)}')"
   ]
  },
  {
   "cell_type": "code",
   "execution_count": null,
   "metadata": {},
   "outputs": [],
   "source": [
    "def print_props(gs):\n",
    "    print(f'Num nodes: {len(gs.BPG.nodes)}')\n",
    "    print(f'Num edges: {len(gs.BPG.edges)}')\n",
    "    #print(f'Community sizes:\\n\\t{[len(gs.partitions[comm]) for comm in gs.partitions]}')"
   ]
  },
  {
   "cell_type": "code",
   "execution_count": null,
   "metadata": {},
   "outputs": [],
   "source": [
    "print_props(reddit_train_sim)"
   ]
  },
  {
   "cell_type": "code",
   "execution_count": null,
   "metadata": {
    "scrolled": false
   },
   "outputs": [],
   "source": [
    "print_props(reddit_test_sim)"
   ]
  },
  {
   "cell_type": "markdown",
   "metadata": {},
   "source": [
    "#### create bipartite graph"
   ]
  },
  {
   "cell_type": "code",
   "execution_count": null,
   "metadata": {},
   "outputs": [],
   "source": [
    "bi_partite_graph_creator = BiPartiteGraphCreator(partite_1_label, partite_2_label)"
   ]
  },
  {
   "cell_type": "code",
   "execution_count": null,
   "metadata": {},
   "outputs": [],
   "source": [
    "NORM_BPG = bi_partite_graph_creator.create_graph(\n",
    "    edges_df = norm_edges_df, edge_source=partite_1_label, edge_target=partite_2_label,\n",
    "    partite_1_attr_df=None, partite_2_attr_df=None, convert_num_string_to_int=False)\n",
    "\n",
    "bi_partite_graph_creator.print_bi_partite_properties(NORM_BPG)"
   ]
  },
  {
   "cell_type": "code",
   "execution_count": null,
   "metadata": {},
   "outputs": [],
   "source": [
    "ANOM_BPG = bi_partite_graph_creator.create_graph(\n",
    "    edges_df = anom_edges_df, edge_source=partite_1_label, edge_target=partite_2_label,\n",
    "    partite_1_attr_df=None, partite_2_attr_df=None, convert_num_string_to_int=False)\n",
    "\n",
    "bi_partite_graph_creator.print_bi_partite_properties(ANOM_BPG)"
   ]
  },
  {
   "cell_type": "code",
   "execution_count": null,
   "metadata": {},
   "outputs": [],
   "source": [
    "nx.write_gml(NORM_BPG, NORM_BI_PARTITE_GRAPH_PATH)\n",
    "nx.write_gml(ANOM_BPG, ANOM_BI_PARTITE_GRAPH_PATH)"
   ]
  },
  {
   "cell_type": "markdown",
   "metadata": {},
   "source": [
    "#### project graph to one space"
   ]
  },
  {
   "cell_type": "code",
   "execution_count": null,
   "metadata": {},
   "outputs": [],
   "source": [
    "#PG = bi_partite_graph.project_bipartite_to_space(G, 'User', 5)"
   ]
  },
  {
   "cell_type": "code",
   "execution_count": null,
   "metadata": {},
   "outputs": [],
   "source": [
    "# create a subgraph with nodes with at least 1 edge\n",
    "#PG_subgraph_to_comm_detect=nx.subgraph(PG,[node for node in PG.nodes() if PG.degree(node)>0])"
   ]
  },
  {
   "cell_type": "code",
   "execution_count": null,
   "metadata": {},
   "outputs": [],
   "source": [
    "#nx.write_gml(PG, PROJECTED_BI_PARTITE_GRAPH_2_PATH)"
   ]
  },
  {
   "cell_type": "markdown",
   "metadata": {},
   "source": [
    "#### sample graph to create tes edges, train positive edges and train negative edges"
   ]
  },
  {
   "cell_type": "code",
   "execution_count": null,
   "metadata": {},
   "outputs": [],
   "source": [
    "train_set_positive_edges, train_set_negative_edges = graph_sampler.sample_single_graph_edges(\n",
    "    train_graph=NORM_BPG, partite_1_name=partite_1_label, partite_2_name=partite_2_label,\n",
    "    max_edges=None, negative_edges=True)"
   ]
  },
  {
   "cell_type": "code",
   "execution_count": null,
   "metadata": {},
   "outputs": [],
   "source": [
    "test_set_edges, _ = graph_sampler.sample_single_graph_edges(\n",
    "    train_graph=ANOM_BPG, partite_1_name=partite_1_label, partite_2_name=partite_2_label,\n",
    "    max_edges=None, negative_edges=False)"
   ]
  },
  {
   "cell_type": "markdown",
   "metadata": {},
   "source": [
    "#### Extract topological features - first divide to train and test set and then extract"
   ]
  },
  {
   "cell_type": "code",
   "execution_count": null,
   "metadata": {},
   "outputs": [],
   "source": [
    "train_topological_feature_extractor = TopologicalFeatureExtractor(NORM_BPG)\n",
    "test_topological_feature_extractor = TopologicalFeatureExtractor(ANOM_BPG)"
   ]
  },
  {
   "cell_type": "code",
   "execution_count": null,
   "metadata": {},
   "outputs": [],
   "source": [
    "train_edges_topological_features_df = train_topological_feature_extractor.create_topological_features_df(\n",
    "    positive_edges=train_set_positive_edges, negative_edges=train_set_negative_edges,\n",
    "    save_path=EDGES_TOPOLOGICAL_FEATURES_TRAIN_SET_PATH, save_csv=True)"
   ]
  },
  {
   "cell_type": "code",
   "execution_count": null,
   "metadata": {},
   "outputs": [],
   "source": [
    "test_edges_topological_features_df = test_topological_feature_extractor.create_topological_features_df(\n",
    "    positive_edges=test_set_edges, negative_edges=None,\n",
    "    save_path=EDGES_TOPOLOGICAL_FEATURES_TEST_SET_PATH, save_csv=True)"
   ]
  },
  {
   "cell_type": "code",
   "execution_count": null,
   "metadata": {},
   "outputs": [],
   "source": [
    "# skip topological features extraction\n",
    "\n",
    "train_edges_topological_features_df = pd.read_csv(EDGES_TOPOLOGICAL_FEATURES_TRAIN_SET_PATH, index_col=0)\n",
    "test_edges_topological_features_df = pd.read_csv(EDGES_TOPOLOGICAL_FEATURES_TEST_SET_PATH, index_col=0)\n",
    "\n",
    "test_edges_topological_features_df.head()"
   ]
  },
  {
   "cell_type": "markdown",
   "metadata": {},
   "source": [
    "#### Train a classifier on topological features train set and predict test set"
   ]
  },
  {
   "cell_type": "code",
   "execution_count": null,
   "metadata": {},
   "outputs": [],
   "source": [
    "from sklearn.ensemble import RandomForestClassifier\n",
    "from sklearn.linear_model import LogisticRegression\n",
    "from xgboost import XGBClassifier"
   ]
  },
  {
   "cell_type": "code",
   "execution_count": null,
   "metadata": {},
   "outputs": [],
   "source": [
    "# instantiate topological feature classifier, with a classifier object and train set\n",
    "topo_feat_clf = TopologicalFeatureClassifier(\n",
    "    XGBClassifier(), train_set_df=train_edges_topological_features_df, label_column='link_exist')"
   ]
  },
  {
   "cell_type": "code",
   "execution_count": null,
   "metadata": {},
   "outputs": [],
   "source": [
    "# train classifier\n",
    "topo_feat_clf.fit(val_size=0.1, verbose=True)"
   ]
  },
  {
   "cell_type": "code",
   "execution_count": null,
   "metadata": {},
   "outputs": [],
   "source": [
    "# show predictions in test set\n",
    "#topo_feat_clf.show_predictions_edges_topological_features_df(df=test_edges_topological_features_df)\n",
    "\n",
    "topo_feat_clf.test_set_edges_prediction_summary(test_edges_topological_features_df)\n",
    "topo_feat_clf.print_test_set_edges_prediction_summary()"
   ]
  },
  {
   "cell_type": "markdown",
   "metadata": {},
   "source": [
    "#### Meta-features extraction"
   ]
  },
  {
   "cell_type": "code",
   "execution_count": null,
   "metadata": {},
   "outputs": [],
   "source": [
    "# get edge existing probabilities (from predictions)\n",
    "edges_exist_prob_attr_dict = topo_feat_clf.edges_existence_probability_dict(\n",
    "    df=test_edges_topological_features_df, comm_before_user=True, index_str_before_digit=False)"
   ]
  },
  {
   "cell_type": "code",
   "execution_count": null,
   "metadata": {},
   "outputs": [],
   "source": [
    "len(edges_exist_prob_attr_dict)"
   ]
  },
  {
   "cell_type": "code",
   "execution_count": null,
   "metadata": {},
   "outputs": [],
   "source": [
    "len([val for val in edges_exist_prob_attr_dict.values() if  val])"
   ]
  },
  {
   "cell_type": "code",
   "execution_count": null,
   "metadata": {},
   "outputs": [],
   "source": [
    "meta_feature_extractor = MetaFeatureExtractor(g=ANOM_BPG, edges_existence_prob_dict=edges_exist_prob_attr_dict)"
   ]
  },
  {
   "cell_type": "code",
   "execution_count": null,
   "metadata": {},
   "outputs": [],
   "source": [
    "len(meta_feature_extractor.g.nodes)"
   ]
  },
  {
   "cell_type": "code",
   "execution_count": null,
   "metadata": {},
   "outputs": [],
   "source": [
    "test_set_meta_features_df = meta_feature_extractor.get_all_meta_features(\n",
    "    thresh=0.8, label=None, csv_save_path=NODES_META_FEATURES_TEST_SET_PATH, save_csv=True)"
   ]
  },
  {
   "cell_type": "code",
   "execution_count": null,
   "metadata": {},
   "outputs": [],
   "source": [
    "test_set_meta_features_df.head()"
   ]
  },
  {
   "cell_type": "code",
   "execution_count": null,
   "metadata": {},
   "outputs": [],
   "source": [
    "# instantiate meta-feature ranker object\n",
    "meta_feature_ranker = MetaFeatureRanker(test_set_meta_features_df)"
   ]
  },
  {
   "cell_type": "code",
   "execution_count": null,
   "metadata": {},
   "outputs": [],
   "source": [
    "# add column of ranking per feature\n",
    "meta_feature_ranker.rank_columns()\n",
    "meta_feature_ranker.ranked_df.head()"
   ]
  },
  {
   "cell_type": "code",
   "execution_count": null,
   "metadata": {},
   "outputs": [],
   "source": [
    "def dd(df, subreddit):\n",
    "    maxes = [int(x) for x in df.max()[7:-1]]\n",
    "    sub_rank = [int(x) for x in df.loc[subreddit][7:-1]]\n",
    "    return list(zip(*(sub_rank, maxes)))\n",
    "    "
   ]
  },
  {
   "cell_type": "code",
   "execution_count": null,
   "metadata": {},
   "outputs": [],
   "source": [
    "#dd(meta_feature_ranker.ranked_df, 'theblackvoid')"
   ]
  },
  {
   "cell_type": "code",
   "execution_count": null,
   "metadata": {},
   "outputs": [],
   "source": [
    "n=5\n",
    "bottom_df = meta_feature_ranker.rank_top_bottom_all_features(n=n, top_or_bottom='bottom')\n",
    "top_df = meta_feature_ranker.rank_top_bottom_all_features(n=n, top_or_bottom='top')"
   ]
  },
  {
   "cell_type": "code",
   "execution_count": null,
   "metadata": {},
   "outputs": [],
   "source": [
    "top_df"
   ]
  },
  {
   "cell_type": "code",
   "execution_count": null,
   "metadata": {},
   "outputs": [],
   "source": [
    "bottom_df"
   ]
  },
  {
   "cell_type": "code",
   "execution_count": null,
   "metadata": {},
   "outputs": [],
   "source": [
    "communities = [node for node, data in ANOM_BPG.nodes(data=True) if data['partite'] == 'Community']"
   ]
  },
  {
   "cell_type": "code",
   "execution_count": null,
   "metadata": {},
   "outputs": [],
   "source": [
    "a = list(ANOM_BPG.degree(communities))\n",
    "a.sort(key= lambda x: x[1])"
   ]
  },
  {
   "cell_type": "code",
   "execution_count": null,
   "metadata": {},
   "outputs": [],
   "source": [
    "#a"
   ]
  },
  {
   "cell_type": "code",
   "execution_count": null,
   "metadata": {},
   "outputs": [],
   "source": [
    "uniqes = set()\n",
    "\n",
    "for i, col in enumerate(top_df.columns[2:]):\n",
    "    if i % 2 == 1:\n",
    "        continue\n",
    "    uniqes=uniqes.union((set(top_df[col].to_list())))\n",
    "    \n",
    "for i, col in enumerate(bottom_df.columns[2:]):\n",
    "    if i % 2 == 1:\n",
    "        continue\n",
    "    uniqes=uniqes.union((set(bottom_df[col].to_list())))\n",
    "    \n",
    "len((uniqes))"
   ]
  },
  {
   "cell_type": "code",
   "execution_count": null,
   "metadata": {},
   "outputs": [],
   "source": [
    "k = 100\n",
    "largest_smallest = set(list(zip(*(a[:k] + a[-k:])))[0])\n",
    "len([u for u in uniqes if u not in largest_smallest])"
   ]
  },
  {
   "cell_type": "code",
   "execution_count": null,
   "metadata": {},
   "outputs": [],
   "source": [
    "uniques_not_small_large = ([u for u in uniqes if u not in largest_smallest])\n",
    "uniques_not_small_large"
   ]
  },
  {
   "cell_type": "code",
   "execution_count": null,
   "metadata": {},
   "outputs": [],
   "source": [
    "print(f'num. unique in largest and smallest: {len([u for u in uniqes if u in largest_smallest])}')"
   ]
  },
  {
   "cell_type": "code",
   "execution_count": null,
   "metadata": {},
   "outputs": [],
   "source": [
    "uniqes"
   ]
  },
  {
   "cell_type": "code",
   "execution_count": null,
   "metadata": {},
   "outputs": [],
   "source": [
    "[f'[{c}](https://he.wikipedia.org/wiki/{c})<br>' for c in uniqes]"
   ]
  },
  {
   "cell_type": "markdown",
   "metadata": {},
   "source": [
    "[עופר_לוי](https://he.wikipedia.org/wiki/עופר_לוי)<br>',\n",
    " '[הורטוס_מוזיקוס](https://he.wikipedia.org/wiki/הורטוס_מוזיקוס)<br>',\n",
    " '[השמיניה_(סדרת_טלוויזיה)](https://he.wikipedia.org/wiki/השמיניה_(סדרת_טלוויזיה))<br>',\n",
    " '[ליאור_דטאוקר](https://he.wikipedia.org/wiki/ליאור_דטאוקר)<br>',\n",
    " '[התזמורת_הפילהרמונית_של_לונדון](https://he.wikipedia.org/wiki/התזמורת_הפילהרמונית_של_לונדון)<br>',\n",
    " '[חסידות_נדבורנה](https://he.wikipedia.org/wiki/חסידות_נדבורנה)<br>',\n",
    " '[דגש_קל](https://he.wikipedia.org/wiki/דגש_קל)<br>',\n",
    " '[היכל_קבוצת_שלמה](https://he.wikipedia.org/wiki/היכל_קבוצת_שלמה)<br>',\n",
    " '[מנזר_אנטוניוס_הקדוש_(קופטי)](https://he.wikipedia.org/wiki/מנזר_אנטוניוס_הקדוש_(קופטי))<br>',\n",
    " '[תנועת_הנוער_בני_המושבים](https://he.wikipedia.org/wiki/תנועת_הנוער_בני_המושבים)<br>',\n",
    " '[דודו_אהרון](https://he.wikipedia.org/wiki/דודו_אהרון)<br>',\n",
    " '[סטיבן_הנדרי](https://he.wikipedia.org/wiki/סטיבן_הנדרי)<br>',\n",
    " '[ירון_ברלד](https://he.wikipedia.org/wiki/ירון_ברלד)<br>',\n",
    " '[מבצר_ברנדונק](https://he.wikipedia.org/wiki/מבצר_ברנדונק)<br>',\n",
    " '[ויולה_אורגניסטה](https://he.wikipedia.org/wiki/ויולה_אורגניסטה)<br>',\n",
    " '[בובספוג_מכנסמרובע](https://he.wikipedia.org/wiki/בובספוג_מכנסמרובע)<br>',\n",
    " \"[ג'אד_טראמפ](https://he.wikipedia.org/wiki/ג'אד_טראמפ)<br>\",\n",
    " '[בייבלייד](https://he.wikipedia.org/wiki/בייבלייד)<br>',\n",
    " '[הבנים_והבנות](https://he.wikipedia.org/wiki/הבנים_והבנות)<br>',\n",
    " '[יהודא_ליאון_אשכנזי](https://he.wikipedia.org/wiki/יהודא_ליאון_אשכנזי)<br>',\n",
    " '[כבידה](https://he.wikipedia.org/wiki/כבידה)<br>',\n",
    " '[צביקה_הדר](https://he.wikipedia.org/wiki/צביקה_הדר)<br>',\n",
    " \"[דילן_או'בריאן](https://he.wikipedia.org/wiki/דילן_או'בריאן)<br>\",\n",
    " '[שבאבניקים_(סדרת_טלוויזיה)](https://he.wikipedia.org/wiki/שבאבניקים_(סדרת_טלוויזיה))<br>',\n",
    " '[נטע_ברזילי](https://he.wikipedia.org/wiki/נטע_ברזילי)<br>',\n",
    " '[יותם_קושניר](https://he.wikipedia.org/wiki/יותם_קושניר)<br>',\n",
    " '[התזמורת_הסימפונית_של_רשות_השידור_הלאומית](https://he.wikipedia.org/wiki/התזמורת_הסימפונית_של_רשות_השידור_הלאומית)"
   ]
  },
  {
   "cell_type": "markdown",
   "metadata": {},
   "source": [
    "[אליאנה_תדהר](https://he.wikipedia.org/wiki/אליאנה_תדהר)<br>',\n",
    " '[דונלד_טראמפ](https://he.wikipedia.org/wiki/דונלד_טראמפ)<br>',\n",
    " '[רבן_יוחנן_בן_זכאי](https://he.wikipedia.org/wiki/רבן_יוחנן_בן_זכאי)<br>',\n",
    " '[משפחת_ברזאני](https://he.wikipedia.org/wiki/משפחת_ברזאני)<br>',\n",
    " '[פטריופליס](https://he.wikipedia.org/wiki/פטריופליס)<br>',\n",
    " '[הישרדות_VIP_עונה_3](https://he.wikipedia.org/wiki/הישרדות_VIP_עונה_3)<br>',\n",
    " '[יומני_הערפד](https://he.wikipedia.org/wiki/יומני_הערפד)<br>',\n",
    " '[בותריום](https://he.wikipedia.org/wiki/בותריום)<br>',\n",
    " '[כחול_לבן_(רשימה)](https://he.wikipedia.org/wiki/כחול_לבן_(רשימה))<br>',\n",
    " '[בנציון_נתניהו](https://he.wikipedia.org/wiki/בנציון_נתניהו)<br>',\n",
    " '[ישראל_באולימפיאדת_טוקיו_(2020)](https://he.wikipedia.org/wiki/ישראל_באולימפיאדת_טוקיו_(2020))<br>',\n",
    " '[פאודה](https://he.wikipedia.org/wiki/פאודה)<br>',\n",
    " '[פרסי_ZD](https://he.wikipedia.org/wiki/פרסי_ZD)<br>',\n",
    " '[כביש_453](https://he.wikipedia.org/wiki/כביש_453)<br>',\n",
    " '[נסים_גרמה](https://he.wikipedia.org/wiki/נסים_גרמה)<br>',\n",
    " '[פיליפ_קירקורוב](https://he.wikipedia.org/wiki/פיליפ_קירקורוב)<br>',\n",
    " '[אצטדיון_גרין](https://he.wikipedia.org/wiki/אצטדיון_גרין)<br>',\n",
    " '[סמיון_גרפמן](https://he.wikipedia.org/wiki/סמיון_גרפמן)<br>',\n",
    " '[לוויינים_ישראליים](https://he.wikipedia.org/wiki/לוויינים_ישראליים)<br>',\n",
    " '[בלגיה_באירוויזיון](https://he.wikipedia.org/wiki/בלגיה_באירוויזיון)<br>',\n",
    " '[ישעיהו](https://he.wikipedia.org/wiki/ישעיהו)<br>',\n",
    " '[צביקה_הדר](https://he.wikipedia.org/wiki/צביקה_הדר)<br>',\n",
    " '[שוגר_זאזא](https://he.wikipedia.org/wiki/שוגר_זאזא)<br>',\n",
    " \"[קמנג'ה](https://he.wikipedia.org/wiki/קמנג'ה)<br>\",\n",
    " '[אחמד_יאסין](https://he.wikipedia.org/wiki/אחמד_יאסין)"
   ]
  },
  {
   "cell_type": "markdown",
   "metadata": {},
   "source": [
    "[נפוליאון_בונפרטה](https://he.wikipedia.org/wiki/נפוליאון_בונפרטה)<br>',\n",
    " '[כביש_79](https://he.wikipedia.org/wiki/כביש_79)<br>',\n",
    " '[בני_גנץ](https://he.wikipedia.org/wiki/בני_גנץ)<br>',\n",
    " '[כדברא](https://he.wikipedia.org/wiki/כדברא)<br>',\n",
    " '[אורה_מורג](https://he.wikipedia.org/wiki/אורה_מורג)<br>',\n",
    " '[גלידה](https://he.wikipedia.org/wiki/גלידה)<br>',\n",
    " '[עלמה_(מושב)](https://he.wikipedia.org/wiki/עלמה_(מושב))<br>',\n",
    " '[נפתלי_בנט](https://he.wikipedia.org/wiki/נפתלי_בנט)<br>',\n",
    " '[נמיות_כיס](https://he.wikipedia.org/wiki/נמיות_כיס)<br>',\n",
    " '[בראול_סטארס](https://he.wikipedia.org/wiki/בראול_סטארס)<br>',\n",
    " '[פוראבר](https://he.wikipedia.org/wiki/פוראבר)<br>',\n",
    " '[כישור_(טווייה)](https://he.wikipedia.org/wiki/כישור_(טווייה))<br>',\n",
    " '[מארק_סלבי](https://he.wikipedia.org/wiki/מארק_סלבי)<br>',\n",
    " '[השפל_הגדול](https://he.wikipedia.org/wiki/השפל_הגדול)<br>',\n",
    " '[אריאנה_גרנדה](https://he.wikipedia.org/wiki/אריאנה_גרנדה)<br>',\n",
    " '[פוליגמיה](https://he.wikipedia.org/wiki/פוליגמיה)<br>',\n",
    " '[אדן_אזאר](https://he.wikipedia.org/wiki/אדן_אזאר)<br>',\n",
    " '[ארמנים](https://he.wikipedia.org/wiki/ארמנים)<br>',\n",
    " '[כחול](https://he.wikipedia.org/wiki/כחול)<br>',\n",
    " '[חנן_בן-ארי](https://he.wikipedia.org/wiki/חנן_בן-ארי)<br>',\n",
    " '[גן_החיות_הלימודי_חיפה](https://he.wikipedia.org/wiki/גן_החיות_הלימודי_חיפה)<br>',\n",
    " '[להקת_שלוה](https://he.wikipedia.org/wiki/להקת_שלוה)<br>',\n",
    " '[הסינפונייטה_הישראלית_באר_שבע](https://he.wikipedia.org/wiki/הסינפונייטה_הישראלית_באר_שבע)<br>',\n",
    " '[הצינור](https://he.wikipedia.org/wiki/הצינור)<br>',\n",
    " '[אריק_ובנץ](https://he.wikipedia.org/wiki/אריק_ובנץ)<br>',\n",
    " '[קריית_יערים](https://he.wikipedia.org/wiki/קריית_יערים)<br>',\n",
    " '[רומניה_באירוויזיון](https://he.wikipedia.org/wiki/רומניה_באירוויזיון)<br>',\n",
    " '[קיפי_בן_קיפוד](https://he.wikipedia.org/wiki/קיפי_בן_קיפוד)<br>',\n",
    " '[מארק_ויליאמס_(שחקן_סנוקר)](https://he.wikipedia.org/wiki/מארק_ויליאמס_(שחקן_סנוקר))<br>',\n",
    " '[ואן_פיס](https://he.wikipedia.org/wiki/ואן_פיס)"
   ]
  },
  {
   "cell_type": "markdown",
   "metadata": {},
   "source": [
    "[שווייץ_באירוויזיון](https://he.wikipedia.org/wiki/שווייץ_באירוויזיון)<br>',\n",
    " \"[אלטון_ג'ון](https://he.wikipedia.org/wiki/אלטון_ג'ון)<br>\",\n",
    " '[אנסמבל_מוזיקה_נובה](https://he.wikipedia.org/wiki/אנסמבל_מוזיקה_נובה)<br>',\n",
    " '[התזמורת_הסימפונית_ירושלים](https://he.wikipedia.org/wiki/התזמורת_הסימפונית_ירושלים)<br>',\n",
    " '[פיודיפאי](https://he.wikipedia.org/wiki/פיודיפאי)<br>',\n",
    " \"[הפיג'מות_בקפה_קר_סול](https://he.wikipedia.org/wiki/הפיג'מות_בקפה_קר_סול)<br>\",\n",
    " '[לא_כולל_שירות](https://he.wikipedia.org/wiki/לא_כולל_שירות)<br>',\n",
    " '[BTS](https://he.wikipedia.org/wiki/BTS)<br>',\n",
    " '[מוקדמות_מונדיאל_2018_-_אירופה](https://he.wikipedia.org/wiki/מוקדמות_מונדיאל_2018_-_אירופה)<br>',\n",
    " '[לירן_אביב](https://he.wikipedia.org/wiki/לירן_אביב)<br>',\n",
    " '[התזמורת_הסימפונית_חיפה](https://he.wikipedia.org/wiki/התזמורת_הסימפונית_חיפה)<br>',\n",
    " '[מוסיכף](https://he.wikipedia.org/wiki/מוסיכף)<br>',\n",
    " '[שמואל_אלבז](https://he.wikipedia.org/wiki/שמואל_אלבז)<br>',\n",
    " \"[קמנג'ה](https://he.wikipedia.org/wiki/קמנג'ה)<br>\",\n",
    " '[התזמורת_הסימפונית_תל_אביב](https://he.wikipedia.org/wiki/התזמורת_הסימפונית_תל_אביב)<br>',\n",
    " '[שלשול](https://he.wikipedia.org/wiki/שלשול)<br>',\n",
    " '[יצחק_רבין](https://he.wikipedia.org/wiki/יצחק_רבין)<br>',\n",
    " '[ארתור_פרי](https://he.wikipedia.org/wiki/ארתור_פרי)<br>',\n",
    " '[ליאור_סושרד](https://he.wikipedia.org/wiki/ליאור_סושרד)<br>',\n",
    " '[אלברט_איינשטיין](https://he.wikipedia.org/wiki/אלברט_איינשטיין)<br>',\n",
    " '[תזמורת_חיל_האוויר](https://he.wikipedia.org/wiki/תזמורת_חיל_האוויר)<br>',\n",
    " '[בייבלייד](https://he.wikipedia.org/wiki/בייבלייד)<br>',\n",
    " '[חסידות_קרעטשניף](https://he.wikipedia.org/wiki/חסידות_קרעטשניף)<br>',\n",
    " '[מנדי_רודן](https://he.wikipedia.org/wiki/מנדי_רודן)"
   ]
  },
  {
   "cell_type": "code",
   "execution_count": null,
   "metadata": {},
   "outputs": [],
   "source": []
  },
  {
   "cell_type": "code",
   "execution_count": null,
   "metadata": {},
   "outputs": [],
   "source": []
  },
  {
   "cell_type": "code",
   "execution_count": null,
   "metadata": {},
   "outputs": [],
   "source": []
  },
  {
   "cell_type": "code",
   "execution_count": null,
   "metadata": {},
   "outputs": [],
   "source": []
  },
  {
   "cell_type": "code",
   "execution_count": null,
   "metadata": {},
   "outputs": [],
   "source": []
  },
  {
   "cell_type": "markdown",
   "metadata": {},
   "source": [
    "2017-todat only n-npminor changes"
   ]
  },
  {
   "cell_type": "markdown",
   "metadata": {},
   "source": [
    "[חנן_בן-ארי](https://he.wikipedia.org/wiki/חנן_בן-ארי)<br>',\n",
    " '[יחידת_אגוז](https://he.wikipedia.org/wiki/יחידת_אגוז)<br>',\n",
    " '[טוטלי_ספייס](https://he.wikipedia.org/wiki/טוטלי_ספייס)<br>',\n",
    " '[התזמורת_הפילהרמונית_של_לונדון](https://he.wikipedia.org/wiki/התזמורת_הפילהרמונית_של_לונדון)<br>',\n",
    " '[מפלגת_העבודה_הישראלית](https://he.wikipedia.org/wiki/מפלגת_העבודה_הישראלית)<br>',\n",
    " '[תזמורת_NHK_של_טוקיו](https://he.wikipedia.org/wiki/תזמורת_NHK_של_טוקיו)<br>',\n",
    " '[צבי_האוזר](https://he.wikipedia.org/wiki/צבי_האוזר)<br>',\n",
    " '[יובל_מנדלסון](https://he.wikipedia.org/wiki/יובל_מנדלסון)<br>',\n",
    " '[דני_גבע](https://he.wikipedia.org/wiki/דני_גבע)<br>',\n",
    " '[שרית_חדד](https://he.wikipedia.org/wiki/שרית_חדד)<br>',\n",
    " '[ישראל_כ\"ץ_(הליכוד)](https://he.wikipedia.org/wiki/ישראל_כ\"ץ_(הליכוד))<br>',\n",
    " '[בנות_הזהב_(סדרת_טלוויזיה_ישראלית)](https://he.wikipedia.org/wiki/בנות_הזהב_(סדרת_טלוויזיה_ישראלית))<br>',\n",
    " '[הסינפונייטה_של_לונדון](https://he.wikipedia.org/wiki/הסינפונייטה_של_לונדון)<br>',\n",
    " '[מכבי_נתניה](https://he.wikipedia.org/wiki/מכבי_נתניה)<br>',\n",
    " '[כניסה_להר_הבית_(הלכה)](https://he.wikipedia.org/wiki/כניסה_להר_הבית_(הלכה))<br>',\n",
    " '[גיא_אריאלי](https://he.wikipedia.org/wiki/גיא_אריאלי)<br>',\n",
    " '[יומני_הערפד](https://he.wikipedia.org/wiki/יומני_הערפד)<br>',\n",
    " '[ויולה_אורגניסטה](https://he.wikipedia.org/wiki/ויולה_אורגניסטה)<br>',\n",
    " '[אליפות_העולם_בסנוקר](https://he.wikipedia.org/wiki/אליפות_העולם_בסנוקר)<br>',\n",
    " '[לוויינים_ישראליים](https://he.wikipedia.org/wiki/לוויינים_ישראליים)<br>',\n",
    " \"[קמנג'ה](https://he.wikipedia.org/wiki/קמנג'ה)<br>\",\n",
    " '[איילת_שקד](https://he.wikipedia.org/wiki/איילת_שקד)<br>',\n",
    " '[זאב_צעיר_(סדרת_טלוויזיה)](https://he.wikipedia.org/wiki/זאב_צעיר_(סדרת_טלוויזיה))<br>',\n",
    " '[אלינור_אהרון](https://he.wikipedia.org/wiki/אלינור_אהרון)<br>',\n",
    " '[נחמן_מברסלב](https://he.wikipedia.org/wiki/נחמן_מברסלב)"
   ]
  },
  {
   "cell_type": "code",
   "execution_count": null,
   "metadata": {},
   "outputs": [],
   "source": [
    "len([c for c in test_subreddits if 'stubs' in c])"
   ]
  },
  {
   "cell_type": "code",
   "execution_count": null,
   "metadata": {},
   "outputs": [],
   "source": [
    "6/26"
   ]
  },
  {
   "cell_type": "code",
   "execution_count": null,
   "metadata": {},
   "outputs": [],
   "source": [
    "149/1000"
   ]
  },
  {
   "cell_type": "code",
   "execution_count": null,
   "metadata": {},
   "outputs": [],
   "source": [
    "6/39"
   ]
  },
  {
   "cell_type": "code",
   "execution_count": null,
   "metadata": {},
   "outputs": [],
   "source": []
  }
 ],
 "metadata": {
  "kernelspec": {
   "display_name": "Python 3",
   "language": "python",
   "name": "python3"
  },
  "language_info": {
   "codemirror_mode": {
    "name": "ipython",
    "version": 3
   },
   "file_extension": ".py",
   "mimetype": "text/x-python",
   "name": "python",
   "nbconvert_exporter": "python",
   "pygments_lexer": "ipython3",
   "version": "3.6.3"
  }
 },
 "nbformat": 4,
 "nbformat_minor": 2
}
