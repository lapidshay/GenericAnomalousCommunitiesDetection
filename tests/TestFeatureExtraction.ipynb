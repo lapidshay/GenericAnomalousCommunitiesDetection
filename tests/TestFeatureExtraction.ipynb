{
 "cells": [
  {
   "cell_type": "code",
   "execution_count": 1,
   "metadata": {},
   "outputs": [],
   "source": [
    "from AnomalousCommunityDetection.GraphSampler import GraphSampler\n",
    "from AnomalousCommunityDetection.BiPartiteConverter import BiPartiteConverter\n",
    "from AnomalousCommunityDetection.FeatureExtractor import FeatureExtractor\n",
    "from AnomalousCommunityDetection.LinkPredictor import LinkPredictor\n",
    "from AnomalousCommunityDetection.MetaFeatureExtractor import MetaFeatureExtractor\n",
    "from AnomalousCommunityDetection.MetaFeatureRanker import MetaFeatureRanker\n",
    "\n",
    "from AnomalousCommunityDetection.Utils import BiPartiteUtils\n",
    "from AnomalyInfusedCommunityStructuredRandomNetworkGenerator.AnomalyInfusedCommunityStructuredRandomNetworkGenerator import AnomalyInfusedCommunityStructuredRandomNetworkGenerator"
   ]
  },
  {
   "cell_type": "code",
   "execution_count": 2,
   "metadata": {},
   "outputs": [],
   "source": [
    "import matplotlib.pyplot as plt\n",
    "import networkx as nx\n",
    "from networkx.generators.random_graphs import erdos_renyi_graph, barabasi_albert_graph\n",
    "import numpy as np\n",
    "import random\n",
    "import json\n",
    "import pandas as pd\n",
    "%matplotlib inline  "
   ]
  },
  {
   "cell_type": "markdown",
   "metadata": {},
   "source": [
    "# Check against a generatd network"
   ]
  },
  {
   "cell_type": "markdown",
   "metadata": {},
   "source": [
    "#### Generate a ranomd community-structured network"
   ]
  },
  {
   "cell_type": "code",
   "execution_count": 3,
   "metadata": {},
   "outputs": [],
   "source": [
    "random_seed = 1"
   ]
  },
  {
   "cell_type": "code",
   "execution_count": 4,
   "metadata": {},
   "outputs": [],
   "source": [
    "norm_comm_alg = barabasi_albert_graph\n",
    "normal_community_sizes = [30, 35, 35, 40]*50\n",
    "#normal_community_sizes = [10]*9\n",
    "\n",
    "normal_m = 1"
   ]
  },
  {
   "cell_type": "code",
   "execution_count": 5,
   "metadata": {},
   "outputs": [],
   "source": [
    "anom_comm_alg = erdos_renyi_graph\n",
    "anom_community_sizes = [30, 35, 35, 40]*5\n",
    "#anom_community_sizes = [10]*1\n",
    "anom_m = 0.8"
   ]
  },
  {
   "cell_type": "code",
   "execution_count": 6,
   "metadata": {},
   "outputs": [],
   "source": [
    "p_inter = 0.3\n",
    "k_min = 1\n",
    "k_max = 1"
   ]
  },
  {
   "cell_type": "code",
   "execution_count": 7,
   "metadata": {},
   "outputs": [],
   "source": [
    "simulator = AnomalyInfusedCommunityStructuredRandomNetworkGenerator(norm_comm_alg, anom_comm_alg, p_inter, k_min, k_max, random_seed)"
   ]
  },
  {
   "cell_type": "code",
   "execution_count": 8,
   "metadata": {},
   "outputs": [],
   "source": [
    "G = simulator.generate_partition_graph(normal_community_sizes, normal_m)"
   ]
  },
  {
   "cell_type": "code",
   "execution_count": 9,
   "metadata": {},
   "outputs": [],
   "source": [
    "anom_infused_G = simulator.add_anomalous_comms(anom_community_sizes, anom_m)"
   ]
  },
  {
   "cell_type": "code",
   "execution_count": 10,
   "metadata": {},
   "outputs": [],
   "source": [
    "#nx.draw(G)"
   ]
  },
  {
   "cell_type": "code",
   "execution_count": 11,
   "metadata": {},
   "outputs": [],
   "source": [
    "#nx.draw(anom_infused_G)"
   ]
  },
  {
   "cell_type": "code",
   "execution_count": 12,
   "metadata": {},
   "outputs": [
    {
     "data": {
      "text/plain": [
       "['comm0001',\n",
       " 'comm0002',\n",
       " 'comm0003',\n",
       " 'comm0004',\n",
       " 'comm0005',\n",
       " 'comm0006',\n",
       " 'comm0007',\n",
       " 'comm0008',\n",
       " 'comm0009',\n",
       " 'comm0010',\n",
       " 'comm0011',\n",
       " 'comm0012',\n",
       " 'comm0013',\n",
       " 'comm0014',\n",
       " 'comm0015',\n",
       " 'comm0016',\n",
       " 'comm0017',\n",
       " 'comm0018',\n",
       " 'comm0019',\n",
       " 'comm0020',\n",
       " 'comm0021',\n",
       " 'comm0022',\n",
       " 'comm0023',\n",
       " 'comm0024',\n",
       " 'comm0025',\n",
       " 'comm0026',\n",
       " 'comm0027',\n",
       " 'comm0028',\n",
       " 'comm0029',\n",
       " 'comm0030',\n",
       " 'comm0031',\n",
       " 'comm0032',\n",
       " 'comm0033',\n",
       " 'comm0034',\n",
       " 'comm0035',\n",
       " 'comm0036',\n",
       " 'comm0037',\n",
       " 'comm0038',\n",
       " 'comm0039',\n",
       " 'comm0040',\n",
       " 'comm0041',\n",
       " 'comm0042',\n",
       " 'comm0043',\n",
       " 'comm0044',\n",
       " 'comm0045',\n",
       " 'comm0046',\n",
       " 'comm0047',\n",
       " 'comm0048',\n",
       " 'comm0049',\n",
       " 'comm0050',\n",
       " 'comm0051',\n",
       " 'comm0052',\n",
       " 'comm0053',\n",
       " 'comm0054',\n",
       " 'comm0055',\n",
       " 'comm0056',\n",
       " 'comm0057',\n",
       " 'comm0058',\n",
       " 'comm0059',\n",
       " 'comm0060',\n",
       " 'comm0061',\n",
       " 'comm0062',\n",
       " 'comm0063',\n",
       " 'comm0064',\n",
       " 'comm0065',\n",
       " 'comm0066',\n",
       " 'comm0067',\n",
       " 'comm0068',\n",
       " 'comm0069',\n",
       " 'comm0070',\n",
       " 'comm0071',\n",
       " 'comm0072',\n",
       " 'comm0073',\n",
       " 'comm0074',\n",
       " 'comm0075',\n",
       " 'comm0076',\n",
       " 'comm0077',\n",
       " 'comm0078',\n",
       " 'comm0079',\n",
       " 'comm0080',\n",
       " 'comm0081',\n",
       " 'comm0082',\n",
       " 'comm0083',\n",
       " 'comm0084',\n",
       " 'comm0085',\n",
       " 'comm0086',\n",
       " 'comm0087',\n",
       " 'comm0088',\n",
       " 'comm0089',\n",
       " 'comm0090',\n",
       " 'comm0091',\n",
       " 'comm0092',\n",
       " 'comm0093',\n",
       " 'comm0094',\n",
       " 'comm0095',\n",
       " 'comm0096',\n",
       " 'comm0097',\n",
       " 'comm0098',\n",
       " 'comm0099',\n",
       " 'comm0100',\n",
       " 'comm0101',\n",
       " 'comm0102',\n",
       " 'comm0103',\n",
       " 'comm0104',\n",
       " 'comm0105',\n",
       " 'comm0106',\n",
       " 'comm0107',\n",
       " 'comm0108',\n",
       " 'comm0109',\n",
       " 'comm0110',\n",
       " 'comm0111',\n",
       " 'comm0112',\n",
       " 'comm0113',\n",
       " 'comm0114',\n",
       " 'comm0115',\n",
       " 'comm0116',\n",
       " 'comm0117',\n",
       " 'comm0118',\n",
       " 'comm0119',\n",
       " 'comm0120',\n",
       " 'comm0121',\n",
       " 'comm0122',\n",
       " 'comm0123',\n",
       " 'comm0124',\n",
       " 'comm0125',\n",
       " 'comm0126',\n",
       " 'comm0127',\n",
       " 'comm0128',\n",
       " 'comm0129',\n",
       " 'comm0130',\n",
       " 'comm0131',\n",
       " 'comm0132',\n",
       " 'comm0133',\n",
       " 'comm0134',\n",
       " 'comm0135',\n",
       " 'comm0136',\n",
       " 'comm0137',\n",
       " 'comm0138',\n",
       " 'comm0139',\n",
       " 'comm0140',\n",
       " 'comm0141',\n",
       " 'comm0142',\n",
       " 'comm0143',\n",
       " 'comm0144',\n",
       " 'comm0145',\n",
       " 'comm0146',\n",
       " 'comm0147',\n",
       " 'comm0148',\n",
       " 'comm0149',\n",
       " 'comm0150',\n",
       " 'comm0151',\n",
       " 'comm0152',\n",
       " 'comm0153',\n",
       " 'comm0154',\n",
       " 'comm0155',\n",
       " 'comm0156',\n",
       " 'comm0157',\n",
       " 'comm0158',\n",
       " 'comm0159',\n",
       " 'comm0160',\n",
       " 'comm0161',\n",
       " 'comm0162',\n",
       " 'comm0163',\n",
       " 'comm0164',\n",
       " 'comm0165',\n",
       " 'comm0166',\n",
       " 'comm0167',\n",
       " 'comm0168',\n",
       " 'comm0169',\n",
       " 'comm0170',\n",
       " 'comm0171',\n",
       " 'comm0172',\n",
       " 'comm0173',\n",
       " 'comm0174',\n",
       " 'comm0175',\n",
       " 'comm0176',\n",
       " 'comm0177',\n",
       " 'comm0178',\n",
       " 'comm0179',\n",
       " 'comm0180',\n",
       " 'comm0181',\n",
       " 'comm0182',\n",
       " 'comm0183',\n",
       " 'comm0184',\n",
       " 'comm0185',\n",
       " 'comm0186',\n",
       " 'comm0187',\n",
       " 'comm0188',\n",
       " 'comm0189',\n",
       " 'comm0190',\n",
       " 'comm0191',\n",
       " 'comm0192',\n",
       " 'comm0193',\n",
       " 'comm0194',\n",
       " 'comm0195',\n",
       " 'comm0196',\n",
       " 'comm0197',\n",
       " 'comm0198',\n",
       " 'comm0199',\n",
       " 'comm0200',\n",
       " 'comm0201',\n",
       " 'comm0202',\n",
       " 'comm0203',\n",
       " 'comm0204',\n",
       " 'comm0205',\n",
       " 'comm0206',\n",
       " 'comm0207',\n",
       " 'comm0208',\n",
       " 'comm0209',\n",
       " 'comm0210',\n",
       " 'comm0211',\n",
       " 'comm0212',\n",
       " 'comm0213',\n",
       " 'comm0214',\n",
       " 'comm0215',\n",
       " 'comm0216',\n",
       " 'comm0217',\n",
       " 'comm0218',\n",
       " 'comm0219',\n",
       " 'comm0220']"
      ]
     },
     "execution_count": 12,
     "metadata": {},
     "output_type": "execute_result"
    }
   ],
   "source": [
    "list(simulator.get_partitions().keys())"
   ]
  },
  {
   "cell_type": "code",
   "execution_count": 13,
   "metadata": {},
   "outputs": [],
   "source": [
    "file_path = 'GeneratedPartitions.json'"
   ]
  },
  {
   "cell_type": "code",
   "execution_count": 14,
   "metadata": {},
   "outputs": [],
   "source": [
    "simulator.save_partitions(file_path)"
   ]
  },
  {
   "cell_type": "markdown",
   "metadata": {},
   "source": [
    "#### Convert to BiPartite"
   ]
  },
  {
   "cell_type": "code",
   "execution_count": 15,
   "metadata": {},
   "outputs": [],
   "source": [
    "converter_train = BiPartiteConverter(file_path)\n",
    "converter_test = BiPartiteConverter(file_path)"
   ]
  },
  {
   "cell_type": "code",
   "execution_count": 16,
   "metadata": {},
   "outputs": [],
   "source": [
    "BPG_train = converter_train.generate_bipartite_graph(list(simulator.get_partitions().keys())[:50])\n",
    "BPG_test = converter_test.generate_bipartite_graph(list(simulator.get_partitions().keys())[50:])"
   ]
  },
  {
   "cell_type": "code",
   "execution_count": 17,
   "metadata": {},
   "outputs": [
    {
     "name": "stdout",
     "output_type": "stream",
     "text": [
      "BiPartite graph properties:\n",
      "\tNumber of 'Community'-partite nodes: 50\n",
      "\tNumber of 'Vertex'-partite nodes: 2179\n",
      "\tTotal number of nodes: 2229\n",
      "\tTotal number of edges: 2288\n"
     ]
    }
   ],
   "source": [
    "converter_train.print_properties()"
   ]
  },
  {
   "cell_type": "code",
   "execution_count": 18,
   "metadata": {},
   "outputs": [
    {
     "name": "stdout",
     "output_type": "stream",
     "text": [
      "BiPartite graph properties:\n",
      "\tNumber of 'Community'-partite nodes: 170\n",
      "\tNumber of 'Vertex'-partite nodes: 6357\n",
      "\tTotal number of nodes: 6527\n",
      "\tTotal number of edges: 7667\n"
     ]
    }
   ],
   "source": [
    "converter_test.print_properties()"
   ]
  },
  {
   "cell_type": "code",
   "execution_count": null,
   "metadata": {},
   "outputs": [],
   "source": [
    "BPG_train.nodes"
   ]
  },
  {
   "cell_type": "code",
   "execution_count": null,
   "metadata": {},
   "outputs": [],
   "source": [
    "BPG_test.nodes"
   ]
  },
  {
   "cell_type": "code",
   "execution_count": null,
   "metadata": {},
   "outputs": [],
   "source": [
    "#nx.draw_shell(BPG_train, with_labels=True)"
   ]
  },
  {
   "cell_type": "code",
   "execution_count": null,
   "metadata": {},
   "outputs": [],
   "source": [
    "#nx.draw_shell(BPG_test, with_labels=True)"
   ]
  },
  {
   "cell_type": "code",
   "execution_count": null,
   "metadata": {},
   "outputs": [],
   "source": [
    "BiPartiteUtils.print_bipartite_properties(BPG_train)"
   ]
  },
  {
   "cell_type": "code",
   "execution_count": null,
   "metadata": {},
   "outputs": [],
   "source": [
    "BiPartiteUtils.print_bipartite_properties(BPG_test)"
   ]
  },
  {
   "cell_type": "markdown",
   "metadata": {},
   "source": [
    "#### Sample Graph"
   ]
  },
  {
   "cell_type": "code",
   "execution_count": null,
   "metadata": {},
   "outputs": [],
   "source": [
    "graph_sampler = GraphSampler('Community', 'Vertex')"
   ]
  },
  {
   "cell_type": "code",
   "execution_count": null,
   "metadata": {},
   "outputs": [],
   "source": [
    "train_set_positive_edges, train_set_negative_edge = graph_sampler.sample_single_graph_edges(BPG_train, None, True)"
   ]
  },
  {
   "cell_type": "code",
   "execution_count": null,
   "metadata": {},
   "outputs": [],
   "source": [
    "test_set_positive_edges, _ = graph_sampler.sample_single_graph_edges(BPG_test, None, False)"
   ]
  },
  {
   "cell_type": "code",
   "execution_count": null,
   "metadata": {},
   "outputs": [],
   "source": [
    "def verify(pos_edges, neg_edges, bpg):\n",
    "    print(f'num pos edges: {len(pos_edges)}')\n",
    "    print(f'num neg edges: {len(neg_edges)}')\n",
    "    \n",
    "    # check that the graph contains all positive edges. sum should be equal to number of positive edges.\n",
    "    print(f'graph contains positive edges: {np.array([bpg.has_edge(*edge) for edge in pos_edges]).sum()} == {len(pos_edges)}')\n",
    "    \n",
    "    # check that the graph contains all positive edges. sum should be equal to number of positive edges.\n",
    "    print(f'graph contains negative edges: {np.array([bpg.has_edge(*edge) for edge in neg_edges]).sum()} == 0')\n"
   ]
  },
  {
   "cell_type": "code",
   "execution_count": null,
   "metadata": {},
   "outputs": [],
   "source": [
    "verify(train_set_positive_edges, train_set_negative_edge, BPG_train)"
   ]
  },
  {
   "cell_type": "code",
   "execution_count": null,
   "metadata": {},
   "outputs": [],
   "source": [
    "verify(test_set_positive_edges, [], BPG_test)"
   ]
  },
  {
   "cell_type": "markdown",
   "metadata": {},
   "source": [
    "#### Extract topological features"
   ]
  },
  {
   "cell_type": "code",
   "execution_count": null,
   "metadata": {},
   "outputs": [],
   "source": [
    "train_feature_extractor = FeatureExtractor(BPG_train)\n",
    "test_feature_extractor = FeatureExtractor(BPG_test)"
   ]
  },
  {
   "cell_type": "code",
   "execution_count": null,
   "metadata": {},
   "outputs": [],
   "source": [
    "topo_feat_df_train = train_feature_extractor.create_topological_features_df(train_set_positive_edges, train_set_negative_edge)"
   ]
  },
  {
   "cell_type": "code",
   "execution_count": null,
   "metadata": {},
   "outputs": [],
   "source": [
    "topo_feat_df_test = test_feature_extractor.create_topological_features_df(test_set_positive_edges, None, save_path='try.csv', save_csv=True)"
   ]
  },
  {
   "cell_type": "code",
   "execution_count": null,
   "metadata": {},
   "outputs": [],
   "source": [
    "topo_feat_df_train"
   ]
  },
  {
   "cell_type": "code",
   "execution_count": null,
   "metadata": {},
   "outputs": [],
   "source": [
    "topo_feat_df_test.head()"
   ]
  },
  {
   "cell_type": "code",
   "execution_count": null,
   "metadata": {},
   "outputs": [],
   "source": [
    "topo_feat_df_test_after_read = pd.read_csv('try.csv', index_col=0)\n",
    "topo_feat_df_test_after_read.head()"
   ]
  },
  {
   "cell_type": "code",
   "execution_count": null,
   "metadata": {},
   "outputs": [],
   "source": [
    "topo_feat_df_test.index"
   ]
  },
  {
   "cell_type": "code",
   "execution_count": null,
   "metadata": {},
   "outputs": [],
   "source": [
    "topo_feat_df_test_after_read.index[0]"
   ]
  },
  {
   "cell_type": "markdown",
   "metadata": {},
   "source": [
    "#### Classifier"
   ]
  },
  {
   "cell_type": "code",
   "execution_count": null,
   "metadata": {},
   "outputs": [],
   "source": [
    "from xgboost import XGBClassifier"
   ]
  },
  {
   "cell_type": "code",
   "execution_count": null,
   "metadata": {},
   "outputs": [],
   "source": [
    "# instantiate topological feature classifier, with a classifier object and train set\n",
    "topo_feat_clf = LinkPredictor(XGBClassifier())"
   ]
  },
  {
   "cell_type": "code",
   "execution_count": null,
   "metadata": {},
   "outputs": [],
   "source": [
    "topo_feat_clf.fit(topo_feat_df_train, 'link_exist', verbose=True)"
   ]
  },
  {
   "cell_type": "code",
   "execution_count": null,
   "metadata": {},
   "outputs": [],
   "source": [
    "edges_exist_prob_dict = topo_feat_clf.get_edges_existence_prob(topo_feat_df_test, verbose=True)"
   ]
  },
  {
   "cell_type": "code",
   "execution_count": null,
   "metadata": {},
   "outputs": [],
   "source": [
    "topo_feat_df_test"
   ]
  },
  {
   "cell_type": "markdown",
   "metadata": {},
   "source": [
    "#### Meta-Feature Extraction"
   ]
  },
  {
   "cell_type": "code",
   "execution_count": null,
   "metadata": {},
   "outputs": [],
   "source": [
    "meta_feat_extractor = MetaFeatureExtractor(edges_exist_prob_dict)\n",
    "meta_feats_dict = meta_feat_extractor.get_comm_repr_vertices_meta_features(thresh=0.5)"
   ]
  },
  {
   "cell_type": "code",
   "execution_count": null,
   "metadata": {},
   "outputs": [],
   "source": [
    "pd.DataFrame.from_dict(meta_feats_dict, orient='index').head()"
   ]
  },
  {
   "cell_type": "markdown",
   "metadata": {},
   "source": [
    "#### MetaFeatureRanker"
   ]
  },
  {
   "cell_type": "code",
   "execution_count": null,
   "metadata": {},
   "outputs": [],
   "source": [
    "meta_feat_ranker = MetaFeatureRanker(meta_feats_dict)"
   ]
  },
  {
   "cell_type": "code",
   "execution_count": null,
   "metadata": {},
   "outputs": [],
   "source": [
    "meta_feat_ranker.rank_columns()"
   ]
  },
  {
   "cell_type": "code",
   "execution_count": null,
   "metadata": {},
   "outputs": [],
   "source": [
    "meta_feat_ranker.sort_by_meta_features(2, 'bottom')[:5]"
   ]
  },
  {
   "cell_type": "markdown",
   "metadata": {},
   "source": [
    "# Check against Wikipedia"
   ]
  },
  {
   "cell_type": "code",
   "execution_count": null,
   "metadata": {},
   "outputs": [],
   "source": [
    "WIKIPEDIA_PAGE_USER_DICT_PATH = 'E:\\\\Datasets\\\\WikipediaHE\\\\ProcessedData\\\\PageUserDict_2018-01-01_2019-01-01.json'\n",
    "TRAIN_SET_COMMS_PATH = 'HeWikiTrainSetCats.json'"
   ]
  },
  {
   "cell_type": "code",
   "execution_count": null,
   "metadata": {},
   "outputs": [],
   "source": [
    "with open(TRAIN_SET_COMMS_PATH, 'r') as file:\n",
    "    train_cats = list(json.load(file).keys())"
   ]
  },
  {
   "cell_type": "code",
   "execution_count": null,
   "metadata": {},
   "outputs": [],
   "source": [
    "len(train_cats)"
   ]
  },
  {
   "cell_type": "code",
   "execution_count": null,
   "metadata": {},
   "outputs": [],
   "source": [
    "convertor = BiPartiteConverter(WIKIPEDIA_PAGE_USER_DICT_PATH)"
   ]
  },
  {
   "cell_type": "code",
   "execution_count": null,
   "metadata": {},
   "outputs": [],
   "source": [
    "community_partite_label = 'Page'\n",
    "vertex_partite_label = 'Wikipedian'"
   ]
  },
  {
   "cell_type": "code",
   "execution_count": null,
   "metadata": {},
   "outputs": [],
   "source": [
    "WikiBPG = convertor.generate_bipartite_graph(train_cats, community_partite_label, vertex_partite_label)"
   ]
  },
  {
   "cell_type": "code",
   "execution_count": null,
   "metadata": {},
   "outputs": [],
   "source": [
    "BiPartiteUtils.print_bipartite_properties(WikiBPG)"
   ]
  },
  {
   "cell_type": "code",
   "execution_count": null,
   "metadata": {},
   "outputs": [],
   "source": [
    "sampler = GraphSampler(WikiBPG, community_partite_label, vertex_partite_label)"
   ]
  },
  {
   "cell_type": "code",
   "execution_count": null,
   "metadata": {},
   "outputs": [],
   "source": [
    "positive_edges, negative_edges = sampler.sample_single_graph_edges(5000, True)"
   ]
  },
  {
   "cell_type": "code",
   "execution_count": null,
   "metadata": {},
   "outputs": [],
   "source": [
    "len(positive_edges)"
   ]
  },
  {
   "cell_type": "code",
   "execution_count": null,
   "metadata": {},
   "outputs": [],
   "source": [
    "len(negative_edges)"
   ]
  },
  {
   "cell_type": "code",
   "execution_count": null,
   "metadata": {},
   "outputs": [],
   "source": [
    "# check that the graph contains all positive edges. sum should be equal to number of positive edges.\n",
    "np.array([WikiBPG.has_edge(*edge) for edge in positive_edges]).sum()"
   ]
  },
  {
   "cell_type": "code",
   "execution_count": null,
   "metadata": {
    "scrolled": true
   },
   "outputs": [],
   "source": [
    "# check that the graph does not contain negative edges. sum should be 0.\n",
    "np.array([WikiBPG.has_edge(*edge) for edge in negative_edges]).sum()"
   ]
  },
  {
   "cell_type": "code",
   "execution_count": null,
   "metadata": {},
   "outputs": [],
   "source": []
  },
  {
   "cell_type": "code",
   "execution_count": null,
   "metadata": {},
   "outputs": [],
   "source": []
  }
 ],
 "metadata": {
  "kernelspec": {
   "display_name": "Python 3",
   "language": "python",
   "name": "python3"
  },
  "language_info": {
   "codemirror_mode": {
    "name": "ipython",
    "version": 3
   },
   "file_extension": ".py",
   "mimetype": "text/x-python",
   "name": "python",
   "nbconvert_exporter": "python",
   "pygments_lexer": "ipython3",
   "version": "3.6.3"
  }
 },
 "nbformat": 4,
 "nbformat_minor": 2
}
